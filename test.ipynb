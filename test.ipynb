{
 "cells": [
  {
   "cell_type": "code",
   "execution_count": 10,
   "metadata": {},
   "outputs": [],
   "source": [
    "from utils import make_need_tree,visualize_tree,make_storage,make_task_list,calc_start_end_time\n",
    "import plotly.express as px\n",
    "import pandas as pd\n",
    "import json\n",
    "import random\n",
    "import copy\n",
    "import matplotlib.pyplot as plt\n",
    "from tqdm import tqdm\n",
    "import graphviz"
   ]
  },
  {
   "cell_type": "code",
   "execution_count": 11,
   "metadata": {},
   "outputs": [
    {
     "data": {
      "text/plain": [
       "118"
      ]
     },
     "execution_count": 11,
     "metadata": {},
     "output_type": "execute_result"
    }
   ],
   "source": [
    "storage = make_storage()\n",
    "storage['fishing net']=20\n",
    "storage['apple']=20\n",
    "storage['wool']=20\n",
    "storage['fish fillet']=100\n",
    "orders = [\n",
    "            *['milk']*4,\n",
    "            *['bread']*3,\n",
    "            *['cheesecake']*3,\n",
    "            *['apple pie']*2,\n",
    "                      ]\n",
    "tasks=make_task_list(orders,storage)\n",
    "len(tasks)"
   ]
  },
  {
   "cell_type": "code",
   "execution_count": 12,
   "metadata": {},
   "outputs": [
    {
     "data": {
      "text/plain": [
       "'big_depencies.gv.pdf'"
      ]
     },
     "execution_count": 12,
     "metadata": {},
     "output_type": "execute_result"
    }
   ],
   "source": [
    "# orders to count dict\n",
    "orders_count={}\n",
    "for order in orders:\n",
    "    if order in orders_count:\n",
    "        orders_count[order]+=1\n",
    "    else:\n",
    "        orders_count[order]=1\n",
    "\n",
    "big_dot = graphviz.Digraph()\n",
    "for order in orders_count:\n",
    "    tree= make_need_tree(order,orders_count[order])\n",
    "    dot = visualize_tree(tree)\n",
    "    big_dot.subgraph(dot)\n",
    "# add title to the big tree and make it on top\n",
    "big_dot.render('big_depencies.gv', view=True)"
   ]
  },
  {
   "cell_type": "code",
   "execution_count": 13,
   "metadata": {},
   "outputs": [],
   "source": [
    "# number of machines\n",
    "sources={\n",
    "    'Bakery':1, 'Chicken':2, 'Feed Mill':1, 'Field':6   , 'Raspberry bush':1,'Sugar Mill':1,'Cake Oven':1,\n",
    "    'Cherry tree':2,'Cow':4,'BBQ Grill':1,'Dairy':1,\"Pig\":4,'Popcorn Pot':1,'Loom':1,'Sewing Machine':1,\n",
    "    'Sheep':2,\n",
    "    'Pie Oven':1,\n",
    "    'Net Maker':1,\n",
    "    'Fish':3\n",
    "}\n",
    "machines ={}\n",
    "# make machines is: key is same as sources, value is a list of machine_id\n",
    "# machine_id must be unique from other machines\n",
    "count  = 0\n",
    "for key,value in sources.items():\n",
    "    machines[key]=list(range(count,count+value))\n",
    "    count+=value"
   ]
  },
  {
   "cell_type": "code",
   "execution_count": 14,
   "metadata": {},
   "outputs": [],
   "source": [
    "import random\n",
    "\n",
    "def make_chromosome(tasks,machines):\n",
    "    tasks = copy.deepcopy(tasks)\n",
    "    random.shuffle(tasks)\n",
    "    tasks.sort(key=lambda x:x['order'],reverse=True)\n",
    "    for task in tasks:\n",
    "        machine_id=random.choice(machines[task['source']])\n",
    "        machine_id=machines[task['source']][0]\n",
    "        task['machine_id']=machine_id\n",
    "    return tasks\n",
    "\n",
    "def calc_fitness(chromosome):\n",
    "    \"\"\"calculate the fitness of a chromosome\n",
    "    chromosome: a chromosome\n",
    "    \n",
    "    return: a fitness value\n",
    "    \"\"\"\n",
    "    score = 0\n",
    "    chromosome = calc_start_end_time(chromosome,machines)\n",
    "    # maximum end_time\n",
    "    max_end_time = max([task['end_time'] for task in chromosome])\n",
    "    score += 10000/max_end_time\n",
    "    for task in chromosome:\n",
    "        if task['target']:\n",
    "            score+=1/task['end_time']\n",
    "    return score\n",
    "    \n",
    "def mutation(chromosome):\n",
    "    \"\"\"mutate a chromosome\n",
    "    chromosome: a chromosome\n",
    "    \n",
    "    return: a chromosome\n",
    "    \"\"\"\n",
    "    chromosome = copy.deepcopy(chromosome)\n",
    "    if random.random()<0.2:\n",
    "        if random.random()<0.5:\n",
    "            for i in range(len(chromosome)):\n",
    "                if random.random()<0.5:\n",
    "                    gen = chromosome[i]\n",
    "                    # new_machine_id = random.choice(machines[gen['source']])\n",
    "                    idx = machines[gen['source']].index(gen['machine_id'])\n",
    "                    new_machine_id = machines[gen['source']][(idx+1)%len(machines[gen['source']])]\n",
    "                    gen['machine_id']=new_machine_id\n",
    "        else:\n",
    "            gen1,gen2 = random.sample(chromosome,2)\n",
    "            idx1 = chromosome.index(gen1)\n",
    "            idx2 = chromosome.index(gen2)\n",
    "            if idx1>idx2:\n",
    "                gen1,gen2=gen2,gen1\n",
    "            if gen1['order']>=gen2['order']:\n",
    "                chromosome[idx1],chromosome[idx2]=chromosome[idx2],chromosome[idx1]\n",
    "    return chromosome\n",
    "\n",
    "def order_crossover(parent1, parent2):\n",
    "    \"\"\"\n",
    "    Perform Order Crossover on two parent chromosomes.\n",
    "\n",
    "    Args:\n",
    "    parent1 (list): The first parent chromosome.\n",
    "    parent2 (list): The second parent chromosome.\n",
    "\n",
    "    Returns:\n",
    "    tuple: A tuple containing two new child chromosomes.\n",
    "    \"\"\"\n",
    "    size = len(parent1)\n",
    "    child1, child2 = [-1] * size, [-1] * size\n",
    "\n",
    "    # Select a random subsequence from the first parent\n",
    "    start, end = sorted([random.randint(0, size - 1) for _ in range(2)])\n",
    "    child1[start:end+1] = parent1[start:end+1]\n",
    "    child2[start:end+1] = parent2[start:end+1]\n",
    "\n",
    "    # Fill the remaining positions with genes from the second parent\n",
    "    fill_remaining(child1, parent2, start, end)\n",
    "    fill_remaining(child2, parent1, start, end)\n",
    "\n",
    "    return child1, child2\n",
    "\n",
    "def fill_remaining(child, parent, start, end):\n",
    "    \"\"\"\n",
    "    Fill the remaining positions in the child chromosome.\n",
    "\n",
    "    Args:\n",
    "    child (list): The child chromosome being filled.\n",
    "    parent (list): The parent chromosome to fill from.\n",
    "    start (int): The start index of the subsequence.\n",
    "    end (int): The end index of the subsequence.\n",
    "    \"\"\"\n",
    "    size = len(child)\n",
    "    p_idx, c_idx = 0, 0\n",
    "\n",
    "    while -1 in child:\n",
    "        if parent[p_idx] not in child:\n",
    "            if c_idx >= start and c_idx <= end:\n",
    "                c_idx = end + 1\n",
    "            child[c_idx % size] = parent[p_idx]\n",
    "            c_idx += 1\n",
    "        p_idx += 1\n",
    "\n",
    "def crossover(parent1,parent2):\n",
    "    parent1 = copy.deepcopy(parent1)\n",
    "    parent2 = copy.deepcopy(parent2)\n",
    "    if random.random()<0.2:\n",
    "        return parent1,parent2\n",
    "    ids1 = [t['id'] for t in parent1]\n",
    "    ids2 = [t['id'] for t in parent2]\n",
    "    child1,child2 = order_crossover(ids1,ids2)\n",
    "    # replace id with task\n",
    "    child1 = [parent1[ids1.index(id)] for id in child1]\n",
    "    child2 = [parent2[ids2.index(id)]  for id in child2]\n",
    "\n",
    "    # swap machine_id from child1 and child2.\n",
    "    # loop thourgh child1, find task in child2 with same id\n",
    "    # swap machine_id\n",
    "    for task1 in child1:\n",
    "        if random.random()>0.5:\n",
    "            task2 = [task for task in child2 if task['id']==task1['id']][0]\n",
    "            task1['machine_id'],task2['machine_id']=task2['machine_id'],task1['machine_id']\n",
    "    return child1,child2"
   ]
  },
  {
   "cell_type": "code",
   "execution_count": 15,
   "metadata": {},
   "outputs": [],
   "source": [
    "def plot_gantt(chromosome,machines):\n",
    "    test_tasks = calc_start_end_time(chromosome,machines)\n",
    "    df = pd.DataFrame(test_tasks)\n",
    "    # task is source + machine_id\n",
    "    df['task']=df['source']+' '+df['machine_id'].astype(str)\n",
    "    df['start'] = pd.to_datetime('today')+pd.to_timedelta(df['start_time'],unit='s')\n",
    "    df['end'] = pd.to_datetime('today')+pd.to_timedelta(df['end_time'],unit='s')\n",
    "    fig = px.timeline(df, x_start=\"start\", x_end=\"end\", y=\"task\", color=\"name\",hover_name='name', \n",
    "                        hover_data={'id':True,'duration':True,'start':False,'end':False,'task':False,'name':False,'source':False,'machine_id':False,'dependencies':True})\n",
    "    fig.update_yaxes(categoryorder='array',categoryarray=df.sort_values('machine_id')['task'].unique())\n",
    "    # title is\n",
    "    return fig"
   ]
  },
  {
   "cell_type": "code",
   "execution_count": 16,
   "metadata": {},
   "outputs": [
    {
     "name": "stdout",
     "output_type": "stream",
     "text": [
      "iteration 0, best fitness 0.11952186988385297, best time 83820\n",
      "iteration 1, best fitness 0.12187663501172863, best time 82200\n",
      "iteration 2, best fitness 0.15157372670756364, best time 66120\n",
      "iteration 3, best fitness 0.15157372670756364, best time 66120\n",
      "iteration 4, best fitness 0.15157372670756364, best time 66120\n",
      "iteration 5, best fitness 0.15384157340427146, best time 65160\n",
      "iteration 6, best fitness 0.15384157340427146, best time 65160\n",
      "iteration 7, best fitness 0.1592805816160867, best time 62940\n",
      "iteration 8, best fitness 0.16384388476498457, best time 61200\n",
      "iteration 9, best fitness 0.16384388476498457, best time 61200\n",
      "iteration 10, best fitness 0.16384388476498457, best time 61200\n",
      "iteration 11, best fitness 0.16384388476498457, best time 61200\n",
      "iteration 12, best fitness 0.16384388476498457, best time 61200\n",
      "iteration 13, best fitness 0.16384388476498457, best time 61200\n",
      "iteration 14, best fitness 0.16384388476498457, best time 61200\n",
      "iteration 15, best fitness 0.16384388476498457, best time 61200\n",
      "iteration 16, best fitness 0.16384388476498457, best time 61200\n",
      "iteration 17, best fitness 0.16384388476498457, best time 61200\n",
      "iteration 18, best fitness 0.16387668457545707, best time 61200\n",
      "iteration 19, best fitness 0.172310339723356, best time 58200\n",
      "iteration 20, best fitness 0.1723403613666561, best time 58200\n",
      "iteration 21, best fitness 0.1710816178662998, best time 58620\n",
      "iteration 22, best fitness 0.1635549309753399, best time 61320\n",
      "iteration 23, best fitness 0.17074668878120608, best time 58740\n",
      "iteration 24, best fitness 0.1707228721617692, best time 58740\n",
      "iteration 25, best fitness 0.17371995186033065, best time 57720\n",
      "iteration 26, best fitness 0.1661296321960866, best time 60360\n",
      "iteration 27, best fitness 0.1705847758141168, best time 58800\n",
      "iteration 28, best fitness 0.17055588730577054, best time 58800\n",
      "iteration 29, best fitness 0.17263344871394878, best time 58080\n",
      "iteration 30, best fitness 0.1726445736943664, best time 58080\n",
      "iteration 31, best fitness 0.1742966408035607, best time 57540\n",
      "iteration 32, best fitness 0.17540049885827838, best time 57180\n",
      "iteration 33, best fitness 0.17558432883376945, best time 57120\n",
      "iteration 34, best fitness 0.17558432883376945, best time 57120\n",
      "iteration 35, best fitness 0.17558432883376945, best time 57120\n",
      "iteration 36, best fitness 0.17558432883376945, best time 57120\n",
      "iteration 37, best fitness 0.17558432883376945, best time 57120\n",
      "iteration 38, best fitness 0.17558432883376945, best time 57120\n"
     ]
    }
   ],
   "source": [
    "# remove all files\n",
    "import os\n",
    "import shutil\n",
    "shutil.rmtree('ga',ignore_errors=True)\n",
    "os.makedirs('ga',exist_ok=True)\n",
    "# simple GA algorithm\n",
    "pop_size = 10\n",
    "iteration = 50\n",
    "fitness_history = []\n",
    "# generate inital population\n",
    "population = []\n",
    "for i in range(pop_size):\n",
    "    population.append(make_chromosome(tasks,machines))\n",
    "\n",
    "for i in range(iteration):\n",
    "    fitness = []\n",
    "    for chromosome in population:\n",
    "        fitness.append(calc_fitness(chromosome))\n",
    "    fitness_history.append(fitness)\n",
    "    best = max(fitness)\n",
    "    best_chromosome = population[fitness.index(best)]\n",
    "    print(f'iteration {i}, best fitness {best}, best time {max([task[\"end_time\"] for task in best_chromosome])}')\n",
    "    # generate new population\n",
    "    new_population = [best_chromosome]\n",
    "    for _ in range(pop_size):\n",
    "        # select parents\n",
    "        parent1,parent2 = random.choices(population,weights=fitness,k=2)\n",
    "        # crossover\n",
    "        child1,child2 = crossover(parent1,parent2)\n",
    "        # mutation\n",
    "        child1 = mutation(child1)\n",
    "        child2 = mutation(child2)\n",
    "        new_population.append(child1)\n",
    "        new_population.append(child2)\n",
    "    population = new_population\n",
    "    fig=plot_gantt(best_chromosome,machines)\n",
    "    fig.update_layout(title_text=f\"Iteration {i}, best fitness {best}, best time {max([task['end_time'] for task in best_chromosome])} seconds\")\n",
    "    fig.write_image(f'ga/iteration_{i}.png',width=1500,height=1000)\n"
   ]
  },
  {
   "cell_type": "code",
   "execution_count": null,
   "metadata": {},
   "outputs": [
    {
     "data": {
      "image/png": "[encoded data removed]",
      "text/plain": [
       "<Figure size 640x480 with 1 Axes>"
      ]
     },
     "metadata": {},
     "output_type": "display_data"
    }
   ],
   "source": [
    "# plot fitness history, 2 line: average and max fitness\n",
    "fitness_history = pd.DataFrame(fitness_history)\n",
    "fitness_history['avg'] = fitness_history.mean(axis=1)\n",
    "fitness_history['max'] = fitness_history.max(axis=1)\n",
    "plt.plot(fitness_history['avg'])\n",
    "plt.plot(fitness_history['max'])\n",
    "plt.legend(['avg','max'])\n",
    "plt.show()"
   ]
  },
  {
   "cell_type": "code",
   "execution_count": null,
   "metadata": {},
   "outputs": [
    {
     "name": "stderr",
     "output_type": "stream",
     "text": [
      "  0%|          | 0/50 [00:00<?, ?it/s]\n"
     ]
    },
    {
     "ename": "FileNotFoundError",
     "evalue": "[Errno 2] No such file or directory: 'ga/iteration_0.png'",
     "output_type": "error",
     "traceback": [
      "\u001b[0;31m---------------------------------------------------------------------------\u001b[0m",
      "\u001b[0;31mFileNotFoundError\u001b[0m                         Traceback (most recent call last)",
      "Cell \u001b[0;32mIn[9], line 7\u001b[0m\n\u001b[1;32m      5\u001b[0m \u001b[38;5;28;01mfor\u001b[39;00m i \u001b[38;5;129;01min\u001b[39;00m tqdm(\u001b[38;5;28mrange\u001b[39m(iteration)):\n\u001b[1;32m      6\u001b[0m     filename \u001b[38;5;241m=\u001b[39m \u001b[38;5;124mf\u001b[39m\u001b[38;5;124m'\u001b[39m\u001b[38;5;124mga/iteration_\u001b[39m\u001b[38;5;132;01m{\u001b[39;00mi\u001b[38;5;132;01m}\u001b[39;00m\u001b[38;5;124m.png\u001b[39m\u001b[38;5;124m'\u001b[39m\n\u001b[0;32m----> 7\u001b[0m     images\u001b[38;5;241m.\u001b[39mappend(\u001b[43mImage\u001b[49m\u001b[38;5;241;43m.\u001b[39;49m\u001b[43mopen\u001b[49m\u001b[43m(\u001b[49m\u001b[43mfilename\u001b[49m\u001b[43m)\u001b[49m)\n\u001b[1;32m      8\u001b[0m images[\u001b[38;5;241m0\u001b[39m]\u001b[38;5;241m.\u001b[39msave(\u001b[38;5;124m'\u001b[39m\u001b[38;5;124mga.gif\u001b[39m\u001b[38;5;124m'\u001b[39m,\n\u001b[1;32m      9\u001b[0m                save_all\u001b[38;5;241m=\u001b[39m\u001b[38;5;28;01mTrue\u001b[39;00m, append_images\u001b[38;5;241m=\u001b[39mimages[\u001b[38;5;241m1\u001b[39m:], optimize\u001b[38;5;241m=\u001b[39m\u001b[38;5;28;01mFalse\u001b[39;00m, duration\u001b[38;5;241m=\u001b[39m\u001b[38;5;241m250\u001b[39m, loop\u001b[38;5;241m=\u001b[39m\u001b[38;5;241m1\u001b[39m)\n",
      "File \u001b[0;32m~/opt/anaconda3/envs/rs/lib/python3.9/site-packages/PIL/Image.py:3227\u001b[0m, in \u001b[0;36mopen\u001b[0;34m(fp, mode, formats)\u001b[0m\n\u001b[1;32m   3224\u001b[0m     filename \u001b[38;5;241m=\u001b[39m fp\n\u001b[1;32m   3226\u001b[0m \u001b[38;5;28;01mif\u001b[39;00m filename:\n\u001b[0;32m-> 3227\u001b[0m     fp \u001b[38;5;241m=\u001b[39m \u001b[43mbuiltins\u001b[49m\u001b[38;5;241;43m.\u001b[39;49m\u001b[43mopen\u001b[49m\u001b[43m(\u001b[49m\u001b[43mfilename\u001b[49m\u001b[43m,\u001b[49m\u001b[43m \u001b[49m\u001b[38;5;124;43m\"\u001b[39;49m\u001b[38;5;124;43mrb\u001b[39;49m\u001b[38;5;124;43m\"\u001b[39;49m\u001b[43m)\u001b[49m\n\u001b[1;32m   3228\u001b[0m     exclusive_fp \u001b[38;5;241m=\u001b[39m \u001b[38;5;28;01mTrue\u001b[39;00m\n\u001b[1;32m   3230\u001b[0m \u001b[38;5;28;01mtry\u001b[39;00m:\n",
      "\u001b[0;31mFileNotFoundError\u001b[0m: [Errno 2] No such file or directory: 'ga/iteration_0.png'"
     ]
    }
   ],
   "source": [
    "# make gif with images in ga folder\n",
    "import os\n",
    "from PIL import Image, ImageSequence\n",
    "images = []\n",
    "for i in tqdm(range(iteration)):\n",
    "    filename = f'ga/iteration_{i}.png'\n",
    "    images.append(Image.open(filename))\n",
    "images[0].save('ga.gif',\n",
    "               save_all=True, append_images=images[1:], optimize=False, duration=250, loop=1)"
   ]
  },
  {
   "cell_type": "code",
   "execution_count": null,
   "metadata": {},
   "outputs": [],
   "source": [
    "# show gif in notebook loop\n",
    "from IPython.display import Image\n",
    "Image(url='ga.gif')"
   ]
  }
 ],
 "metadata": {
  "kernelspec": {
   "display_name": "me",
   "language": "python",
   "name": "python3"
  },
  "language_info": {
   "codemirror_mode": {
    "name": "ipython",
    "version": 3
   },
   "file_extension": ".py",
   "mimetype": "text/x-python",
   "name": "python",
   "nbconvert_exporter": "python",
   "pygments_lexer": "ipython3",
   "version": "3.9.16"
  }
 },
 "nbformat": 4,
 "nbformat_minor": 2
}
