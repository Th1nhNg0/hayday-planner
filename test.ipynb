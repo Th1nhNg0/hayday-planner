{
 "cells": [
  {
   "cell_type": "code",
   "execution_count": 52,
   "metadata": {},
   "outputs": [],
   "source": [
    "from utils import make_need_tree,visualize_tree,make_storage,make_task_list\n",
    "# visual test_tasks with gantt chart\n",
    "import plotly.express as px\n",
    "import pandas as pd\n",
    "import json"
   ]
  },
  {
   "cell_type": "code",
   "execution_count": 53,
   "metadata": {},
   "outputs": [],
   "source": [
    "name='strawberry cake'"
   ]
  },
  {
   "cell_type": "code",
   "execution_count": 54,
   "metadata": {},
   "outputs": [
    {
     "data": {
      "text/plain": [
       "[{'id': 1,\n",
       "  'name': 'corn',\n",
       "  'dependencies': [],\n",
       "  'duration': 300,\n",
       "  'source': 'Field',\n",
       "  'machine_id': None},\n",
       " {'id': 2,\n",
       "  'name': 'soybean',\n",
       "  'dependencies': [],\n",
       "  'duration': 1200,\n",
       "  'source': 'Field',\n",
       "  'machine_id': None},\n",
       " {'id': 3,\n",
       "  'name': 'soybean',\n",
       "  'dependencies': [],\n",
       "  'duration': 1200,\n",
       "  'source': 'Field',\n",
       "  'machine_id': None},\n",
       " {'id': 4,\n",
       "  'name': 'cow feed',\n",
       "  'dependencies': [1, 2, 3],\n",
       "  'duration': 600,\n",
       "  'source': 'Feed Mill',\n",
       "  'machine_id': None},\n",
       " {'id': 5,\n",
       "  'name': 'milk',\n",
       "  'dependencies': [1, 2, 3, 4],\n",
       "  'duration': 3600,\n",
       "  'source': 'Cow',\n",
       "  'machine_id': None},\n",
       " {'id': 6,\n",
       "  'name': 'cream',\n",
       "  'dependencies': [1, 2, 3, 4, 5],\n",
       "  'duration': 1200,\n",
       "  'source': 'Dairy',\n",
       "  'machine_id': None},\n",
       " {'id': 7,\n",
       "  'name': 'strawberry',\n",
       "  'dependencies': [],\n",
       "  'duration': 28800,\n",
       "  'source': 'Field',\n",
       "  'machine_id': None},\n",
       " {'id': 8,\n",
       "  'name': 'strawberry',\n",
       "  'dependencies': [],\n",
       "  'duration': 28800,\n",
       "  'source': 'Field',\n",
       "  'machine_id': None},\n",
       " {'id': 9,\n",
       "  'name': 'wheat',\n",
       "  'dependencies': [],\n",
       "  'duration': 120,\n",
       "  'source': 'Field',\n",
       "  'machine_id': None},\n",
       " {'id': 10,\n",
       "  'name': 'wheat',\n",
       "  'dependencies': [],\n",
       "  'duration': 120,\n",
       "  'source': 'Field',\n",
       "  'machine_id': None},\n",
       " {'id': 11,\n",
       "  'name': 'wheat',\n",
       "  'dependencies': [],\n",
       "  'duration': 120,\n",
       "  'source': 'Field',\n",
       "  'machine_id': None},\n",
       " {'id': 12,\n",
       "  'name': 'sugarcane',\n",
       "  'dependencies': [],\n",
       "  'duration': 1800,\n",
       "  'source': 'Field',\n",
       "  'machine_id': None},\n",
       " {'id': 13,\n",
       "  'name': 'sugarcane',\n",
       "  'dependencies': [],\n",
       "  'duration': 1800,\n",
       "  'source': 'Field',\n",
       "  'machine_id': None},\n",
       " {'id': 14,\n",
       "  'name': 'white sugar',\n",
       "  'dependencies': [12, 13],\n",
       "  'duration': 2400,\n",
       "  'source': 'Sugar Mill',\n",
       "  'machine_id': None},\n",
       " {'id': 15,\n",
       "  'name': 'strawberry cake',\n",
       "  'dependencies': [1, 2, 3, 4, 5, 6, 7, 8, 9, 10, 11, 12, 13, 14],\n",
       "  'duration': 10800,\n",
       "  'source': 'Cake Oven',\n",
       "  'machine_id': None}]"
      ]
     },
     "execution_count": 54,
     "metadata": {},
     "output_type": "execute_result"
    }
   ],
   "source": [
    "storage = make_storage()\n",
    "tasks=make_task_list(name,storage)\n",
    "tasks"
   ]
  },
  {
   "cell_type": "code",
   "execution_count": 55,
   "metadata": {},
   "outputs": [
    {
     "data": {
      "text/plain": [
       "{'Bakery': [0],\n",
       " 'Chicken': [1, 2],\n",
       " 'Feed Mill': [3],\n",
       " 'Field': [4, 5, 6, 7],\n",
       " 'Raspberry bush': [8],\n",
       " 'Sugar Mill': [9],\n",
       " 'Cake Oven': [10],\n",
       " 'Cherry tree': [11, 12],\n",
       " 'Cow': [13, 14, 15, 16, 17, 18],\n",
       " 'BBQ Grill': [19],\n",
       " 'Dairy': [20]}"
      ]
     },
     "execution_count": 55,
     "metadata": {},
     "output_type": "execute_result"
    }
   ],
   "source": [
    "# number of machines\n",
    "sources={\n",
    "    'Bakery':1, 'Chicken':2, 'Feed Mill':1, 'Field':4, 'Raspberry bush':1,'Sugar Mill':1,'Cake Oven':1,\n",
    "    'Cherry tree':2,'Cow':6,'BBQ Grill':1,'Dairy':1\n",
    "}\n",
    "machines ={}\n",
    "# make machines is: key is same as sources, value is a list of machine_id\n",
    "# machine_id must be unique from other machines\n",
    "count  = 0\n",
    "for key,value in sources.items():\n",
    "    machines[key]=list(range(count,count+value))\n",
    "    count+=value\n",
    "machines"
   ]
  },
  {
   "cell_type": "code",
   "execution_count": 56,
   "metadata": {},
   "outputs": [],
   "source": [
    "# function to check if task b depends on task a\n",
    "def check_dependency(task_a_pos,task_b_pos):\n",
    "    \"\"\"check if task b is in the dependencies of task a\n",
    "    task_a_pos: position of task a in tasks list\n",
    "    task_b_pos: position of task b in tasks list\n",
    "    \n",
    "    return: True if task b depends on task a, False otherwise\n",
    "    \"\"\"\n",
    "    task_a = tasks[task_a_pos]\n",
    "    task_b = tasks[task_b_pos]\n",
    "    return task_b['id'] in task_a['dependencies']"
   ]
  },
  {
   "cell_type": "code",
   "execution_count": 57,
   "metadata": {},
   "outputs": [],
   "source": [
    "import random\n",
    "\n",
    "def make_chromosome(tasks,machines):\n",
    "    \"\"\"make a chromosome from tasks and machines\n",
    "    tasks: list of task\n",
    "    machines: dictionary of machines\n",
    "    \n",
    "    return: a chromosome (list of tuple (id,machine_id))\n",
    "    id is the position of the task in the task list\n",
    "    machine_id is the id of the machine\n",
    "    the order of the tuple is the order of the task\n",
    "    \"\"\"\n",
    "    chromosome=[]\n",
    "    for i in range(len(tasks)):\n",
    "        task=tasks[i]\n",
    "        machine_id=random.choice(machines[task['source']])\n",
    "        chromosome.append((i,machine_id))\n",
    "    # # random shuffle the chromosome\n",
    "    for i in range(len(chromosome)):\n",
    "        for j in range(i+1,len(chromosome)):\n",
    "            if check_dependency(i,j) and random.random()<0.5:\n",
    "                chromosome[i],chromosome[j]=chromosome[j],chromosome[i]\n",
    "    return chromosome\n",
    "\n",
    "def chromosome_to_task_list(chromosome):\n",
    "    \"\"\"convert a chromosome to a task list\n",
    "    chromosome: a chromosome\n",
    "    \n",
    "    return: a task list\n",
    "    \"\"\"\n",
    "    task_list=[]\n",
    "    for task_id,machine_id in chromosome:\n",
    "        temp_task = tasks[task_id].copy()\n",
    "        temp_task['machine_id']=machine_id\n",
    "        task_list.append(temp_task)\n",
    "    return task_list\n",
    "    \n",
    "chromosome = make_chromosome(tasks,machines)\n",
    "test_tasks=chromosome_to_task_list(chromosome)"
   ]
  },
  {
   "cell_type": "code",
   "execution_count": 58,
   "metadata": {},
   "outputs": [],
   "source": [
    "# calc start and end time for each task\n",
    "machine_queue={}\n",
    "for key in machines.keys():\n",
    "    for machine_id in machines[key]:\n",
    "        machine_queue[machine_id]=[]\n",
    "\n",
    "for task in test_tasks:\n",
    "    start_time = 0\n",
    "    if len(machine_queue[task['machine_id']]):\n",
    "        start_time=machine_queue[task['machine_id']][-1]['end_time']\n",
    "    else:\n",
    "        start_time=0\n",
    "    if len(task['dependencies']):\n",
    "        for dependency_task_id in task['dependencies']:\n",
    "            dependency_task = [t for t in test_tasks if t['id']==dependency_task_id][0]\n",
    "            dependency_task_end_time = dependency_task['end_time']\n",
    "            if dependency_task_end_time>start_time:\n",
    "                start_time=dependency_task_end_time\n",
    "    task['start_time']=start_time\n",
    "    task['end_time']=start_time+task['duration']\n",
    "    machine_queue[task['machine_id']].append(task)"
   ]
  },
  {
   "cell_type": "code",
   "execution_count": 59,
   "metadata": {},
   "outputs": [
    {
     "data": {
      "text/html": [
       "<div>\n",
       "<style scoped>\n",
       "    .dataframe tbody tr th:only-of-type {\n",
       "        vertical-align: middle;\n",
       "    }\n",
       "\n",
       "    .dataframe tbody tr th {\n",
       "        vertical-align: top;\n",
       "    }\n",
       "\n",
       "    .dataframe thead th {\n",
       "        text-align: right;\n",
       "    }\n",
       "</style>\n",
       "<table border=\"1\" class=\"dataframe\">\n",
       "  <thead>\n",
       "    <tr style=\"text-align: right;\">\n",
       "      <th></th>\n",
       "      <th>id</th>\n",
       "      <th>name</th>\n",
       "      <th>dependencies</th>\n",
       "      <th>duration</th>\n",
       "      <th>source</th>\n",
       "      <th>machine_id</th>\n",
       "      <th>start_time</th>\n",
       "      <th>end_time</th>\n",
       "      <th>task</th>\n",
       "    </tr>\n",
       "  </thead>\n",
       "  <tbody>\n",
       "    <tr>\n",
       "      <th>0</th>\n",
       "      <td>1</td>\n",
       "      <td>corn</td>\n",
       "      <td>[]</td>\n",
       "      <td>300</td>\n",
       "      <td>Field</td>\n",
       "      <td>6</td>\n",
       "      <td>2024-01-04 00:54:11.993023</td>\n",
       "      <td>2024-01-04 00:59:11.995059</td>\n",
       "      <td>Field 6</td>\n",
       "    </tr>\n",
       "    <tr>\n",
       "      <th>1</th>\n",
       "      <td>2</td>\n",
       "      <td>soybean</td>\n",
       "      <td>[]</td>\n",
       "      <td>1200</td>\n",
       "      <td>Field</td>\n",
       "      <td>7</td>\n",
       "      <td>2024-01-04 00:54:11.993023</td>\n",
       "      <td>2024-01-04 01:14:11.995059</td>\n",
       "      <td>Field 7</td>\n",
       "    </tr>\n",
       "    <tr>\n",
       "      <th>2</th>\n",
       "      <td>3</td>\n",
       "      <td>soybean</td>\n",
       "      <td>[]</td>\n",
       "      <td>1200</td>\n",
       "      <td>Field</td>\n",
       "      <td>4</td>\n",
       "      <td>2024-01-04 00:54:11.993023</td>\n",
       "      <td>2024-01-04 01:14:11.995059</td>\n",
       "      <td>Field 4</td>\n",
       "    </tr>\n",
       "    <tr>\n",
       "      <th>3</th>\n",
       "      <td>4</td>\n",
       "      <td>cow feed</td>\n",
       "      <td>[1, 2, 3]</td>\n",
       "      <td>600</td>\n",
       "      <td>Feed Mill</td>\n",
       "      <td>3</td>\n",
       "      <td>2024-01-04 01:14:11.993023</td>\n",
       "      <td>2024-01-04 01:24:11.995059</td>\n",
       "      <td>Feed Mill 3</td>\n",
       "    </tr>\n",
       "    <tr>\n",
       "      <th>4</th>\n",
       "      <td>5</td>\n",
       "      <td>milk</td>\n",
       "      <td>[1, 2, 3, 4]</td>\n",
       "      <td>3600</td>\n",
       "      <td>Cow</td>\n",
       "      <td>13</td>\n",
       "      <td>2024-01-04 01:24:11.993023</td>\n",
       "      <td>2024-01-04 02:24:11.995059</td>\n",
       "      <td>Cow 13</td>\n",
       "    </tr>\n",
       "  </tbody>\n",
       "</table>\n",
       "</div>"
      ],
      "text/plain": [
       "   id      name  dependencies  duration     source  machine_id  \\\n",
       "0   1      corn            []       300      Field           6   \n",
       "1   2   soybean            []      1200      Field           7   \n",
       "2   3   soybean            []      1200      Field           4   \n",
       "3   4  cow feed     [1, 2, 3]       600  Feed Mill           3   \n",
       "4   5      milk  [1, 2, 3, 4]      3600        Cow          13   \n",
       "\n",
       "                  start_time                   end_time         task  \n",
       "0 2024-01-04 00:54:11.993023 2024-01-04 00:59:11.995059      Field 6  \n",
       "1 2024-01-04 00:54:11.993023 2024-01-04 01:14:11.995059      Field 7  \n",
       "2 2024-01-04 00:54:11.993023 2024-01-04 01:14:11.995059      Field 4  \n",
       "3 2024-01-04 01:14:11.993023 2024-01-04 01:24:11.995059  Feed Mill 3  \n",
       "4 2024-01-04 01:24:11.993023 2024-01-04 02:24:11.995059       Cow 13  "
      ]
     },
     "execution_count": 59,
     "metadata": {},
     "output_type": "execute_result"
    }
   ],
   "source": [
    "df = pd.DataFrame(test_tasks)\n",
    "# task is source + machine_id\n",
    "df['task']=df['source']+' '+df['machine_id'].astype(str)\n",
    "df['start_time'] = pd.to_datetime('today')+pd.to_timedelta(df['start_time'],unit='s')\n",
    "df['end_time'] = pd.to_datetime('today')+pd.to_timedelta(df['end_time'],unit='s')\n",
    "df.head()"
   ]
  },
  {
   "cell_type": "code",
   "execution_count": 60,
   "metadata": {},
   "outputs": [
    {
     "data": {
      "application/vnd.plotly.v1+json": {
       "config": {
        "plotlyServerURL": "https://plot.ly"
       },
       "data": [
        {
         "alignmentgroup": "True",
         "base": [
          "2024-01-04T00:54:11.993023"
         ],
         "customdata": [
          [
           1,
           300,
           "corn",
           "Field",
           6,
           []
          ]
         ],
         "hovertemplate": "<b>%{hovertext}</b><br><br>id=%{customdata[0]}<br>duration=%{customdata[1]}<br>dependencies=%{customdata[5]}<extra></extra>",
         "hovertext": [
          "corn"
         ],
         "legendgroup": "corn",
         "marker": {
          "color": "#636efa",
          "pattern": {
           "shape": ""
          }
         },
         "name": "corn",
         "offsetgroup": "corn",
         "orientation": "h",
         "showlegend": true,
         "textposition": "auto",
         "type": "bar",
         "x": [
          300002.036
         ],
         "xaxis": "x",
         "y": [
          "Field 6"
         ],
         "yaxis": "y"
        },
        {
         "alignmentgroup": "True",
         "base": [
          "2024-01-04T00:54:11.993023",
          "2024-01-04T00:54:11.993023"
         ],
         "customdata": [
          [
           2,
           1200,
           "soybean",
           "Field",
           7,
           []
          ],
          [
           3,
           1200,
           "soybean",
           "Field",
           4,
           []
          ]
         ],
         "hovertemplate": "<b>%{hovertext}</b><br><br>id=%{customdata[0]}<br>duration=%{customdata[1]}<br>dependencies=%{customdata[5]}<extra></extra>",
         "hovertext": [
          "soybean",
          "soybean"
         ],
         "legendgroup": "soybean",
         "marker": {
          "color": "#EF553B",
          "pattern": {
           "shape": ""
          }
         },
         "name": "soybean",
         "offsetgroup": "soybean",
         "orientation": "h",
         "showlegend": true,
         "textposition": "auto",
         "type": "bar",
         "x": [
          1200002.036,
          1200002.036
         ],
         "xaxis": "x",
         "y": [
          "Field 7",
          "Field 4"
         ],
         "yaxis": "y"
        },
        {
         "alignmentgroup": "True",
         "base": [
          "2024-01-04T01:14:11.993023"
         ],
         "customdata": [
          [
           4,
           600,
           "cow feed",
           "Feed Mill",
           3,
           [
            1,
            2,
            3
           ]
          ]
         ],
         "hovertemplate": "<b>%{hovertext}</b><br><br>id=%{customdata[0]}<br>duration=%{customdata[1]}<br>dependencies=%{customdata[5]}<extra></extra>",
         "hovertext": [
          "cow feed"
         ],
         "legendgroup": "cow feed",
         "marker": {
          "color": "#00cc96",
          "pattern": {
           "shape": ""
          }
         },
         "name": "cow feed",
         "offsetgroup": "cow feed",
         "orientation": "h",
         "showlegend": true,
         "textposition": "auto",
         "type": "bar",
         "x": [
          600002.036
         ],
         "xaxis": "x",
         "y": [
          "Feed Mill 3"
         ],
         "yaxis": "y"
        },
        {
         "alignmentgroup": "True",
         "base": [
          "2024-01-04T01:24:11.993023"
         ],
         "customdata": [
          [
           5,
           3600,
           "milk",
           "Cow",
           13,
           [
            1,
            2,
            3,
            4
           ]
          ]
         ],
         "hovertemplate": "<b>%{hovertext}</b><br><br>id=%{customdata[0]}<br>duration=%{customdata[1]}<br>dependencies=%{customdata[5]}<extra></extra>",
         "hovertext": [
          "milk"
         ],
         "legendgroup": "milk",
         "marker": {
          "color": "#ab63fa",
          "pattern": {
           "shape": ""
          }
         },
         "name": "milk",
         "offsetgroup": "milk",
         "orientation": "h",
         "showlegend": true,
         "textposition": "auto",
         "type": "bar",
         "x": [
          3600002.036
         ],
         "xaxis": "x",
         "y": [
          "Cow 13"
         ],
         "yaxis": "y"
        },
        {
         "alignmentgroup": "True",
         "base": [
          "2024-01-04T02:24:11.993023"
         ],
         "customdata": [
          [
           6,
           1200,
           "cream",
           "Dairy",
           20,
           [
            1,
            2,
            3,
            4,
            5
           ]
          ]
         ],
         "hovertemplate": "<b>%{hovertext}</b><br><br>id=%{customdata[0]}<br>duration=%{customdata[1]}<br>dependencies=%{customdata[5]}<extra></extra>",
         "hovertext": [
          "cream"
         ],
         "legendgroup": "cream",
         "marker": {
          "color": "#FFA15A",
          "pattern": {
           "shape": ""
          }
         },
         "name": "cream",
         "offsetgroup": "cream",
         "orientation": "h",
         "showlegend": true,
         "textposition": "auto",
         "type": "bar",
         "x": [
          1200002.036
         ],
         "xaxis": "x",
         "y": [
          "Dairy 20"
         ],
         "yaxis": "y"
        },
        {
         "alignmentgroup": "True",
         "base": [
          "2024-01-04T00:59:11.993023",
          "2024-01-04T01:14:11.993023"
         ],
         "customdata": [
          [
           7,
           28800,
           "strawberry",
           "Field",
           6,
           []
          ],
          [
           8,
           28800,
           "strawberry",
           "Field",
           4,
           []
          ]
         ],
         "hovertemplate": "<b>%{hovertext}</b><br><br>id=%{customdata[0]}<br>duration=%{customdata[1]}<br>dependencies=%{customdata[5]}<extra></extra>",
         "hovertext": [
          "strawberry",
          "strawberry"
         ],
         "legendgroup": "strawberry",
         "marker": {
          "color": "#19d3f3",
          "pattern": {
           "shape": ""
          }
         },
         "name": "strawberry",
         "offsetgroup": "strawberry",
         "orientation": "h",
         "showlegend": true,
         "textposition": "auto",
         "type": "bar",
         "x": [
          28800002.036,
          28800002.036
         ],
         "xaxis": "x",
         "y": [
          "Field 6",
          "Field 4"
         ],
         "yaxis": "y"
        },
        {
         "alignmentgroup": "True",
         "base": [
          "2024-01-04T01:14:11.993023",
          "2024-01-04T00:54:11.993023",
          "2024-01-04T01:16:11.993023"
         ],
         "customdata": [
          [
           9,
           120,
           "wheat",
           "Field",
           7,
           []
          ],
          [
           10,
           120,
           "wheat",
           "Field",
           5,
           []
          ],
          [
           11,
           120,
           "wheat",
           "Field",
           7,
           []
          ]
         ],
         "hovertemplate": "<b>%{hovertext}</b><br><br>id=%{customdata[0]}<br>duration=%{customdata[1]}<br>dependencies=%{customdata[5]}<extra></extra>",
         "hovertext": [
          "wheat",
          "wheat",
          "wheat"
         ],
         "legendgroup": "wheat",
         "marker": {
          "color": "#FF6692",
          "pattern": {
           "shape": ""
          }
         },
         "name": "wheat",
         "offsetgroup": "wheat",
         "orientation": "h",
         "showlegend": true,
         "textposition": "auto",
         "type": "bar",
         "x": [
          120002.036,
          120002.036,
          120002.036
         ],
         "xaxis": "x",
         "y": [
          "Field 7",
          "Field 5",
          "Field 7"
         ],
         "yaxis": "y"
        },
        {
         "alignmentgroup": "True",
         "base": [
          "2024-01-04T00:56:11.993023",
          "2024-01-04T01:26:11.993023"
         ],
         "customdata": [
          [
           12,
           1800,
           "sugarcane",
           "Field",
           5,
           []
          ],
          [
           13,
           1800,
           "sugarcane",
           "Field",
           5,
           []
          ]
         ],
         "hovertemplate": "<b>%{hovertext}</b><br><br>id=%{customdata[0]}<br>duration=%{customdata[1]}<br>dependencies=%{customdata[5]}<extra></extra>",
         "hovertext": [
          "sugarcane",
          "sugarcane"
         ],
         "legendgroup": "sugarcane",
         "marker": {
          "color": "#B6E880",
          "pattern": {
           "shape": ""
          }
         },
         "name": "sugarcane",
         "offsetgroup": "sugarcane",
         "orientation": "h",
         "showlegend": true,
         "textposition": "auto",
         "type": "bar",
         "x": [
          1800002.036,
          1800002.036
         ],
         "xaxis": "x",
         "y": [
          "Field 5",
          "Field 5"
         ],
         "yaxis": "y"
        },
        {
         "alignmentgroup": "True",
         "base": [
          "2024-01-04T01:56:11.993023"
         ],
         "customdata": [
          [
           14,
           2400,
           "white sugar",
           "Sugar Mill",
           9,
           [
            12,
            13
           ]
          ]
         ],
         "hovertemplate": "<b>%{hovertext}</b><br><br>id=%{customdata[0]}<br>duration=%{customdata[1]}<br>dependencies=%{customdata[5]}<extra></extra>",
         "hovertext": [
          "white sugar"
         ],
         "legendgroup": "white sugar",
         "marker": {
          "color": "#FF97FF",
          "pattern": {
           "shape": ""
          }
         },
         "name": "white sugar",
         "offsetgroup": "white sugar",
         "orientation": "h",
         "showlegend": true,
         "textposition": "auto",
         "type": "bar",
         "x": [
          2400002.036
         ],
         "xaxis": "x",
         "y": [
          "Sugar Mill 9"
         ],
         "yaxis": "y"
        },
        {
         "alignmentgroup": "True",
         "base": [
          "2024-01-04T09:14:11.993023"
         ],
         "customdata": [
          [
           15,
           10800,
           "strawberry cake",
           "Cake Oven",
           10,
           [
            1,
            2,
            3,
            4,
            5,
            6,
            7,
            8,
            9,
            10,
            11,
            12,
            13,
            14
           ]
          ]
         ],
         "hovertemplate": "<b>%{hovertext}</b><br><br>id=%{customdata[0]}<br>duration=%{customdata[1]}<br>dependencies=%{customdata[5]}<extra></extra>",
         "hovertext": [
          "strawberry cake"
         ],
         "legendgroup": "strawberry cake",
         "marker": {
          "color": "#FECB52",
          "pattern": {
           "shape": ""
          }
         },
         "name": "strawberry cake",
         "offsetgroup": "strawberry cake",
         "orientation": "h",
         "showlegend": true,
         "textposition": "auto",
         "type": "bar",
         "x": [
          10800002.036
         ],
         "xaxis": "x",
         "y": [
          "Cake Oven 10"
         ],
         "yaxis": "y"
        }
       ],
       "layout": {
        "barmode": "overlay",
        "legend": {
         "title": {
          "text": "name"
         },
         "tracegroupgap": 0
        },
        "margin": {
         "t": 60
        },
        "template": {
         "data": {
          "bar": [
           {
            "error_x": {
             "color": "#2a3f5f"
            },
            "error_y": {
             "color": "#2a3f5f"
            },
            "marker": {
             "line": {
              "color": "#E5ECF6",
              "width": 0.5
             },
             "pattern": {
              "fillmode": "overlay",
              "size": 10,
              "solidity": 0.2
             }
            },
            "type": "bar"
           }
          ],
          "barpolar": [
           {
            "marker": {
             "line": {
              "color": "#E5ECF6",
              "width": 0.5
             },
             "pattern": {
              "fillmode": "overlay",
              "size": 10,
              "solidity": 0.2
             }
            },
            "type": "barpolar"
           }
          ],
          "carpet": [
           {
            "aaxis": {
             "endlinecolor": "#2a3f5f",
             "gridcolor": "white",
             "linecolor": "white",
             "minorgridcolor": "white",
             "startlinecolor": "#2a3f5f"
            },
            "baxis": {
             "endlinecolor": "#2a3f5f",
             "gridcolor": "white",
             "linecolor": "white",
             "minorgridcolor": "white",
             "startlinecolor": "#2a3f5f"
            },
            "type": "carpet"
           }
          ],
          "choropleth": [
           {
            "colorbar": {
             "outlinewidth": 0,
             "ticks": ""
            },
            "type": "choropleth"
           }
          ],
          "contour": [
           {
            "colorbar": {
             "outlinewidth": 0,
             "ticks": ""
            },
            "colorscale": [
             [
              0,
              "#0d0887"
             ],
             [
              0.1111111111111111,
              "#46039f"
             ],
             [
              0.2222222222222222,
              "#7201a8"
             ],
             [
              0.3333333333333333,
              "#9c179e"
             ],
             [
              0.4444444444444444,
              "#bd3786"
             ],
             [
              0.5555555555555556,
              "#d8576b"
             ],
             [
              0.6666666666666666,
              "#ed7953"
             ],
             [
              0.7777777777777778,
              "#fb9f3a"
             ],
             [
              0.8888888888888888,
              "#fdca26"
             ],
             [
              1,
              "#f0f921"
             ]
            ],
            "type": "contour"
           }
          ],
          "contourcarpet": [
           {
            "colorbar": {
             "outlinewidth": 0,
             "ticks": ""
            },
            "type": "contourcarpet"
           }
          ],
          "heatmap": [
           {
            "colorbar": {
             "outlinewidth": 0,
             "ticks": ""
            },
            "colorscale": [
             [
              0,
              "#0d0887"
             ],
             [
              0.1111111111111111,
              "#46039f"
             ],
             [
              0.2222222222222222,
              "#7201a8"
             ],
             [
              0.3333333333333333,
              "#9c179e"
             ],
             [
              0.4444444444444444,
              "#bd3786"
             ],
             [
              0.5555555555555556,
              "#d8576b"
             ],
             [
              0.6666666666666666,
              "#ed7953"
             ],
             [
              0.7777777777777778,
              "#fb9f3a"
             ],
             [
              0.8888888888888888,
              "#fdca26"
             ],
             [
              1,
              "#f0f921"
             ]
            ],
            "type": "heatmap"
           }
          ],
          "heatmapgl": [
           {
            "colorbar": {
             "outlinewidth": 0,
             "ticks": ""
            },
            "colorscale": [
             [
              0,
              "#0d0887"
             ],
             [
              0.1111111111111111,
              "#46039f"
             ],
             [
              0.2222222222222222,
              "#7201a8"
             ],
             [
              0.3333333333333333,
              "#9c179e"
             ],
             [
              0.4444444444444444,
              "#bd3786"
             ],
             [
              0.5555555555555556,
              "#d8576b"
             ],
             [
              0.6666666666666666,
              "#ed7953"
             ],
             [
              0.7777777777777778,
              "#fb9f3a"
             ],
             [
              0.8888888888888888,
              "#fdca26"
             ],
             [
              1,
              "#f0f921"
             ]
            ],
            "type": "heatmapgl"
           }
          ],
          "histogram": [
           {
            "marker": {
             "pattern": {
              "fillmode": "overlay",
              "size": 10,
              "solidity": 0.2
             }
            },
            "type": "histogram"
           }
          ],
          "histogram2d": [
           {
            "colorbar": {
             "outlinewidth": 0,
             "ticks": ""
            },
            "colorscale": [
             [
              0,
              "#0d0887"
             ],
             [
              0.1111111111111111,
              "#46039f"
             ],
             [
              0.2222222222222222,
              "#7201a8"
             ],
             [
              0.3333333333333333,
              "#9c179e"
             ],
             [
              0.4444444444444444,
              "#bd3786"
             ],
             [
              0.5555555555555556,
              "#d8576b"
             ],
             [
              0.6666666666666666,
              "#ed7953"
             ],
             [
              0.7777777777777778,
              "#fb9f3a"
             ],
             [
              0.8888888888888888,
              "#fdca26"
             ],
             [
              1,
              "#f0f921"
             ]
            ],
            "type": "histogram2d"
           }
          ],
          "histogram2dcontour": [
           {
            "colorbar": {
             "outlinewidth": 0,
             "ticks": ""
            },
            "colorscale": [
             [
              0,
              "#0d0887"
             ],
             [
              0.1111111111111111,
              "#46039f"
             ],
             [
              0.2222222222222222,
              "#7201a8"
             ],
             [
              0.3333333333333333,
              "#9c179e"
             ],
             [
              0.4444444444444444,
              "#bd3786"
             ],
             [
              0.5555555555555556,
              "#d8576b"
             ],
             [
              0.6666666666666666,
              "#ed7953"
             ],
             [
              0.7777777777777778,
              "#fb9f3a"
             ],
             [
              0.8888888888888888,
              "#fdca26"
             ],
             [
              1,
              "#f0f921"
             ]
            ],
            "type": "histogram2dcontour"
           }
          ],
          "mesh3d": [
           {
            "colorbar": {
             "outlinewidth": 0,
             "ticks": ""
            },
            "type": "mesh3d"
           }
          ],
          "parcoords": [
           {
            "line": {
             "colorbar": {
              "outlinewidth": 0,
              "ticks": ""
             }
            },
            "type": "parcoords"
           }
          ],
          "pie": [
           {
            "automargin": true,
            "type": "pie"
           }
          ],
          "scatter": [
           {
            "fillpattern": {
             "fillmode": "overlay",
             "size": 10,
             "solidity": 0.2
            },
            "type": "scatter"
           }
          ],
          "scatter3d": [
           {
            "line": {
             "colorbar": {
              "outlinewidth": 0,
              "ticks": ""
             }
            },
            "marker": {
             "colorbar": {
              "outlinewidth": 0,
              "ticks": ""
             }
            },
            "type": "scatter3d"
           }
          ],
          "scattercarpet": [
           {
            "marker": {
             "colorbar": {
              "outlinewidth": 0,
              "ticks": ""
             }
            },
            "type": "scattercarpet"
           }
          ],
          "scattergeo": [
           {
            "marker": {
             "colorbar": {
              "outlinewidth": 0,
              "ticks": ""
             }
            },
            "type": "scattergeo"
           }
          ],
          "scattergl": [
           {
            "marker": {
             "colorbar": {
              "outlinewidth": 0,
              "ticks": ""
             }
            },
            "type": "scattergl"
           }
          ],
          "scattermapbox": [
           {
            "marker": {
             "colorbar": {
              "outlinewidth": 0,
              "ticks": ""
             }
            },
            "type": "scattermapbox"
           }
          ],
          "scatterpolar": [
           {
            "marker": {
             "colorbar": {
              "outlinewidth": 0,
              "ticks": ""
             }
            },
            "type": "scatterpolar"
           }
          ],
          "scatterpolargl": [
           {
            "marker": {
             "colorbar": {
              "outlinewidth": 0,
              "ticks": ""
             }
            },
            "type": "scatterpolargl"
           }
          ],
          "scatterternary": [
           {
            "marker": {
             "colorbar": {
              "outlinewidth": 0,
              "ticks": ""
             }
            },
            "type": "scatterternary"
           }
          ],
          "surface": [
           {
            "colorbar": {
             "outlinewidth": 0,
             "ticks": ""
            },
            "colorscale": [
             [
              0,
              "#0d0887"
             ],
             [
              0.1111111111111111,
              "#46039f"
             ],
             [
              0.2222222222222222,
              "#7201a8"
             ],
             [
              0.3333333333333333,
              "#9c179e"
             ],
             [
              0.4444444444444444,
              "#bd3786"
             ],
             [
              0.5555555555555556,
              "#d8576b"
             ],
             [
              0.6666666666666666,
              "#ed7953"
             ],
             [
              0.7777777777777778,
              "#fb9f3a"
             ],
             [
              0.8888888888888888,
              "#fdca26"
             ],
             [
              1,
              "#f0f921"
             ]
            ],
            "type": "surface"
           }
          ],
          "table": [
           {
            "cells": {
             "fill": {
              "color": "#EBF0F8"
             },
             "line": {
              "color": "white"
             }
            },
            "header": {
             "fill": {
              "color": "#C8D4E3"
             },
             "line": {
              "color": "white"
             }
            },
            "type": "table"
           }
          ]
         },
         "layout": {
          "annotationdefaults": {
           "arrowcolor": "#2a3f5f",
           "arrowhead": 0,
           "arrowwidth": 1
          },
          "autotypenumbers": "strict",
          "coloraxis": {
           "colorbar": {
            "outlinewidth": 0,
            "ticks": ""
           }
          },
          "colorscale": {
           "diverging": [
            [
             0,
             "#8e0152"
            ],
            [
             0.1,
             "#c51b7d"
            ],
            [
             0.2,
             "#de77ae"
            ],
            [
             0.3,
             "#f1b6da"
            ],
            [
             0.4,
             "#fde0ef"
            ],
            [
             0.5,
             "#f7f7f7"
            ],
            [
             0.6,
             "#e6f5d0"
            ],
            [
             0.7,
             "#b8e186"
            ],
            [
             0.8,
             "#7fbc41"
            ],
            [
             0.9,
             "#4d9221"
            ],
            [
             1,
             "#276419"
            ]
           ],
           "sequential": [
            [
             0,
             "#0d0887"
            ],
            [
             0.1111111111111111,
             "#46039f"
            ],
            [
             0.2222222222222222,
             "#7201a8"
            ],
            [
             0.3333333333333333,
             "#9c179e"
            ],
            [
             0.4444444444444444,
             "#bd3786"
            ],
            [
             0.5555555555555556,
             "#d8576b"
            ],
            [
             0.6666666666666666,
             "#ed7953"
            ],
            [
             0.7777777777777778,
             "#fb9f3a"
            ],
            [
             0.8888888888888888,
             "#fdca26"
            ],
            [
             1,
             "#f0f921"
            ]
           ],
           "sequentialminus": [
            [
             0,
             "#0d0887"
            ],
            [
             0.1111111111111111,
             "#46039f"
            ],
            [
             0.2222222222222222,
             "#7201a8"
            ],
            [
             0.3333333333333333,
             "#9c179e"
            ],
            [
             0.4444444444444444,
             "#bd3786"
            ],
            [
             0.5555555555555556,
             "#d8576b"
            ],
            [
             0.6666666666666666,
             "#ed7953"
            ],
            [
             0.7777777777777778,
             "#fb9f3a"
            ],
            [
             0.8888888888888888,
             "#fdca26"
            ],
            [
             1,
             "#f0f921"
            ]
           ]
          },
          "colorway": [
           "#636efa",
           "#EF553B",
           "#00cc96",
           "#ab63fa",
           "#FFA15A",
           "#19d3f3",
           "#FF6692",
           "#B6E880",
           "#FF97FF",
           "#FECB52"
          ],
          "font": {
           "color": "#2a3f5f"
          },
          "geo": {
           "bgcolor": "white",
           "lakecolor": "white",
           "landcolor": "#E5ECF6",
           "showlakes": true,
           "showland": true,
           "subunitcolor": "white"
          },
          "hoverlabel": {
           "align": "left"
          },
          "hovermode": "closest",
          "mapbox": {
           "style": "light"
          },
          "paper_bgcolor": "white",
          "plot_bgcolor": "#E5ECF6",
          "polar": {
           "angularaxis": {
            "gridcolor": "white",
            "linecolor": "white",
            "ticks": ""
           },
           "bgcolor": "#E5ECF6",
           "radialaxis": {
            "gridcolor": "white",
            "linecolor": "white",
            "ticks": ""
           }
          },
          "scene": {
           "xaxis": {
            "backgroundcolor": "#E5ECF6",
            "gridcolor": "white",
            "gridwidth": 2,
            "linecolor": "white",
            "showbackground": true,
            "ticks": "",
            "zerolinecolor": "white"
           },
           "yaxis": {
            "backgroundcolor": "#E5ECF6",
            "gridcolor": "white",
            "gridwidth": 2,
            "linecolor": "white",
            "showbackground": true,
            "ticks": "",
            "zerolinecolor": "white"
           },
           "zaxis": {
            "backgroundcolor": "#E5ECF6",
            "gridcolor": "white",
            "gridwidth": 2,
            "linecolor": "white",
            "showbackground": true,
            "ticks": "",
            "zerolinecolor": "white"
           }
          },
          "shapedefaults": {
           "line": {
            "color": "#2a3f5f"
           }
          },
          "ternary": {
           "aaxis": {
            "gridcolor": "white",
            "linecolor": "white",
            "ticks": ""
           },
           "baxis": {
            "gridcolor": "white",
            "linecolor": "white",
            "ticks": ""
           },
           "bgcolor": "#E5ECF6",
           "caxis": {
            "gridcolor": "white",
            "linecolor": "white",
            "ticks": ""
           }
          },
          "title": {
           "x": 0.05
          },
          "xaxis": {
           "automargin": true,
           "gridcolor": "white",
           "linecolor": "white",
           "ticks": "",
           "title": {
            "standoff": 15
           },
           "zerolinecolor": "white",
           "zerolinewidth": 2
          },
          "yaxis": {
           "automargin": true,
           "gridcolor": "white",
           "linecolor": "white",
           "ticks": "",
           "title": {
            "standoff": 15
           },
           "zerolinecolor": "white",
           "zerolinewidth": 2
          }
         }
        },
        "title": {
         "text": "Plan for strawberry cake",
         "x": 0.5
        },
        "xaxis": {
         "anchor": "y",
         "domain": [
          0,
          1
         ],
         "type": "date"
        },
        "yaxis": {
         "anchor": "x",
         "autorange": "reversed",
         "domain": [
          0,
          1
         ],
         "title": {
          "text": "task"
         }
        }
       }
      }
     },
     "metadata": {},
     "output_type": "display_data"
    },
    {
     "data": {
      "image/svg+xml": [
       "<?xml version=\"1.0\" encoding=\"UTF-8\" standalone=\"no\"?>\n",
       "<!DOCTYPE svg PUBLIC \"-//W3C//DTD SVG 1.1//EN\"\n",
       " \"http://www.w3.org/Graphics/SVG/1.1/DTD/svg11.dtd\">\n",
       "<!-- Generated by graphviz version 9.0.0 (20230911.1827)\n",
       " -->\n",
       "<!-- Pages: 1 -->\n",
       "<svg width=\"735pt\" height=\"510pt\"\n",
       " viewBox=\"0.00 0.00 735.25 510.00\" xmlns=\"http://www.w3.org/2000/svg\" xmlns:xlink=\"http://www.w3.org/1999/xlink\">\n",
       "<g id=\"graph0\" class=\"graph\" transform=\"scale(1 1) rotate(0) translate(4 506)\">\n",
       "<polygon fill=\"white\" stroke=\"none\" points=\"-4,4 -4,-506 731.25,-506 731.25,4 -4,4\"/>\n",
       "<text text-anchor=\"middle\" x=\"363.62\" y=\"-6\" font-family=\"Helvetica,sans-Serif\" font-size=\"20.00\">Recipe for 1 strawberry cake</text>\n",
       "<!-- strawberry cake -->\n",
       "<g id=\"node1\" class=\"node\">\n",
       "<title>strawberry cake</title>\n",
       "<image xlink:href=\"images/strawberry-cake.png\" width=\"100px\" height=\"77px\" preserveAspectRatio=\"xMinYMin meet\" x=\"626.125\" y=\"-275\"/>\n",
       "<text text-anchor=\"middle\" x=\"676.12\" y=\"-201.2\" font-family=\"Times,serif\" font-size=\"14.00\">strawberry cake</text>\n",
       "</g>\n",
       "<!-- cream -->\n",
       "<g id=\"node2\" class=\"node\">\n",
       "<title>cream</title>\n",
       "<image xlink:href=\"images/cream.png\" width=\"77px\" height=\"77px\" preserveAspectRatio=\"xMinYMin meet\" x=\"468.25\" y=\"-445\"/>\n",
       "<text text-anchor=\"middle\" x=\"506.75\" y=\"-371.2\" font-family=\"Times,serif\" font-size=\"14.00\">cream</text>\n",
       "</g>\n",
       "<!-- cream&#45;&gt;strawberry cake -->\n",
       "<g id=\"edge1\" class=\"edge\">\n",
       "<title>cream&#45;&gt;strawberry cake</title>\n",
       "<path fill=\"none\" stroke=\"black\" d=\"M544.9,-368.77C569.86,-343.42 602.92,-309.84 629.48,-282.86\"/>\n",
       "<polygon fill=\"black\" stroke=\"black\" points=\"631.92,-285.37 636.44,-275.79 626.93,-280.46 631.92,-285.37\"/>\n",
       "<text text-anchor=\"middle\" x=\"585.62\" y=\"-329.7\" font-family=\"Times,serif\" font-size=\"14.00\">1</text>\n",
       "</g>\n",
       "<!-- milk -->\n",
       "<g id=\"node3\" class=\"node\">\n",
       "<title>milk</title>\n",
       "<image xlink:href=\"images/milk.png\" width=\"77px\" height=\"77px\" preserveAspectRatio=\"xMinYMin meet\" x=\"311.5\" y=\"-445\"/>\n",
       "<text text-anchor=\"middle\" x=\"350\" y=\"-371.2\" font-family=\"Times,serif\" font-size=\"14.00\">milk</text>\n",
       "</g>\n",
       "<!-- milk&#45;&gt;cream -->\n",
       "<g id=\"edge2\" class=\"edge\">\n",
       "<title>milk&#45;&gt;cream</title>\n",
       "<path fill=\"none\" stroke=\"black\" d=\"M388.46,-406.5C409.1,-406.5 434.97,-406.5 457.15,-406.5\"/>\n",
       "<polygon fill=\"black\" stroke=\"black\" points=\"456.85,-410 466.85,-406.5 456.85,-403 456.85,-410\"/>\n",
       "<text text-anchor=\"middle\" x=\"427.88\" y=\"-409.7\" font-family=\"Times,serif\" font-size=\"14.00\">1</text>\n",
       "</g>\n",
       "<!-- cow feed -->\n",
       "<g id=\"node4\" class=\"node\">\n",
       "<title>cow feed</title>\n",
       "<image xlink:href=\"images/cow-feed.png\" width=\"77px\" height=\"77px\" preserveAspectRatio=\"xMinYMin meet\" x=\"155.75\" y=\"-445\"/>\n",
       "<text text-anchor=\"middle\" x=\"194.25\" y=\"-371.2\" font-family=\"Times,serif\" font-size=\"14.00\">cow feed</text>\n",
       "</g>\n",
       "<!-- cow feed&#45;&gt;milk -->\n",
       "<g id=\"edge3\" class=\"edge\">\n",
       "<title>cow feed&#45;&gt;milk</title>\n",
       "<path fill=\"none\" stroke=\"black\" d=\"M232.47,-406.5C252.81,-406.5 278.25,-406.5 300.17,-406.5\"/>\n",
       "<polygon fill=\"black\" stroke=\"black\" points=\"300.08,-410 310.08,-406.5 300.08,-403 300.08,-410\"/>\n",
       "<text text-anchor=\"middle\" x=\"272.12\" y=\"-409.7\" font-family=\"Times,serif\" font-size=\"14.00\">1</text>\n",
       "</g>\n",
       "<!-- corn -->\n",
       "<g id=\"node5\" class=\"node\">\n",
       "<title>corn</title>\n",
       "<image xlink:href=\"images/corn.png\" width=\"77px\" height=\"77px\" preserveAspectRatio=\"xMinYMin meet\" x=\"0\" y=\"-502\"/>\n",
       "<text text-anchor=\"middle\" x=\"38.5\" y=\"-428.2\" font-family=\"Times,serif\" font-size=\"14.00\">corn</text>\n",
       "</g>\n",
       "<!-- corn&#45;&gt;cow feed -->\n",
       "<g id=\"edge4\" class=\"edge\">\n",
       "<title>corn&#45;&gt;cow feed</title>\n",
       "<path fill=\"none\" stroke=\"black\" d=\"M76.72,-449.7C97.34,-442.06 123.2,-432.47 145.32,-424.27\"/>\n",
       "<polygon fill=\"black\" stroke=\"black\" points=\"146.26,-427.65 154.42,-420.89 143.83,-421.09 146.26,-427.65\"/>\n",
       "<text text-anchor=\"middle\" x=\"116.38\" y=\"-437.7\" font-family=\"Times,serif\" font-size=\"14.00\">1</text>\n",
       "</g>\n",
       "<!-- soybean -->\n",
       "<g id=\"node6\" class=\"node\">\n",
       "<title>soybean</title>\n",
       "<image xlink:href=\"images/soybean.png\" width=\"77px\" height=\"77px\" preserveAspectRatio=\"xMinYMin meet\" x=\"0\" y=\"-389\"/>\n",
       "<text text-anchor=\"middle\" x=\"38.5\" y=\"-315.2\" font-family=\"Times,serif\" font-size=\"14.00\">soybean</text>\n",
       "</g>\n",
       "<!-- soybean&#45;&gt;cow feed -->\n",
       "<g id=\"edge5\" class=\"edge\">\n",
       "<title>soybean&#45;&gt;cow feed</title>\n",
       "<path fill=\"none\" stroke=\"black\" d=\"M76.72,-364.06C97.34,-371.57 123.2,-380.99 145.32,-389.04\"/>\n",
       "<polygon fill=\"black\" stroke=\"black\" points=\"143.83,-392.22 154.42,-392.36 146.22,-385.65 143.83,-392.22\"/>\n",
       "<text text-anchor=\"middle\" x=\"116.38\" y=\"-381.7\" font-family=\"Times,serif\" font-size=\"14.00\">2</text>\n",
       "</g>\n",
       "<!-- strawberry -->\n",
       "<g id=\"node7\" class=\"node\">\n",
       "<title>strawberry</title>\n",
       "<image xlink:href=\"images/strawberry.png\" width=\"77px\" height=\"77px\" preserveAspectRatio=\"xMinYMin meet\" x=\"468.25\" y=\"-332\"/>\n",
       "<text text-anchor=\"middle\" x=\"506.75\" y=\"-258.2\" font-family=\"Times,serif\" font-size=\"14.00\">strawberry</text>\n",
       "</g>\n",
       "<!-- strawberry&#45;&gt;strawberry cake -->\n",
       "<g id=\"edge6\" class=\"edge\">\n",
       "<title>strawberry&#45;&gt;strawberry cake</title>\n",
       "<path fill=\"none\" stroke=\"black\" d=\"M544.9,-280.85C565.27,-273.91 591.03,-265.14 614.25,-257.23\"/>\n",
       "<polygon fill=\"black\" stroke=\"black\" points=\"615.3,-260.57 623.63,-254.04 613.04,-253.95 615.3,-260.57\"/>\n",
       "<text text-anchor=\"middle\" x=\"585.62\" y=\"-269.7\" font-family=\"Times,serif\" font-size=\"14.00\">2</text>\n",
       "</g>\n",
       "<!-- wheat -->\n",
       "<g id=\"node8\" class=\"node\">\n",
       "<title>wheat</title>\n",
       "<image xlink:href=\"images/wheat.png\" width=\"77px\" height=\"77px\" preserveAspectRatio=\"xMinYMin meet\" x=\"468.25\" y=\"-219\"/>\n",
       "<text text-anchor=\"middle\" x=\"506.75\" y=\"-145.2\" font-family=\"Times,serif\" font-size=\"14.00\">wheat</text>\n",
       "</g>\n",
       "<!-- wheat&#45;&gt;strawberry cake -->\n",
       "<g id=\"edge7\" class=\"edge\">\n",
       "<title>wheat&#45;&gt;strawberry cake</title>\n",
       "<path fill=\"none\" stroke=\"black\" d=\"M544.9,-192.93C565.27,-199.74 591.03,-208.36 614.25,-216.13\"/>\n",
       "<polygon fill=\"black\" stroke=\"black\" points=\"613.04,-219.42 623.63,-219.27 615.26,-212.78 613.04,-219.42\"/>\n",
       "<text text-anchor=\"middle\" x=\"585.62\" y=\"-210.7\" font-family=\"Times,serif\" font-size=\"14.00\">3</text>\n",
       "</g>\n",
       "<!-- white sugar -->\n",
       "<g id=\"node9\" class=\"node\">\n",
       "<title>white sugar</title>\n",
       "<image xlink:href=\"images/white-sugar.png\" width=\"79px\" height=\"77px\" preserveAspectRatio=\"xMinYMin meet\" x=\"467.25\" y=\"-106\"/>\n",
       "<text text-anchor=\"middle\" x=\"506.75\" y=\"-32.2\" font-family=\"Times,serif\" font-size=\"14.00\">white sugar</text>\n",
       "</g>\n",
       "<!-- white sugar&#45;&gt;strawberry cake -->\n",
       "<g id=\"edge8\" class=\"edge\">\n",
       "<title>white sugar&#45;&gt;strawberry cake</title>\n",
       "<path fill=\"none\" stroke=\"black\" d=\"M545.73,-105.85C570.47,-130.83 602.89,-163.56 629.09,-190.02\"/>\n",
       "<polygon fill=\"black\" stroke=\"black\" points=\"626.42,-192.29 635.94,-196.94 631.39,-187.37 626.42,-192.29\"/>\n",
       "<text text-anchor=\"middle\" x=\"585.62\" y=\"-150.7\" font-family=\"Times,serif\" font-size=\"14.00\">1</text>\n",
       "</g>\n",
       "<!-- sugarcane -->\n",
       "<g id=\"node10\" class=\"node\">\n",
       "<title>sugarcane</title>\n",
       "<image xlink:href=\"images/sugarcane.png\" width=\"77px\" height=\"77px\" preserveAspectRatio=\"xMinYMin meet\" x=\"311.5\" y=\"-106\"/>\n",
       "<text text-anchor=\"middle\" x=\"350\" y=\"-32.2\" font-family=\"Times,serif\" font-size=\"14.00\">sugarcane</text>\n",
       "</g>\n",
       "<!-- sugarcane&#45;&gt;white sugar -->\n",
       "<g id=\"edge9\" class=\"edge\">\n",
       "<title>sugarcane&#45;&gt;white sugar</title>\n",
       "<path fill=\"none\" stroke=\"black\" d=\"M388.46,-67.5C408.71,-67.5 433.97,-67.5 455.86,-67.5\"/>\n",
       "<polygon fill=\"black\" stroke=\"black\" points=\"455.78,-71 465.78,-67.5 455.78,-64 455.78,-71\"/>\n",
       "<text text-anchor=\"middle\" x=\"427.88\" y=\"-70.7\" font-family=\"Times,serif\" font-size=\"14.00\">2</text>\n",
       "</g>\n",
       "</g>\n",
       "</svg>\n"
      ],
      "text/plain": [
       "<graphviz.graphs.Digraph at 0x7fab32f10700>"
      ]
     },
     "execution_count": 60,
     "metadata": {},
     "output_type": "execute_result"
    }
   ],
   "source": [
    "\n",
    "fig = px.timeline(df, x_start=\"start_time\", x_end=\"end_time\", y=\"task\", color=\"name\",hover_name='name', \n",
    "                    hover_data={'id':True,'duration':True,'start_time':False,'end_time':False,'task':False,'name':False,'source':False,'machine_id':False,'dependencies':True})\n",
    "fig.update_yaxes(autorange=\"reversed\")\n",
    "fig.update_layout(title_text='Plan for '+name,title_x=0.5)\n",
    "fig.show()\n",
    "tree = make_need_tree(name,1)\n",
    "visualize_tree(tree)"
   ]
  }
 ],
 "metadata": {
  "kernelspec": {
   "display_name": "me",
   "language": "python",
   "name": "python3"
  },
  "language_info": {
   "codemirror_mode": {
    "name": "ipython",
    "version": 3
   },
   "file_extension": ".py",
   "mimetype": "text/x-python",
   "name": "python",
   "nbconvert_exporter": "python",
   "pygments_lexer": "ipython3",
   "version": "3.9.16"
  }
 },
 "nbformat": 4,
 "nbformat_minor": 2
}
