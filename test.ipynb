{
 "cells": [
  {
   "cell_type": "code",
   "execution_count": 14,
   "metadata": {},
   "outputs": [],
   "source": [
    "from utils import make_need_tree,visualize_tree,make_storage,make_task_list,calc_start_end_time\n",
    "import plotly.express as px\n",
    "import pandas as pd\n",
    "import json\n",
    "import random\n",
    "import copy\n",
    "import matplotlib.pyplot as plt"
   ]
  },
  {
   "cell_type": "code",
   "execution_count": 15,
   "metadata": {},
   "outputs": [
    {
     "data": {
      "text/plain": [
       "52"
      ]
     },
     "execution_count": 15,
     "metadata": {},
     "output_type": "execute_result"
    }
   ],
   "source": [
    "storage = make_storage()\n",
    "storage['fishing net']=20\n",
    "storage['apple']=20\n",
    "storage['wool']=20\n",
    "storage['fish fillet']=100\n",
    "tasks=make_task_list([\n",
    "                      'hamburger','cheese','cookie','baked potato'\n",
    "                      ],storage)\n",
    "len(tasks)"
   ]
  },
  {
   "cell_type": "code",
   "execution_count": 16,
   "metadata": {},
   "outputs": [],
   "source": [
    "# number of machines\n",
    "sources={\n",
    "    'Bakery':1, 'Chicken':12, 'Feed Mill':1, 'Field':50   , 'Raspberry bush':1,'Sugar Mill':1,'Cake Oven':1,\n",
    "    'Cherry tree':3,'Cow':12,'BBQ Grill':1,'Dairy':1,\"Pig\":12,'Popcorn Pot':1,'Loom':1,'Sewing Machine':1,\n",
    "    'Sheep':12,\n",
    "    'Pie Oven':1,\n",
    "    'Net Maker':1,\n",
    "    'Fish':3\n",
    "}\n",
    "machines ={}\n",
    "# make machines is: key is same as sources, value is a list of machine_id\n",
    "# machine_id must be unique from other machines\n",
    "count  = 0\n",
    "for key,value in sources.items():\n",
    "    machines[key]=list(range(count,count+value))\n",
    "    count+=value"
   ]
  },
  {
   "cell_type": "code",
   "execution_count": 17,
   "metadata": {},
   "outputs": [],
   "source": [
    "import random\n",
    "\n",
    "def make_chromosome(tasks,machines):\n",
    "    tasks = copy.deepcopy(tasks)\n",
    "    random.shuffle(tasks)\n",
    "    tasks.sort(key=lambda x:x['order'],reverse=True)\n",
    "    for task in tasks:\n",
    "        machine_id=random.choice(machines[task['source']])\n",
    "        task['machine_id']=machine_id\n",
    "    return tasks\n",
    "\n",
    "def calc_fitness(chromosome):\n",
    "    \"\"\"calculate the fitness of a chromosome\n",
    "    chromosome: a chromosome\n",
    "    \n",
    "    return: a fitness value\n",
    "    \"\"\"\n",
    "    score = 0\n",
    "    chromosome = calc_start_end_time(chromosome,machines)\n",
    "    # maximum end_time\n",
    "    max_end_time = max([task['end_time'] for task in chromosome])\n",
    "    score += 10000/max_end_time\n",
    "    return score\n",
    "    \n",
    "def mutation(chromosome):\n",
    "    \"\"\"mutate a chromosome\n",
    "    chromosome: a chromosome\n",
    "    \n",
    "    return: a chromosome\n",
    "    \"\"\"\n",
    "    chromosome = copy.deepcopy(chromosome)\n",
    "    if random.random()<0.2:\n",
    "        gen = random.choice(chromosome)\n",
    "        new_machine_id = random.choice(machines[gen['source']])\n",
    "        gen['machine_id']=new_machine_id\n",
    "        \n",
    "        gen1,gen2 = random.sample(chromosome,2)\n",
    "        idx1 = chromosome.index(gen1)\n",
    "        idx2 = chromosome.index(gen2)\n",
    "        if idx1>idx2:\n",
    "            gen1,gen2=gen2,gen1\n",
    "        if gen1['order']>=gen2['order']:\n",
    "            chromosome[idx1],chromosome[idx2]=chromosome[idx2],chromosome[idx1]\n",
    "    return chromosome\n",
    "\n",
    "def order_crossover(parent1, parent2):\n",
    "    \"\"\"\n",
    "    Perform Order Crossover on two parent chromosomes.\n",
    "\n",
    "    Args:\n",
    "    parent1 (list): The first parent chromosome.\n",
    "    parent2 (list): The second parent chromosome.\n",
    "\n",
    "    Returns:\n",
    "    tuple: A tuple containing two new child chromosomes.\n",
    "    \"\"\"\n",
    "    size = len(parent1)\n",
    "    child1, child2 = [-1] * size, [-1] * size\n",
    "\n",
    "    # Select a random subsequence from the first parent\n",
    "    start, end = sorted([random.randint(0, size - 1) for _ in range(2)])\n",
    "    child1[start:end+1] = parent1[start:end+1]\n",
    "    child2[start:end+1] = parent2[start:end+1]\n",
    "\n",
    "    # Fill the remaining positions with genes from the second parent\n",
    "    fill_remaining(child1, parent2, start, end)\n",
    "    fill_remaining(child2, parent1, start, end)\n",
    "\n",
    "    return child1, child2\n",
    "\n",
    "def fill_remaining(child, parent, start, end):\n",
    "    \"\"\"\n",
    "    Fill the remaining positions in the child chromosome.\n",
    "\n",
    "    Args:\n",
    "    child (list): The child chromosome being filled.\n",
    "    parent (list): The parent chromosome to fill from.\n",
    "    start (int): The start index of the subsequence.\n",
    "    end (int): The end index of the subsequence.\n",
    "    \"\"\"\n",
    "    size = len(child)\n",
    "    p_idx, c_idx = 0, 0\n",
    "\n",
    "    while -1 in child:\n",
    "        if parent[p_idx] not in child:\n",
    "            if c_idx >= start and c_idx <= end:\n",
    "                c_idx = end + 1\n",
    "            child[c_idx % size] = parent[p_idx]\n",
    "            c_idx += 1\n",
    "        p_idx += 1\n",
    "\n",
    "def crossover(parent1,parent2):\n",
    "    if random.random()<0.2:\n",
    "        return parent1,parent2\n",
    "    ids1 = [t['id'] for t in parent1]\n",
    "    ids2 = [t['id'] for t in parent2]\n",
    "    child1,child2 = order_crossover(ids1,ids2)\n",
    "    # replace id with task\n",
    "    child1 = [parent1[ids1.index(id)] for id in child1]\n",
    "    child2 = [parent2[ids2.index(id)]  for id in child2]\n",
    "    return child1,child2"
   ]
  },
  {
   "cell_type": "code",
   "execution_count": 18,
   "metadata": {},
   "outputs": [
    {
     "name": "stdout",
     "output_type": "stream",
     "text": [
      "iteration 0, best fitness 0.3968253968253968, best time 25200\n",
      "iteration 1, best fitness 0.3968253968253968, best time 25200\n",
      "iteration 2, best fitness 0.3968253968253968, best time 25200\n",
      "iteration 3, best fitness 0.3968253968253968, best time 25200\n",
      "iteration 4, best fitness 0.4065040650406504, best time 24600\n",
      "iteration 5, best fitness 0.4065040650406504, best time 24600\n",
      "iteration 6, best fitness 0.4166666666666667, best time 24000\n",
      "iteration 7, best fitness 0.4166666666666667, best time 24000\n",
      "iteration 8, best fitness 0.4166666666666667, best time 24000\n",
      "iteration 9, best fitness 0.4166666666666667, best time 24000\n",
      "iteration 10, best fitness 0.4166666666666667, best time 24000\n",
      "iteration 11, best fitness 0.4166666666666667, best time 24000\n",
      "iteration 12, best fitness 0.4166666666666667, best time 24000\n",
      "iteration 13, best fitness 0.4166666666666667, best time 24000\n",
      "iteration 14, best fitness 0.4166666666666667, best time 24000\n",
      "iteration 15, best fitness 0.4166666666666667, best time 24000\n",
      "iteration 16, best fitness 0.4166666666666667, best time 24000\n",
      "iteration 17, best fitness 0.4166666666666667, best time 24000\n",
      "iteration 18, best fitness 0.4166666666666667, best time 24000\n",
      "iteration 19, best fitness 0.4166666666666667, best time 24000\n",
      "iteration 20, best fitness 0.4166666666666667, best time 24000\n",
      "iteration 21, best fitness 0.4166666666666667, best time 24000\n",
      "iteration 22, best fitness 0.4166666666666667, best time 24000\n",
      "iteration 23, best fitness 0.4166666666666667, best time 24000\n",
      "iteration 24, best fitness 0.4166666666666667, best time 24000\n",
      "iteration 25, best fitness 0.4166666666666667, best time 24000\n",
      "iteration 26, best fitness 0.4166666666666667, best time 24000\n",
      "iteration 27, best fitness 0.4166666666666667, best time 24000\n",
      "iteration 28, best fitness 0.4166666666666667, best time 24000\n",
      "iteration 29, best fitness 0.4166666666666667, best time 24000\n",
      "iteration 30, best fitness 0.4166666666666667, best time 24000\n",
      "iteration 31, best fitness 0.4166666666666667, best time 24000\n",
      "iteration 32, best fitness 0.4166666666666667, best time 24000\n",
      "iteration 33, best fitness 0.4166666666666667, best time 24000\n",
      "iteration 34, best fitness 0.4166666666666667, best time 24000\n",
      "iteration 35, best fitness 0.4166666666666667, best time 24000\n",
      "iteration 36, best fitness 0.4166666666666667, best time 24000\n",
      "iteration 37, best fitness 0.4166666666666667, best time 24000\n",
      "iteration 38, best fitness 0.4166666666666667, best time 24000\n",
      "iteration 39, best fitness 0.4166666666666667, best time 24000\n",
      "iteration 40, best fitness 0.4166666666666667, best time 24000\n",
      "iteration 41, best fitness 0.4166666666666667, best time 24000\n",
      "iteration 42, best fitness 0.4166666666666667, best time 24000\n",
      "iteration 43, best fitness 0.4166666666666667, best time 24000\n",
      "iteration 44, best fitness 0.4166666666666667, best time 24000\n",
      "iteration 45, best fitness 0.4166666666666667, best time 24000\n",
      "iteration 46, best fitness 0.4166666666666667, best time 24000\n",
      "iteration 47, best fitness 0.4166666666666667, best time 24000\n",
      "iteration 48, best fitness 0.4166666666666667, best time 24000\n",
      "iteration 49, best fitness 0.4166666666666667, best time 24000\n",
      "iteration 50, best fitness 0.4166666666666667, best time 24000\n",
      "iteration 51, best fitness 0.4166666666666667, best time 24000\n",
      "iteration 52, best fitness 0.4166666666666667, best time 24000\n",
      "iteration 53, best fitness 0.4166666666666667, best time 24000\n",
      "iteration 54, best fitness 0.4166666666666667, best time 24000\n",
      "iteration 55, best fitness 0.4166666666666667, best time 24000\n",
      "iteration 56, best fitness 0.4166666666666667, best time 24000\n",
      "iteration 57, best fitness 0.4166666666666667, best time 24000\n",
      "iteration 58, best fitness 0.4166666666666667, best time 24000\n",
      "iteration 59, best fitness 0.4166666666666667, best time 24000\n",
      "iteration 60, best fitness 0.4166666666666667, best time 24000\n",
      "iteration 61, best fitness 0.4166666666666667, best time 24000\n",
      "iteration 62, best fitness 0.4166666666666667, best time 24000\n",
      "iteration 63, best fitness 0.4166666666666667, best time 24000\n",
      "iteration 64, best fitness 0.4166666666666667, best time 24000\n",
      "iteration 65, best fitness 0.4166666666666667, best time 24000\n",
      "iteration 66, best fitness 0.4166666666666667, best time 24000\n",
      "iteration 67, best fitness 0.4166666666666667, best time 24000\n",
      "iteration 68, best fitness 0.4166666666666667, best time 24000\n",
      "iteration 69, best fitness 0.4166666666666667, best time 24000\n",
      "iteration 70, best fitness 0.4166666666666667, best time 24000\n",
      "iteration 71, best fitness 0.4166666666666667, best time 24000\n",
      "iteration 72, best fitness 0.4166666666666667, best time 24000\n",
      "iteration 73, best fitness 0.4166666666666667, best time 24000\n",
      "iteration 74, best fitness 0.4166666666666667, best time 24000\n",
      "iteration 75, best fitness 0.4166666666666667, best time 24000\n",
      "iteration 76, best fitness 0.4166666666666667, best time 24000\n",
      "iteration 77, best fitness 0.4166666666666667, best time 24000\n",
      "iteration 78, best fitness 0.4166666666666667, best time 24000\n",
      "iteration 79, best fitness 0.4166666666666667, best time 24000\n",
      "iteration 80, best fitness 0.4166666666666667, best time 24000\n",
      "iteration 81, best fitness 0.4166666666666667, best time 24000\n",
      "iteration 82, best fitness 0.4166666666666667, best time 24000\n",
      "iteration 83, best fitness 0.4166666666666667, best time 24000\n",
      "iteration 84, best fitness 0.4166666666666667, best time 24000\n",
      "iteration 85, best fitness 0.4166666666666667, best time 24000\n",
      "iteration 86, best fitness 0.4166666666666667, best time 24000\n",
      "iteration 87, best fitness 0.4166666666666667, best time 24000\n",
      "iteration 88, best fitness 0.4166666666666667, best time 24000\n",
      "iteration 89, best fitness 0.4166666666666667, best time 24000\n",
      "iteration 90, best fitness 0.4166666666666667, best time 24000\n",
      "iteration 91, best fitness 0.4166666666666667, best time 24000\n",
      "iteration 92, best fitness 0.4166666666666667, best time 24000\n",
      "iteration 93, best fitness 0.4166666666666667, best time 24000\n",
      "iteration 94, best fitness 0.4166666666666667, best time 24000\n",
      "iteration 95, best fitness 0.4166666666666667, best time 24000\n",
      "iteration 96, best fitness 0.4166666666666667, best time 24000\n",
      "iteration 97, best fitness 0.4166666666666667, best time 24000\n",
      "iteration 98, best fitness 0.4166666666666667, best time 24000\n",
      "iteration 99, best fitness 0.4166666666666667, best time 24000\n"
     ]
    }
   ],
   "source": [
    "# simple GA algorithm\n",
    "pop_size = 60\n",
    "iteration = 100\n",
    "\n",
    "fitness_history = []\n",
    "# generate inital population\n",
    "population = []\n",
    "for i in range(pop_size):\n",
    "    population.append(make_chromosome(tasks,machines))\n",
    "\n",
    "for i in range(iteration):\n",
    "    fitness = []\n",
    "    for chromosome in population:\n",
    "        fitness.append(calc_fitness(chromosome))\n",
    "    fitness_history.append(fitness)\n",
    "    best = max(fitness)\n",
    "    best_chromosome = population[fitness.index(best)]\n",
    "    print(f'iteration {i}, best fitness {best}, best time {max([task[\"end_time\"] for task in best_chromosome])}')\n",
    "    # generate new population\n",
    "    new_population = [best_chromosome]\n",
    "    for i in range(pop_size-1):\n",
    "        # select parents\n",
    "        parent1,parent2 = random.choices(population,weights=fitness,k=2)\n",
    "        # crossover\n",
    "        child1,child2 = crossover(parent1,parent2)\n",
    "        # mutation\n",
    "        child1 = mutation(child1)\n",
    "        child2 = mutation(child2)\n",
    "        new_population.append(child1)\n",
    "        new_population.append(child2)\n",
    "    population = new_population[:pop_size]"
   ]
  },
  {
   "cell_type": "code",
   "execution_count": 19,
   "metadata": {},
   "outputs": [
    {
     "data": {
      "image/png": "[encoded data removed]",
      "text/plain": [
       "<Figure size 640x480 with 1 Axes>"
      ]
     },
     "metadata": {},
     "output_type": "display_data"
    }
   ],
   "source": [
    "# plot fitness history, 2 line: average and max fitness\n",
    "fitness_history = pd.DataFrame(fitness_history)\n",
    "fitness_history['avg'] = fitness_history.mean(axis=1)\n",
    "fitness_history['max'] = fitness_history.max(axis=1)\n",
    "plt.plot(fitness_history['avg'])\n",
    "plt.plot(fitness_history['max'])\n",
    "plt.legend(['avg','max'])\n",
    "plt.show()"
   ]
  },
  {
   "cell_type": "code",
   "execution_count": 20,
   "metadata": {},
   "outputs": [
    {
     "data": {
      "text/html": [
       "<div>\n",
       "<style scoped>\n",
       "    .dataframe tbody tr th:only-of-type {\n",
       "        vertical-align: middle;\n",
       "    }\n",
       "\n",
       "    .dataframe tbody tr th {\n",
       "        vertical-align: top;\n",
       "    }\n",
       "\n",
       "    .dataframe thead th {\n",
       "        text-align: right;\n",
       "    }\n",
       "</style>\n",
       "<table border=\"1\" class=\"dataframe\">\n",
       "  <thead>\n",
       "    <tr style=\"text-align: right;\">\n",
       "      <th></th>\n",
       "      <th>id</th>\n",
       "      <th>name</th>\n",
       "      <th>dependencies</th>\n",
       "      <th>duration</th>\n",
       "      <th>source</th>\n",
       "      <th>machine_id</th>\n",
       "      <th>target</th>\n",
       "      <th>order</th>\n",
       "      <th>root</th>\n",
       "      <th>start_time</th>\n",
       "      <th>end_time</th>\n",
       "      <th>task</th>\n",
       "      <th>start</th>\n",
       "      <th>end</th>\n",
       "    </tr>\n",
       "  </thead>\n",
       "  <tbody>\n",
       "    <tr>\n",
       "      <th>0</th>\n",
       "      <td>4</td>\n",
       "      <td>pig feed</td>\n",
       "      <td>[1, 2, 3]</td>\n",
       "      <td>1200</td>\n",
       "      <td>Feed Mill</td>\n",
       "      <td>13</td>\n",
       "      <td>False</td>\n",
       "      <td>3</td>\n",
       "      <td>hamburger_0</td>\n",
       "      <td>1200</td>\n",
       "      <td>2400</td>\n",
       "      <td>Feed Mill 13</td>\n",
       "      <td>2024-01-04 07:51:31.595644</td>\n",
       "      <td>2024-01-04 08:11:31.597170</td>\n",
       "    </tr>\n",
       "    <tr>\n",
       "      <th>1</th>\n",
       "      <td>36</td>\n",
       "      <td>soybean</td>\n",
       "      <td>[]</td>\n",
       "      <td>1200</td>\n",
       "      <td>Field</td>\n",
       "      <td>43</td>\n",
       "      <td>False</td>\n",
       "      <td>5</td>\n",
       "      <td>baked potato_34</td>\n",
       "      <td>0</td>\n",
       "      <td>1200</td>\n",
       "      <td>Field 43</td>\n",
       "      <td>2024-01-04 07:31:31.595644</td>\n",
       "      <td>2024-01-04 07:51:31.597170</td>\n",
       "    </tr>\n",
       "    <tr>\n",
       "      <th>2</th>\n",
       "      <td>46</td>\n",
       "      <td>soybean</td>\n",
       "      <td>[]</td>\n",
       "      <td>1200</td>\n",
       "      <td>Field</td>\n",
       "      <td>61</td>\n",
       "      <td>False</td>\n",
       "      <td>5</td>\n",
       "      <td>baked potato_34</td>\n",
       "      <td>0</td>\n",
       "      <td>1200</td>\n",
       "      <td>Field 61</td>\n",
       "      <td>2024-01-04 07:31:31.595644</td>\n",
       "      <td>2024-01-04 07:51:31.597170</td>\n",
       "    </tr>\n",
       "    <tr>\n",
       "      <th>3</th>\n",
       "      <td>45</td>\n",
       "      <td>soybean</td>\n",
       "      <td>[]</td>\n",
       "      <td>1200</td>\n",
       "      <td>Field</td>\n",
       "      <td>25</td>\n",
       "      <td>False</td>\n",
       "      <td>5</td>\n",
       "      <td>baked potato_34</td>\n",
       "      <td>0</td>\n",
       "      <td>1200</td>\n",
       "      <td>Field 25</td>\n",
       "      <td>2024-01-04 07:31:31.595644</td>\n",
       "      <td>2024-01-04 07:51:31.597170</td>\n",
       "    </tr>\n",
       "    <tr>\n",
       "      <th>4</th>\n",
       "      <td>35</td>\n",
       "      <td>corn</td>\n",
       "      <td>[]</td>\n",
       "      <td>300</td>\n",
       "      <td>Field</td>\n",
       "      <td>22</td>\n",
       "      <td>False</td>\n",
       "      <td>5</td>\n",
       "      <td>baked potato_34</td>\n",
       "      <td>0</td>\n",
       "      <td>300</td>\n",
       "      <td>Field 22</td>\n",
       "      <td>2024-01-04 07:31:31.595644</td>\n",
       "      <td>2024-01-04 07:36:31.597170</td>\n",
       "    </tr>\n",
       "  </tbody>\n",
       "</table>\n",
       "</div>"
      ],
      "text/plain": [
       "   id      name dependencies  duration     source  machine_id  target  order  \\\n",
       "0   4  pig feed    [1, 2, 3]      1200  Feed Mill          13   False      3   \n",
       "1  36   soybean           []      1200      Field          43   False      5   \n",
       "2  46   soybean           []      1200      Field          61   False      5   \n",
       "3  45   soybean           []      1200      Field          25   False      5   \n",
       "4  35      corn           []       300      Field          22   False      5   \n",
       "\n",
       "              root  start_time  end_time          task  \\\n",
       "0      hamburger_0        1200      2400  Feed Mill 13   \n",
       "1  baked potato_34           0      1200      Field 43   \n",
       "2  baked potato_34           0      1200      Field 61   \n",
       "3  baked potato_34           0      1200      Field 25   \n",
       "4  baked potato_34           0       300      Field 22   \n",
       "\n",
       "                       start                        end  \n",
       "0 2024-01-04 07:51:31.595644 2024-01-04 08:11:31.597170  \n",
       "1 2024-01-04 07:31:31.595644 2024-01-04 07:51:31.597170  \n",
       "2 2024-01-04 07:31:31.595644 2024-01-04 07:51:31.597170  \n",
       "3 2024-01-04 07:31:31.595644 2024-01-04 07:51:31.597170  \n",
       "4 2024-01-04 07:31:31.595644 2024-01-04 07:36:31.597170  "
      ]
     },
     "execution_count": 20,
     "metadata": {},
     "output_type": "execute_result"
    }
   ],
   "source": [
    "# chromosome = make_chromosome(tasks,machines)\n",
    "chromosome = population[fitness.index(max(fitness))]\n",
    "test_tasks = calc_start_end_time(chromosome,machines)\n",
    "df = pd.DataFrame(test_tasks)\n",
    "# task is source + machine_id\n",
    "df['task']=df['source']+' '+df['machine_id'].astype(str)\n",
    "df['start'] = pd.to_datetime('today')+pd.to_timedelta(df['start_time'],unit='s')\n",
    "df['end'] = pd.to_datetime('today')+pd.to_timedelta(df['end_time'],unit='s')\n",
    "df.head()"
   ]
  },
  {
   "cell_type": "code",
   "execution_count": 21,
   "metadata": {},
   "outputs": [
    {
     "name": "stdout",
     "output_type": "stream",
     "text": [
      "Max time:  24000\n"
     ]
    },
    {
     "data": {
      "application/vnd.plotly.v1+json": {
       "config": {
        "plotlyServerURL": "https://plot.ly"
       },
       "data": [
        {
         "alignmentgroup": "True",
         "base": [
          "2024-01-04T07:51:31.595644",
          "2024-01-04T07:31:31.595644",
          "2024-01-04T07:31:31.595644",
          "2024-01-04T07:31:31.595644",
          "2024-01-04T07:51:31.595644",
          "2024-01-04T07:31:31.595644",
          "2024-01-04T07:31:31.595644",
          "2024-01-04T07:41:31.595644",
          "2024-01-04T07:31:31.595644",
          "2024-01-04T07:31:31.595644",
          "2024-01-04T08:11:31.595644",
          "2024-01-04T07:53:31.595644",
          "2024-01-04T07:58:31.595644",
          "2024-01-04T08:11:31.595644",
          "2024-01-04T12:11:31.595644"
         ],
         "customdata": [
          [
           4,
           1200,
           "pig feed",
           "Feed Mill",
           13,
           [
            1,
            2,
            3
           ]
          ],
          [
           2,
           600,
           "carrot",
           "Field",
           27,
           []
          ],
          [
           1,
           600,
           "carrot",
           "Field",
           52,
           []
          ],
          [
           3,
           1200,
           "soybean",
           "Field",
           31,
           []
          ],
          [
           12,
           120,
           "wheat",
           "Field",
           25,
           []
          ],
          [
           9,
           120,
           "wheat",
           "Field",
           24,
           []
          ],
          [
           11,
           120,
           "wheat",
           "Field",
           63,
           []
          ],
          [
           8,
           120,
           "wheat",
           "Field",
           27,
           []
          ],
          [
           10,
           120,
           "wheat",
           "Field",
           48,
           []
          ],
          [
           7,
           120,
           "wheat",
           "Field",
           58,
           []
          ],
          [
           5,
           14400,
           "bacon",
           "Pig",
           86,
           [
            1,
            2,
            3,
            4
           ]
          ],
          [
           13,
           300,
           "bread",
           "Bakery",
           0,
           [
            7,
            8,
            9,
            10,
            11,
            12
           ]
          ],
          [
           14,
           300,
           "bread",
           "Bakery",
           0,
           [
            7,
            8,
            9,
            10,
            11,
            12
           ]
          ],
          [
           6,
           14400,
           "bacon",
           "Pig",
           85,
           [
            1,
            2,
            3,
            4
           ]
          ],
          [
           15,
           7200,
           "hamburger",
           "BBQ Grill",
           82,
           [
            1,
            2,
            3,
            4,
            5,
            6,
            7,
            8,
            9,
            10,
            11,
            12,
            13,
            14
           ]
          ]
         ],
         "hovertemplate": "<b>%{hovertext}</b><br><br>root=hamburger_0<br>id=%{customdata[0]}<br>duration=%{customdata[1]}<br>dependencies=%{customdata[5]}<extra></extra>",
         "hovertext": [
          "pig feed",
          "carrot",
          "carrot",
          "soybean",
          "wheat",
          "wheat",
          "wheat",
          "wheat",
          "wheat",
          "wheat",
          "bacon",
          "bread",
          "bread",
          "bacon",
          "hamburger"
         ],
         "legendgroup": "hamburger_0",
         "marker": {
          "color": "#636efa",
          "pattern": {
           "shape": ""
          }
         },
         "name": "hamburger_0",
         "offsetgroup": "hamburger_0",
         "orientation": "h",
         "showlegend": true,
         "textposition": "auto",
         "type": "bar",
         "x": [
          1200001.526,
          600001.526,
          600001.526,
          1200001.526,
          120001.526,
          120001.526,
          120001.526,
          120001.526,
          120001.526,
          120001.526,
          14400001.526,
          300001.526,
          300001.526,
          14400001.526,
          7200001.526
         ],
         "xaxis": "x",
         "y": [
          "Feed Mill 13",
          "Field 27",
          "Field 52",
          "Field 31",
          "Field 25",
          "Field 24",
          "Field 63",
          "Field 27",
          "Field 48",
          "Field 58",
          "Pig 86",
          "Bakery 0",
          "Bakery 0",
          "Pig 85",
          "BBQ Grill 82"
         ],
         "yaxis": "y"
        },
        {
         "alignmentgroup": "True",
         "base": [
          "2024-01-04T07:31:31.595644",
          "2024-01-04T07:31:31.595644",
          "2024-01-04T07:31:31.595644",
          "2024-01-04T07:31:31.595644",
          "2024-01-04T07:36:31.595644",
          "2024-01-04T07:51:31.595644",
          "2024-01-04T08:11:31.595644",
          "2024-01-04T08:21:31.595644",
          "2024-01-04T08:21:31.595644",
          "2024-01-04T08:31:31.595644",
          "2024-01-04T08:31:31.595644",
          "2024-01-04T08:31:31.595644",
          "2024-01-04T07:31:31.595644",
          "2024-01-04T09:21:31.595644",
          "2024-01-04T09:41:31.595644",
          "2024-01-04T07:31:31.595644",
          "2024-01-04T07:53:31.595644",
          "2024-01-04T11:33:31.595644"
         ],
         "customdata": [
          [
           36,
           1200,
           "soybean",
           "Field",
           43,
           []
          ],
          [
           46,
           1200,
           "soybean",
           "Field",
           61,
           []
          ],
          [
           45,
           1200,
           "soybean",
           "Field",
           25,
           []
          ],
          [
           35,
           300,
           "corn",
           "Field",
           22,
           []
          ],
          [
           44,
           300,
           "corn",
           "Field",
           22,
           []
          ],
          [
           37,
           1200,
           "soybean",
           "Field",
           61,
           []
          ],
          [
           47,
           600,
           "cow feed",
           "Feed Mill",
           13,
           [
            44,
            45,
            46
           ]
          ],
          [
           38,
           600,
           "cow feed",
           "Feed Mill",
           13,
           [
            35,
            36,
            37
           ]
          ],
          [
           48,
           3600,
           "milk",
           "Cow",
           71,
           [
            44,
            45,
            46,
            47
           ]
          ],
          [
           39,
           3600,
           "milk",
           "Cow",
           75,
           [
            35,
            36,
            37,
            38
           ]
          ],
          [
           40,
           3600,
           "milk",
           "Cow",
           79,
           [
            35,
            36,
            37,
            38
           ]
          ],
          [
           41,
           3600,
           "milk",
           "Cow",
           80,
           [
            35,
            36,
            37,
            38
           ]
          ],
          [
           43,
           14400,
           "chili pepper",
           "Field",
           21,
           []
          ],
          [
           49,
           1200,
           "cream",
           "Dairy",
           83,
           [
            44,
            45,
            46,
            47,
            48
           ]
          ],
          [
           42,
           3600,
           "cheese",
           "Dairy",
           83,
           [
            35,
            36,
            37,
            38,
            39,
            40,
            41
           ]
          ],
          [
           51,
           13200,
           "potato",
           "Field",
           19,
           []
          ],
          [
           50,
           13200,
           "potato",
           "Field",
           25,
           []
          ],
          [
           52,
           2100,
           "baked potato",
           "BBQ Grill",
           82,
           [
            35,
            36,
            37,
            38,
            39,
            40,
            41,
            42,
            43,
            44,
            45,
            46,
            47,
            48,
            49,
            50,
            51
           ]
          ]
         ],
         "hovertemplate": "<b>%{hovertext}</b><br><br>root=baked potato_34<br>id=%{customdata[0]}<br>duration=%{customdata[1]}<br>dependencies=%{customdata[5]}<extra></extra>",
         "hovertext": [
          "soybean",
          "soybean",
          "soybean",
          "corn",
          "corn",
          "soybean",
          "cow feed",
          "cow feed",
          "milk",
          "milk",
          "milk",
          "milk",
          "chili pepper",
          "cream",
          "cheese",
          "potato",
          "potato",
          "baked potato"
         ],
         "legendgroup": "baked potato_34",
         "marker": {
          "color": "#EF553B",
          "pattern": {
           "shape": ""
          }
         },
         "name": "baked potato_34",
         "offsetgroup": "baked potato_34",
         "orientation": "h",
         "showlegend": true,
         "textposition": "auto",
         "type": "bar",
         "x": [
          1200001.526,
          1200001.526,
          1200001.526,
          300001.526,
          300001.526,
          1200001.526,
          600001.526,
          600001.526,
          3600001.526,
          3600001.526,
          3600001.526,
          3600001.526,
          14400001.526,
          1200001.526,
          3600001.526,
          13200001.526,
          13200001.526,
          2100001.526
         ],
         "xaxis": "x",
         "y": [
          "Field 43",
          "Field 61",
          "Field 25",
          "Field 22",
          "Field 22",
          "Field 61",
          "Feed Mill 13",
          "Feed Mill 13",
          "Cow 71",
          "Cow 75",
          "Cow 79",
          "Cow 80",
          "Field 21",
          "Dairy 83",
          "Dairy 83",
          "Field 19",
          "Field 25",
          "BBQ Grill 82"
         ],
         "yaxis": "y"
        },
        {
         "alignmentgroup": "True",
         "base": [
          "2024-01-04T07:31:31.595644",
          "2024-01-04T07:31:31.595644",
          "2024-01-04T07:31:31.595644",
          "2024-01-04T08:31:31.595644",
          "2024-01-04T08:41:31.595644",
          "2024-01-04T09:31:31.595644",
          "2024-01-04T08:41:31.595644",
          "2024-01-04T10:41:31.595644"
         ],
         "customdata": [
          [
           18,
           1200,
           "soybean",
           "Field",
           60,
           []
          ],
          [
           17,
           1200,
           "soybean",
           "Field",
           59,
           []
          ],
          [
           16,
           300,
           "corn",
           "Field",
           55,
           []
          ],
          [
           19,
           600,
           "cow feed",
           "Feed Mill",
           13,
           [
            16,
            17,
            18
           ]
          ],
          [
           20,
           3600,
           "milk",
           "Cow",
           78,
           [
            16,
            17,
            18,
            19
           ]
          ],
          [
           21,
           3600,
           "milk",
           "Cow",
           75,
           [
            16,
            17,
            18,
            19
           ]
          ],
          [
           22,
           3600,
           "milk",
           "Cow",
           77,
           [
            16,
            17,
            18,
            19
           ]
          ],
          [
           23,
           3600,
           "cheese",
           "Dairy",
           83,
           [
            16,
            17,
            18,
            19,
            20,
            21,
            22
           ]
          ]
         ],
         "hovertemplate": "<b>%{hovertext}</b><br><br>root=cheese_15<br>id=%{customdata[0]}<br>duration=%{customdata[1]}<br>dependencies=%{customdata[5]}<extra></extra>",
         "hovertext": [
          "soybean",
          "soybean",
          "corn",
          "cow feed",
          "milk",
          "milk",
          "milk",
          "cheese"
         ],
         "legendgroup": "cheese_15",
         "marker": {
          "color": "#00cc96",
          "pattern": {
           "shape": ""
          }
         },
         "name": "cheese_15",
         "offsetgroup": "cheese_15",
         "orientation": "h",
         "showlegend": true,
         "textposition": "auto",
         "type": "bar",
         "x": [
          1200001.526,
          1200001.526,
          300001.526,
          600001.526,
          3600001.526,
          3600001.526,
          3600001.526,
          3600001.526
         ],
         "xaxis": "x",
         "y": [
          "Field 60",
          "Field 59",
          "Field 55",
          "Feed Mill 13",
          "Cow 78",
          "Cow 75",
          "Cow 77",
          "Dairy 83"
         ],
         "yaxis": "y"
        },
        {
         "alignmentgroup": "True",
         "base": [
          "2024-01-04T07:31:31.595644",
          "2024-01-04T07:31:31.595644",
          "2024-01-04T07:31:31.595644",
          "2024-01-04T08:41:31.595644",
          "2024-01-04T07:31:31.595644",
          "2024-01-04T08:46:31.595644",
          "2024-01-04T08:01:31.595644",
          "2024-01-04T07:31:31.595644",
          "2024-01-04T07:31:31.595644",
          "2024-01-04T08:46:31.595644",
          "2024-01-04T09:06:31.595644"
         ],
         "customdata": [
          [
           27,
           120,
           "wheat",
           "Field",
           38,
           []
          ],
          [
           28,
           120,
           "wheat",
           "Field",
           35,
           []
          ],
          [
           26,
           300,
           "corn",
           "Field",
           39,
           []
          ],
          [
           29,
           300,
           "chicken feed",
           "Feed Mill",
           13,
           [
            26,
            27,
            28
           ]
          ],
          [
           24,
           1800,
           "sugarcane",
           "Field",
           23,
           []
          ],
          [
           30,
           1200,
           "egg",
           "Chicken",
           7,
           [
            26,
            27,
            28,
            29
           ]
          ],
          [
           25,
           1200,
           "brown sugar",
           "Sugar Mill",
           65,
           [
            24
           ]
          ],
          [
           33,
           120,
           "wheat",
           "Field",
           62,
           []
          ],
          [
           32,
           120,
           "wheat",
           "Field",
           29,
           []
          ],
          [
           31,
           1200,
           "egg",
           "Chicken",
           11,
           [
            26,
            27,
            28,
            29
           ]
          ],
          [
           34,
           3600,
           "cookie",
           "Bakery",
           0,
           [
            24,
            25,
            26,
            27,
            28,
            29,
            30,
            31,
            32,
            33
           ]
          ]
         ],
         "hovertemplate": "<b>%{hovertext}</b><br><br>root=cookie_23<br>id=%{customdata[0]}<br>duration=%{customdata[1]}<br>dependencies=%{customdata[5]}<extra></extra>",
         "hovertext": [
          "wheat",
          "wheat",
          "corn",
          "chicken feed",
          "sugarcane",
          "egg",
          "brown sugar",
          "wheat",
          "wheat",
          "egg",
          "cookie"
         ],
         "legendgroup": "cookie_23",
         "marker": {
          "color": "#ab63fa",
          "pattern": {
           "shape": ""
          }
         },
         "name": "cookie_23",
         "offsetgroup": "cookie_23",
         "orientation": "h",
         "showlegend": true,
         "textposition": "auto",
         "type": "bar",
         "x": [
          120001.526,
          120001.526,
          300001.526,
          300001.526,
          1800001.526,
          1200001.526,
          1200001.526,
          120001.526,
          120001.526,
          1200001.526,
          3600001.526
         ],
         "xaxis": "x",
         "y": [
          "Field 38",
          "Field 35",
          "Field 39",
          "Feed Mill 13",
          "Field 23",
          "Chicken 7",
          "Sugar Mill 65",
          "Field 62",
          "Field 29",
          "Chicken 11",
          "Bakery 0"
         ],
         "yaxis": "y"
        }
       ],
       "layout": {
        "barmode": "overlay",
        "legend": {
         "title": {
          "text": "root"
         },
         "tracegroupgap": 0
        },
        "margin": {
         "t": 60
        },
        "template": {
         "data": {
          "bar": [
           {
            "error_x": {
             "color": "#2a3f5f"
            },
            "error_y": {
             "color": "#2a3f5f"
            },
            "marker": {
             "line": {
              "color": "#E5ECF6",
              "width": 0.5
             },
             "pattern": {
              "fillmode": "overlay",
              "size": 10,
              "solidity": 0.2
             }
            },
            "type": "bar"
           }
          ],
          "barpolar": [
           {
            "marker": {
             "line": {
              "color": "#E5ECF6",
              "width": 0.5
             },
             "pattern": {
              "fillmode": "overlay",
              "size": 10,
              "solidity": 0.2
             }
            },
            "type": "barpolar"
           }
          ],
          "carpet": [
           {
            "aaxis": {
             "endlinecolor": "#2a3f5f",
             "gridcolor": "white",
             "linecolor": "white",
             "minorgridcolor": "white",
             "startlinecolor": "#2a3f5f"
            },
            "baxis": {
             "endlinecolor": "#2a3f5f",
             "gridcolor": "white",
             "linecolor": "white",
             "minorgridcolor": "white",
             "startlinecolor": "#2a3f5f"
            },
            "type": "carpet"
           }
          ],
          "choropleth": [
           {
            "colorbar": {
             "outlinewidth": 0,
             "ticks": ""
            },
            "type": "choropleth"
           }
          ],
          "contour": [
           {
            "colorbar": {
             "outlinewidth": 0,
             "ticks": ""
            },
            "colorscale": [
             [
              0,
              "#0d0887"
             ],
             [
              0.1111111111111111,
              "#46039f"
             ],
             [
              0.2222222222222222,
              "#7201a8"
             ],
             [
              0.3333333333333333,
              "#9c179e"
             ],
             [
              0.4444444444444444,
              "#bd3786"
             ],
             [
              0.5555555555555556,
              "#d8576b"
             ],
             [
              0.6666666666666666,
              "#ed7953"
             ],
             [
              0.7777777777777778,
              "#fb9f3a"
             ],
             [
              0.8888888888888888,
              "#fdca26"
             ],
             [
              1,
              "#f0f921"
             ]
            ],
            "type": "contour"
           }
          ],
          "contourcarpet": [
           {
            "colorbar": {
             "outlinewidth": 0,
             "ticks": ""
            },
            "type": "contourcarpet"
           }
          ],
          "heatmap": [
           {
            "colorbar": {
             "outlinewidth": 0,
             "ticks": ""
            },
            "colorscale": [
             [
              0,
              "#0d0887"
             ],
             [
              0.1111111111111111,
              "#46039f"
             ],
             [
              0.2222222222222222,
              "#7201a8"
             ],
             [
              0.3333333333333333,
              "#9c179e"
             ],
             [
              0.4444444444444444,
              "#bd3786"
             ],
             [
              0.5555555555555556,
              "#d8576b"
             ],
             [
              0.6666666666666666,
              "#ed7953"
             ],
             [
              0.7777777777777778,
              "#fb9f3a"
             ],
             [
              0.8888888888888888,
              "#fdca26"
             ],
             [
              1,
              "#f0f921"
             ]
            ],
            "type": "heatmap"
           }
          ],
          "heatmapgl": [
           {
            "colorbar": {
             "outlinewidth": 0,
             "ticks": ""
            },
            "colorscale": [
             [
              0,
              "#0d0887"
             ],
             [
              0.1111111111111111,
              "#46039f"
             ],
             [
              0.2222222222222222,
              "#7201a8"
             ],
             [
              0.3333333333333333,
              "#9c179e"
             ],
             [
              0.4444444444444444,
              "#bd3786"
             ],
             [
              0.5555555555555556,
              "#d8576b"
             ],
             [
              0.6666666666666666,
              "#ed7953"
             ],
             [
              0.7777777777777778,
              "#fb9f3a"
             ],
             [
              0.8888888888888888,
              "#fdca26"
             ],
             [
              1,
              "#f0f921"
             ]
            ],
            "type": "heatmapgl"
           }
          ],
          "histogram": [
           {
            "marker": {
             "pattern": {
              "fillmode": "overlay",
              "size": 10,
              "solidity": 0.2
             }
            },
            "type": "histogram"
           }
          ],
          "histogram2d": [
           {
            "colorbar": {
             "outlinewidth": 0,
             "ticks": ""
            },
            "colorscale": [
             [
              0,
              "#0d0887"
             ],
             [
              0.1111111111111111,
              "#46039f"
             ],
             [
              0.2222222222222222,
              "#7201a8"
             ],
             [
              0.3333333333333333,
              "#9c179e"
             ],
             [
              0.4444444444444444,
              "#bd3786"
             ],
             [
              0.5555555555555556,
              "#d8576b"
             ],
             [
              0.6666666666666666,
              "#ed7953"
             ],
             [
              0.7777777777777778,
              "#fb9f3a"
             ],
             [
              0.8888888888888888,
              "#fdca26"
             ],
             [
              1,
              "#f0f921"
             ]
            ],
            "type": "histogram2d"
           }
          ],
          "histogram2dcontour": [
           {
            "colorbar": {
             "outlinewidth": 0,
             "ticks": ""
            },
            "colorscale": [
             [
              0,
              "#0d0887"
             ],
             [
              0.1111111111111111,
              "#46039f"
             ],
             [
              0.2222222222222222,
              "#7201a8"
             ],
             [
              0.3333333333333333,
              "#9c179e"
             ],
             [
              0.4444444444444444,
              "#bd3786"
             ],
             [
              0.5555555555555556,
              "#d8576b"
             ],
             [
              0.6666666666666666,
              "#ed7953"
             ],
             [
              0.7777777777777778,
              "#fb9f3a"
             ],
             [
              0.8888888888888888,
              "#fdca26"
             ],
             [
              1,
              "#f0f921"
             ]
            ],
            "type": "histogram2dcontour"
           }
          ],
          "mesh3d": [
           {
            "colorbar": {
             "outlinewidth": 0,
             "ticks": ""
            },
            "type": "mesh3d"
           }
          ],
          "parcoords": [
           {
            "line": {
             "colorbar": {
              "outlinewidth": 0,
              "ticks": ""
             }
            },
            "type": "parcoords"
           }
          ],
          "pie": [
           {
            "automargin": true,
            "type": "pie"
           }
          ],
          "scatter": [
           {
            "fillpattern": {
             "fillmode": "overlay",
             "size": 10,
             "solidity": 0.2
            },
            "type": "scatter"
           }
          ],
          "scatter3d": [
           {
            "line": {
             "colorbar": {
              "outlinewidth": 0,
              "ticks": ""
             }
            },
            "marker": {
             "colorbar": {
              "outlinewidth": 0,
              "ticks": ""
             }
            },
            "type": "scatter3d"
           }
          ],
          "scattercarpet": [
           {
            "marker": {
             "colorbar": {
              "outlinewidth": 0,
              "ticks": ""
             }
            },
            "type": "scattercarpet"
           }
          ],
          "scattergeo": [
           {
            "marker": {
             "colorbar": {
              "outlinewidth": 0,
              "ticks": ""
             }
            },
            "type": "scattergeo"
           }
          ],
          "scattergl": [
           {
            "marker": {
             "colorbar": {
              "outlinewidth": 0,
              "ticks": ""
             }
            },
            "type": "scattergl"
           }
          ],
          "scattermapbox": [
           {
            "marker": {
             "colorbar": {
              "outlinewidth": 0,
              "ticks": ""
             }
            },
            "type": "scattermapbox"
           }
          ],
          "scatterpolar": [
           {
            "marker": {
             "colorbar": {
              "outlinewidth": 0,
              "ticks": ""
             }
            },
            "type": "scatterpolar"
           }
          ],
          "scatterpolargl": [
           {
            "marker": {
             "colorbar": {
              "outlinewidth": 0,
              "ticks": ""
             }
            },
            "type": "scatterpolargl"
           }
          ],
          "scatterternary": [
           {
            "marker": {
             "colorbar": {
              "outlinewidth": 0,
              "ticks": ""
             }
            },
            "type": "scatterternary"
           }
          ],
          "surface": [
           {
            "colorbar": {
             "outlinewidth": 0,
             "ticks": ""
            },
            "colorscale": [
             [
              0,
              "#0d0887"
             ],
             [
              0.1111111111111111,
              "#46039f"
             ],
             [
              0.2222222222222222,
              "#7201a8"
             ],
             [
              0.3333333333333333,
              "#9c179e"
             ],
             [
              0.4444444444444444,
              "#bd3786"
             ],
             [
              0.5555555555555556,
              "#d8576b"
             ],
             [
              0.6666666666666666,
              "#ed7953"
             ],
             [
              0.7777777777777778,
              "#fb9f3a"
             ],
             [
              0.8888888888888888,
              "#fdca26"
             ],
             [
              1,
              "#f0f921"
             ]
            ],
            "type": "surface"
           }
          ],
          "table": [
           {
            "cells": {
             "fill": {
              "color": "#EBF0F8"
             },
             "line": {
              "color": "white"
             }
            },
            "header": {
             "fill": {
              "color": "#C8D4E3"
             },
             "line": {
              "color": "white"
             }
            },
            "type": "table"
           }
          ]
         },
         "layout": {
          "annotationdefaults": {
           "arrowcolor": "#2a3f5f",
           "arrowhead": 0,
           "arrowwidth": 1
          },
          "autotypenumbers": "strict",
          "coloraxis": {
           "colorbar": {
            "outlinewidth": 0,
            "ticks": ""
           }
          },
          "colorscale": {
           "diverging": [
            [
             0,
             "#8e0152"
            ],
            [
             0.1,
             "#c51b7d"
            ],
            [
             0.2,
             "#de77ae"
            ],
            [
             0.3,
             "#f1b6da"
            ],
            [
             0.4,
             "#fde0ef"
            ],
            [
             0.5,
             "#f7f7f7"
            ],
            [
             0.6,
             "#e6f5d0"
            ],
            [
             0.7,
             "#b8e186"
            ],
            [
             0.8,
             "#7fbc41"
            ],
            [
             0.9,
             "#4d9221"
            ],
            [
             1,
             "#276419"
            ]
           ],
           "sequential": [
            [
             0,
             "#0d0887"
            ],
            [
             0.1111111111111111,
             "#46039f"
            ],
            [
             0.2222222222222222,
             "#7201a8"
            ],
            [
             0.3333333333333333,
             "#9c179e"
            ],
            [
             0.4444444444444444,
             "#bd3786"
            ],
            [
             0.5555555555555556,
             "#d8576b"
            ],
            [
             0.6666666666666666,
             "#ed7953"
            ],
            [
             0.7777777777777778,
             "#fb9f3a"
            ],
            [
             0.8888888888888888,
             "#fdca26"
            ],
            [
             1,
             "#f0f921"
            ]
           ],
           "sequentialminus": [
            [
             0,
             "#0d0887"
            ],
            [
             0.1111111111111111,
             "#46039f"
            ],
            [
             0.2222222222222222,
             "#7201a8"
            ],
            [
             0.3333333333333333,
             "#9c179e"
            ],
            [
             0.4444444444444444,
             "#bd3786"
            ],
            [
             0.5555555555555556,
             "#d8576b"
            ],
            [
             0.6666666666666666,
             "#ed7953"
            ],
            [
             0.7777777777777778,
             "#fb9f3a"
            ],
            [
             0.8888888888888888,
             "#fdca26"
            ],
            [
             1,
             "#f0f921"
            ]
           ]
          },
          "colorway": [
           "#636efa",
           "#EF553B",
           "#00cc96",
           "#ab63fa",
           "#FFA15A",
           "#19d3f3",
           "#FF6692",
           "#B6E880",
           "#FF97FF",
           "#FECB52"
          ],
          "font": {
           "color": "#2a3f5f"
          },
          "geo": {
           "bgcolor": "white",
           "lakecolor": "white",
           "landcolor": "#E5ECF6",
           "showlakes": true,
           "showland": true,
           "subunitcolor": "white"
          },
          "hoverlabel": {
           "align": "left"
          },
          "hovermode": "closest",
          "mapbox": {
           "style": "light"
          },
          "paper_bgcolor": "white",
          "plot_bgcolor": "#E5ECF6",
          "polar": {
           "angularaxis": {
            "gridcolor": "white",
            "linecolor": "white",
            "ticks": ""
           },
           "bgcolor": "#E5ECF6",
           "radialaxis": {
            "gridcolor": "white",
            "linecolor": "white",
            "ticks": ""
           }
          },
          "scene": {
           "xaxis": {
            "backgroundcolor": "#E5ECF6",
            "gridcolor": "white",
            "gridwidth": 2,
            "linecolor": "white",
            "showbackground": true,
            "ticks": "",
            "zerolinecolor": "white"
           },
           "yaxis": {
            "backgroundcolor": "#E5ECF6",
            "gridcolor": "white",
            "gridwidth": 2,
            "linecolor": "white",
            "showbackground": true,
            "ticks": "",
            "zerolinecolor": "white"
           },
           "zaxis": {
            "backgroundcolor": "#E5ECF6",
            "gridcolor": "white",
            "gridwidth": 2,
            "linecolor": "white",
            "showbackground": true,
            "ticks": "",
            "zerolinecolor": "white"
           }
          },
          "shapedefaults": {
           "line": {
            "color": "#2a3f5f"
           }
          },
          "ternary": {
           "aaxis": {
            "gridcolor": "white",
            "linecolor": "white",
            "ticks": ""
           },
           "baxis": {
            "gridcolor": "white",
            "linecolor": "white",
            "ticks": ""
           },
           "bgcolor": "#E5ECF6",
           "caxis": {
            "gridcolor": "white",
            "linecolor": "white",
            "ticks": ""
           }
          },
          "title": {
           "x": 0.05
          },
          "xaxis": {
           "automargin": true,
           "gridcolor": "white",
           "linecolor": "white",
           "ticks": "",
           "title": {
            "standoff": 15
           },
           "zerolinecolor": "white",
           "zerolinewidth": 2
          },
          "yaxis": {
           "automargin": true,
           "gridcolor": "white",
           "linecolor": "white",
           "ticks": "",
           "title": {
            "standoff": 15
           },
           "zerolinecolor": "white",
           "zerolinewidth": 2
          }
         }
        },
        "xaxis": {
         "anchor": "y",
         "domain": [
          0,
          1
         ],
         "type": "date"
        },
        "yaxis": {
         "anchor": "x",
         "autorange": "reversed",
         "domain": [
          0,
          1
         ],
         "title": {
          "text": "task"
         }
        }
       }
      }
     },
     "metadata": {},
     "output_type": "display_data"
    }
   ],
   "source": [
    "print(\"Max time: \",max(df['end_time']))\n",
    "fig = px.timeline(df, x_start=\"start\", x_end=\"end\", y=\"task\", color=\"root\",hover_name='name', \n",
    "                    hover_data={'id':True,'duration':True,'start':False,'end':False,'task':False,'name':False,'source':False,'machine_id':False,'dependencies':True})\n",
    "fig.update_yaxes(autorange=\"reversed\")\n",
    "fig.show()\n",
    "#36300"
   ]
  }
 ],
 "metadata": {
  "kernelspec": {
   "display_name": "me",
   "language": "python",
   "name": "python3"
  },
  "language_info": {
   "codemirror_mode": {
    "name": "ipython",
    "version": 3
   },
   "file_extension": ".py",
   "mimetype": "text/x-python",
   "name": "python",
   "nbconvert_exporter": "python",
   "pygments_lexer": "ipython3",
   "version": "3.9.16"
  }
 },
 "nbformat": 4,
 "nbformat_minor": 2
}
