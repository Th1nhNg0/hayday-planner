{
 "cells": [
  {
   "cell_type": "code",
   "execution_count": 54,
   "metadata": {},
   "outputs": [],
   "source": [
    "from utils import make_need_tree,visualize_tree,make_storage,make_task_list,calc_start_end_time\n",
    "import plotly.express as px\n",
    "import pandas as pd\n",
    "import json\n",
    "import random\n",
    "import copy"
   ]
  },
  {
   "cell_type": "code",
   "execution_count": 55,
   "metadata": {},
   "outputs": [
    {
     "data": {
      "text/plain": [
       "80"
      ]
     },
     "execution_count": 55,
     "metadata": {},
     "output_type": "execute_result"
    }
   ],
   "source": [
    "storage = make_storage()\n",
    "storage['apple']=10\n",
    "tasks=make_task_list(['hamburger','bacon and eggs','cheese','baked potato','pancake','pancake'\n",
    "                      ],storage)\n",
    "len(tasks)"
   ]
  },
  {
   "cell_type": "code",
   "execution_count": 56,
   "metadata": {},
   "outputs": [
    {
     "data": {
      "text/plain": [
       "{'Bakery': [0],\n",
       " 'Chicken': [1, 2],\n",
       " 'Feed Mill': [3],\n",
       " 'Field': [4, 5, 6, 7, 8, 9, 10, 11],\n",
       " 'Raspberry bush': [12],\n",
       " 'Sugar Mill': [13],\n",
       " 'Cake Oven': [14],\n",
       " 'Cherry tree': [15, 16, 17],\n",
       " 'Cow': [18, 19],\n",
       " 'BBQ Grill': [20],\n",
       " 'Dairy': [21],\n",
       " 'Pig': [22, 23],\n",
       " 'Popcorn Pot': [24],\n",
       " 'Loom': [25],\n",
       " 'Sewing Machine': [26],\n",
       " 'Pie Oven': [27]}"
      ]
     },
     "execution_count": 56,
     "metadata": {},
     "output_type": "execute_result"
    }
   ],
   "source": [
    "# number of machines\n",
    "sources={\n",
    "    'Bakery':1, 'Chicken':2, 'Feed Mill':1, 'Field':8   , 'Raspberry bush':1,'Sugar Mill':1,'Cake Oven':1,\n",
    "    'Cherry tree':3,'Cow':2,'BBQ Grill':1,'Dairy':1,\"Pig\":2,'Popcorn Pot':1,'Loom':1,'Sewing Machine':1,\n",
    "    'Pie Oven':1\n",
    "}\n",
    "machines ={}\n",
    "# make machines is: key is same as sources, value is a list of machine_id\n",
    "# machine_id must be unique from other machines\n",
    "count  = 0\n",
    "for key,value in sources.items():\n",
    "    machines[key]=list(range(count,count+value))\n",
    "    count+=value\n",
    "machines"
   ]
  },
  {
   "cell_type": "code",
   "execution_count": 57,
   "metadata": {},
   "outputs": [],
   "source": [
    "import random\n",
    "\n",
    "def make_chromosome(tasks,machines):\n",
    "    tasks = copy.deepcopy(tasks)\n",
    "    random.shuffle(tasks)\n",
    "    tasks.sort(key=lambda x:x['order'],reverse=True)\n",
    "    for task in tasks:\n",
    "        machine_id=random.choice(machines[task['source']])\n",
    "        task['machine_id']=machine_id\n",
    "    return tasks\n",
    "\n",
    "def calc_fitness(chromosome):\n",
    "    \"\"\"calculate the fitness of a chromosome\n",
    "    chromosome: a chromosome\n",
    "    \n",
    "    return: a fitness value\n",
    "    \"\"\"\n",
    "    score = 0\n",
    "    chromosome = calc_start_end_time(chromosome,machines)\n",
    "    # maximum end_time\n",
    "    max_end_time = max([task['end_time'] for task in chromosome])\n",
    "    score += 10000/max_end_time\n",
    "    for task in chromosome:\n",
    "        if task['target']:\n",
    "            score+=1/task['end_time']\n",
    "    return score\n",
    "    \n",
    "def mutation(chromosome):\n",
    "    \"\"\"mutate a chromosome\n",
    "    chromosome: a chromosome\n",
    "    \n",
    "    return: a chromosome\n",
    "    \"\"\"\n",
    "    chromosome = copy.deepcopy(chromosome)\n",
    "    if random.random()<0.5:\n",
    "        gen = random.choice(chromosome)\n",
    "        # new_machine_id = random.choice(machines[gen['source']])\n",
    "        # next id in the same machine\n",
    "        machine_id = gen['machine_id']\n",
    "        idx = machines[gen['source']].index(machine_id)\n",
    "        new_machine_id = machines[gen['source']][(idx+1)%len(machines[gen['source']])]\n",
    "        gen['machine_id']=new_machine_id\n",
    "        \n",
    "        gen1,gen2 = random.sample(chromosome,2)\n",
    "        idx1 = chromosome.index(gen1)\n",
    "        idx2 = chromosome.index(gen2)\n",
    "        if idx1>idx2:\n",
    "            gen1,gen2=gen2,gen1\n",
    "        if gen1['order']>=gen2['order']:\n",
    "            chromosome[idx1],chromosome[idx2]=chromosome[idx2],chromosome[idx1]\n",
    "    return chromosome\n"
   ]
  },
  {
   "cell_type": "code",
   "execution_count": 58,
   "metadata": {},
   "outputs": [
    {
     "name": "stdout",
     "output_type": "stream",
     "text": [
      "iteration 0, best fitness 0.20851391807879002, best time 36360\n",
      "iteration 1, best fitness 0.2753002149638956, best time 36360\n",
      "iteration 2, best fitness 0.2753002149638956, best time 36360\n",
      "iteration 3, best fitness 0.27530647345197007, best time 36360\n",
      "iteration 4, best fitness 0.27537291418646004, best time 36300\n",
      "iteration 5, best fitness 0.27446604087077564, best time 36300\n",
      "iteration 6, best fitness 0.2744648014830332, best time 36360\n",
      "iteration 7, best fitness 0.27529957898144075, best time 36360\n",
      "iteration 8, best fitness 0.27529957898144075, best time 36360\n",
      "iteration 9, best fitness 0.27529957898144075, best time 36360\n",
      "iteration 10, best fitness 0.2753608264659701, best time 36360\n",
      "iteration 11, best fitness 0.2753608264659701, best time 36360\n",
      "iteration 12, best fitness 0.275365410228122, best time 36360\n",
      "iteration 13, best fitness 0.27537267171957697, best time 36360\n",
      "iteration 14, best fitness 0.27537267171957697, best time 36300\n",
      "iteration 15, best fitness 0.27574824501731626, best time 36300\n",
      "iteration 16, best fitness 0.27574824501731626, best time 36300\n",
      "iteration 17, best fitness 0.27003290408763364, best time 36300\n",
      "iteration 18, best fitness 0.27574824501731626, best time 36300\n",
      "iteration 19, best fitness 0.27574824501731626, best time 36300\n",
      "iteration 20, best fitness 0.27574824501731626, best time 36300\n",
      "iteration 21, best fitness 0.27574824501731626, best time 36300\n",
      "iteration 22, best fitness 0.27574824501731626, best time 36180\n",
      "iteration 23, best fitness 0.2766021911473113, best time 35400\n",
      "iteration 24, best fitness 0.2826969763918544, best time 35400\n",
      "iteration 25, best fitness 0.2826969763918544, best time 35400\n",
      "iteration 26, best fitness 0.2826969763918544, best time 35400\n",
      "iteration 27, best fitness 0.2826969763918544, best time 35400\n",
      "iteration 28, best fitness 0.2826969763918544, best time 35400\n",
      "iteration 29, best fitness 0.2826969763918544, best time 35400\n",
      "iteration 30, best fitness 0.282697349665464, best time 35400\n",
      "iteration 31, best fitness 0.282697349665464, best time 35400\n",
      "iteration 32, best fitness 0.282697349665464, best time 35400\n",
      "iteration 33, best fitness 0.282697349665464, best time 35400\n",
      "iteration 34, best fitness 0.282697349665464, best time 35400\n",
      "iteration 35, best fitness 0.282697349665464, best time 35400\n",
      "iteration 36, best fitness 0.282697349665464, best time 35400\n",
      "iteration 37, best fitness 0.282697349665464, best time 35400\n",
      "iteration 38, best fitness 0.282697349665464, best time 35400\n",
      "iteration 39, best fitness 0.2826998774713285, best time 35400\n",
      "iteration 40, best fitness 0.2826998774713285, best time 35400\n",
      "iteration 41, best fitness 0.2826998774713285, best time 35400\n",
      "iteration 42, best fitness 0.2826998774713285, best time 35400\n",
      "iteration 43, best fitness 0.2826998774713285, best time 35400\n",
      "iteration 44, best fitness 0.28271162283191104, best time 35400\n",
      "iteration 45, best fitness 0.28271162283191104, best time 35400\n",
      "iteration 46, best fitness 0.28271162283191104, best time 35400\n",
      "iteration 47, best fitness 0.28271162283191104, best time 35400\n",
      "iteration 48, best fitness 0.28271162283191104, best time 35400\n",
      "iteration 49, best fitness 0.28271162283191104, best time 35400\n"
     ]
    }
   ],
   "source": [
    "# simple GA algorithm\n",
    "pop_size = 500\n",
    "iteration = 50\n",
    "# generate inital population\n",
    "population = []\n",
    "for i in range(pop_size):\n",
    "    population.append(make_chromosome(tasks,machines))\n",
    "\n",
    "for i in range(iteration):\n",
    "    fitness = []\n",
    "    for chromosome in population:\n",
    "        fitness.append(calc_fitness(chromosome))\n",
    "    # generate new population\n",
    "    new_population = []\n",
    "    best_chromosome = population[fitness.index(max(fitness))]\n",
    "    new_population.append(best_chromosome)\n",
    "    print(f'iteration {i}, best fitness {fitness[0]}, best time {max([task[\"end_time\"] for task in best_chromosome])}')\n",
    "    for i in range(pop_size-1):\n",
    "        # no crossover\n",
    "        # mutation\n",
    "        new_population.append(mutation(population[i]))\n",
    "    population = new_population"
   ]
  },
  {
   "cell_type": "code",
   "execution_count": 59,
   "metadata": {},
   "outputs": [
    {
     "data": {
      "text/html": [
       "<div>\n",
       "<style scoped>\n",
       "    .dataframe tbody tr th:only-of-type {\n",
       "        vertical-align: middle;\n",
       "    }\n",
       "\n",
       "    .dataframe tbody tr th {\n",
       "        vertical-align: top;\n",
       "    }\n",
       "\n",
       "    .dataframe thead th {\n",
       "        text-align: right;\n",
       "    }\n",
       "</style>\n",
       "<table border=\"1\" class=\"dataframe\">\n",
       "  <thead>\n",
       "    <tr style=\"text-align: right;\">\n",
       "      <th></th>\n",
       "      <th>id</th>\n",
       "      <th>name</th>\n",
       "      <th>dependencies</th>\n",
       "      <th>duration</th>\n",
       "      <th>source</th>\n",
       "      <th>machine_id</th>\n",
       "      <th>target</th>\n",
       "      <th>order</th>\n",
       "      <th>start_time</th>\n",
       "      <th>end_time</th>\n",
       "      <th>task</th>\n",
       "      <th>start</th>\n",
       "      <th>end</th>\n",
       "    </tr>\n",
       "  </thead>\n",
       "  <tbody>\n",
       "    <tr>\n",
       "      <th>0</th>\n",
       "      <td>15</td>\n",
       "      <td>hamburger</td>\n",
       "      <td>[1, 2, 3, 4, 5, 6, 7, 8, 9, 10, 11, 12, 13, 14]</td>\n",
       "      <td>7200</td>\n",
       "      <td>BBQ Grill</td>\n",
       "      <td>20</td>\n",
       "      <td>True</td>\n",
       "      <td>1</td>\n",
       "      <td>17400</td>\n",
       "      <td>24600</td>\n",
       "      <td>BBQ Grill 20</td>\n",
       "      <td>2024-01-04 10:23:30.747676</td>\n",
       "      <td>2024-01-04 12:23:30.748696</td>\n",
       "    </tr>\n",
       "    <tr>\n",
       "      <th>1</th>\n",
       "      <td>52</td>\n",
       "      <td>corn</td>\n",
       "      <td>[]</td>\n",
       "      <td>300</td>\n",
       "      <td>Field</td>\n",
       "      <td>7</td>\n",
       "      <td>False</td>\n",
       "      <td>5</td>\n",
       "      <td>0</td>\n",
       "      <td>300</td>\n",
       "      <td>Field 7</td>\n",
       "      <td>2024-01-04 05:33:30.747676</td>\n",
       "      <td>2024-01-04 05:38:30.748696</td>\n",
       "    </tr>\n",
       "    <tr>\n",
       "      <th>2</th>\n",
       "      <td>43</td>\n",
       "      <td>corn</td>\n",
       "      <td>[]</td>\n",
       "      <td>300</td>\n",
       "      <td>Field</td>\n",
       "      <td>8</td>\n",
       "      <td>False</td>\n",
       "      <td>5</td>\n",
       "      <td>0</td>\n",
       "      <td>300</td>\n",
       "      <td>Field 8</td>\n",
       "      <td>2024-01-04 05:33:30.747676</td>\n",
       "      <td>2024-01-04 05:38:30.748696</td>\n",
       "    </tr>\n",
       "    <tr>\n",
       "      <th>3</th>\n",
       "      <td>45</td>\n",
       "      <td>soybean</td>\n",
       "      <td>[]</td>\n",
       "      <td>1200</td>\n",
       "      <td>Field</td>\n",
       "      <td>10</td>\n",
       "      <td>False</td>\n",
       "      <td>5</td>\n",
       "      <td>0</td>\n",
       "      <td>1200</td>\n",
       "      <td>Field 10</td>\n",
       "      <td>2024-01-04 05:33:30.747676</td>\n",
       "      <td>2024-01-04 05:53:30.748696</td>\n",
       "    </tr>\n",
       "    <tr>\n",
       "      <th>4</th>\n",
       "      <td>44</td>\n",
       "      <td>soybean</td>\n",
       "      <td>[]</td>\n",
       "      <td>1200</td>\n",
       "      <td>Field</td>\n",
       "      <td>6</td>\n",
       "      <td>False</td>\n",
       "      <td>5</td>\n",
       "      <td>0</td>\n",
       "      <td>1200</td>\n",
       "      <td>Field 6</td>\n",
       "      <td>2024-01-04 05:33:30.747676</td>\n",
       "      <td>2024-01-04 05:53:30.748696</td>\n",
       "    </tr>\n",
       "  </tbody>\n",
       "</table>\n",
       "</div>"
      ],
      "text/plain": [
       "   id       name                                     dependencies  duration  \\\n",
       "0  15  hamburger  [1, 2, 3, 4, 5, 6, 7, 8, 9, 10, 11, 12, 13, 14]      7200   \n",
       "1  52       corn                                               []       300   \n",
       "2  43       corn                                               []       300   \n",
       "3  45    soybean                                               []      1200   \n",
       "4  44    soybean                                               []      1200   \n",
       "\n",
       "      source  machine_id  target  order  start_time  end_time          task  \\\n",
       "0  BBQ Grill          20    True      1       17400     24600  BBQ Grill 20   \n",
       "1      Field           7   False      5           0       300       Field 7   \n",
       "2      Field           8   False      5           0       300       Field 8   \n",
       "3      Field          10   False      5           0      1200      Field 10   \n",
       "4      Field           6   False      5           0      1200       Field 6   \n",
       "\n",
       "                       start                        end  \n",
       "0 2024-01-04 10:23:30.747676 2024-01-04 12:23:30.748696  \n",
       "1 2024-01-04 05:33:30.747676 2024-01-04 05:38:30.748696  \n",
       "2 2024-01-04 05:33:30.747676 2024-01-04 05:38:30.748696  \n",
       "3 2024-01-04 05:33:30.747676 2024-01-04 05:53:30.748696  \n",
       "4 2024-01-04 05:33:30.747676 2024-01-04 05:53:30.748696  "
      ]
     },
     "execution_count": 59,
     "metadata": {},
     "output_type": "execute_result"
    }
   ],
   "source": [
    "# chromosome = make_chromosome(tasks,machines)\n",
    "chromosome = population[fitness.index(max(fitness))]\n",
    "test_tasks = calc_start_end_time(chromosome,machines)\n",
    "df = pd.DataFrame(test_tasks)\n",
    "# task is source + machine_id\n",
    "df['task']=df['source']+' '+df['machine_id'].astype(str)\n",
    "df['start'] = pd.to_datetime('today')+pd.to_timedelta(df['start_time'],unit='s')\n",
    "df['end'] = pd.to_datetime('today')+pd.to_timedelta(df['end_time'],unit='s')\n",
    "df.head()"
   ]
  },
  {
   "cell_type": "code",
   "execution_count": 60,
   "metadata": {},
   "outputs": [
    {
     "name": "stdout",
     "output_type": "stream",
     "text": [
      "Max time:  35400\n"
     ]
    },
    {
     "data": {
      "application/vnd.plotly.v1+json": {
       "config": {
        "plotlyServerURL": "https://plot.ly"
       },
       "data": [
        {
         "alignmentgroup": "True",
         "base": [
          "2024-01-04T10:23:30.747676"
         ],
         "customdata": [
          [
           15,
           7200,
           "hamburger",
           "BBQ Grill",
           20,
           [
            1,
            2,
            3,
            4,
            5,
            6,
            7,
            8,
            9,
            10,
            11,
            12,
            13,
            14
           ]
          ]
         ],
         "hovertemplate": "<b>%{hovertext}</b><br><br>id=%{customdata[0]}<br>duration=%{customdata[1]}<br>dependencies=%{customdata[5]}<extra></extra>",
         "hovertext": [
          "hamburger"
         ],
         "legendgroup": "hamburger",
         "marker": {
          "color": "#636efa",
          "pattern": {
           "shape": ""
          }
         },
         "name": "hamburger",
         "offsetgroup": "hamburger",
         "orientation": "h",
         "showlegend": true,
         "textposition": "auto",
         "type": "bar",
         "x": [
          7200001.02
         ],
         "xaxis": "x",
         "y": [
          "BBQ Grill 20"
         ],
         "yaxis": "y"
        },
        {
         "alignmentgroup": "True",
         "base": [
          "2024-01-04T05:33:30.747676",
          "2024-01-04T05:33:30.747676",
          "2024-01-04T05:53:30.747676",
          "2024-01-04T05:55:30.747676",
          "2024-01-04T05:43:30.747676",
          "2024-01-04T06:18:30.747676",
          "2024-01-04T05:47:30.747676"
         ],
         "customdata": [
          [
           52,
           300,
           "corn",
           "Field",
           7,
           []
          ],
          [
           43,
           300,
           "corn",
           "Field",
           8,
           []
          ],
          [
           63,
           300,
           "corn",
           "Field",
           10,
           []
          ],
          [
           22,
           300,
           "corn",
           "Field",
           5,
           []
          ],
          [
           35,
           300,
           "corn",
           "Field",
           4,
           []
          ],
          [
           73,
           300,
           "corn",
           "Field",
           4,
           []
          ],
          [
           23,
           300,
           "corn",
           "Field",
           9,
           []
          ]
         ],
         "hovertemplate": "<b>%{hovertext}</b><br><br>id=%{customdata[0]}<br>duration=%{customdata[1]}<br>dependencies=%{customdata[5]}<extra></extra>",
         "hovertext": [
          "corn",
          "corn",
          "corn",
          "corn",
          "corn",
          "corn",
          "corn"
         ],
         "legendgroup": "corn",
         "marker": {
          "color": "#EF553B",
          "pattern": {
           "shape": ""
          }
         },
         "name": "corn",
         "offsetgroup": "corn",
         "orientation": "h",
         "showlegend": true,
         "textposition": "auto",
         "type": "bar",
         "x": [
          300001.02,
          300001.02,
          300001.02,
          300001.02,
          300001.02,
          300001.02,
          300001.02
         ],
         "xaxis": "x",
         "y": [
          "Field 7",
          "Field 8",
          "Field 10",
          "Field 5",
          "Field 4",
          "Field 4",
          "Field 9"
         ],
         "yaxis": "y"
        },
        {
         "alignmentgroup": "True",
         "base": [
          "2024-01-04T05:33:30.747676",
          "2024-01-04T05:33:30.747676",
          "2024-01-04T05:33:30.747676",
          "2024-01-04T05:33:30.747676",
          "2024-01-04T05:48:30.747676",
          "2024-01-04T06:08:30.747676",
          "2024-01-04T05:40:30.747676",
          "2024-01-04T09:53:30.747676"
         ],
         "customdata": [
          [
           45,
           1200,
           "soybean",
           "Field",
           10,
           []
          ],
          [
           44,
           1200,
           "soybean",
           "Field",
           6,
           []
          ],
          [
           53,
           1200,
           "soybean",
           "Field",
           5,
           []
          ],
          [
           3,
           1200,
           "soybean",
           "Field",
           11,
           []
          ],
          [
           18,
           1200,
           "soybean",
           "Field",
           8,
           []
          ],
          [
           37,
           1200,
           "soybean",
           "Field",
           8,
           []
          ],
          [
           36,
           1200,
           "soybean",
           "Field",
           7,
           []
          ],
          [
           54,
           1200,
           "soybean",
           "Field",
           11,
           []
          ]
         ],
         "hovertemplate": "<b>%{hovertext}</b><br><br>id=%{customdata[0]}<br>duration=%{customdata[1]}<br>dependencies=%{customdata[5]}<extra></extra>",
         "hovertext": [
          "soybean",
          "soybean",
          "soybean",
          "soybean",
          "soybean",
          "soybean",
          "soybean",
          "soybean"
         ],
         "legendgroup": "soybean",
         "marker": {
          "color": "#00cc96",
          "pattern": {
           "shape": ""
          }
         },
         "name": "soybean",
         "offsetgroup": "soybean",
         "orientation": "h",
         "showlegend": true,
         "textposition": "auto",
         "type": "bar",
         "x": [
          1200001.02,
          1200001.02,
          1200001.02,
          1200001.02,
          1200001.02,
          1200001.02,
          1200001.02,
          1200001.02
         ],
         "xaxis": "x",
         "y": [
          "Field 10",
          "Field 6",
          "Field 5",
          "Field 11",
          "Field 8",
          "Field 8",
          "Field 7",
          "Field 11"
         ],
         "yaxis": "y"
        },
        {
         "alignmentgroup": "True",
         "base": [
          "2024-01-04T06:03:30.747676",
          "2024-01-04T07:03:30.747676",
          "2024-01-04T07:03:30.747676",
          "2024-01-04T08:03:30.747676",
          "2024-01-04T09:03:30.747676",
          "2024-01-04T08:03:30.747676",
          "2024-01-04T10:23:30.747676"
         ],
         "customdata": [
          [
           47,
           3600,
           "milk",
           "Cow",
           18,
           [
            43,
            44,
            45,
            46
           ]
          ],
          [
           40,
           3600,
           "milk",
           "Cow",
           19,
           [
            35,
            36,
            37,
            38
           ]
          ],
          [
           49,
           3600,
           "milk",
           "Cow",
           18,
           [
            43,
            44,
            45,
            46
           ]
          ],
          [
           48,
           3600,
           "milk",
           "Cow",
           18,
           [
            43,
            44,
            45,
            46
           ]
          ],
          [
           41,
           3600,
           "milk",
           "Cow",
           18,
           [
            35,
            36,
            37,
            38
           ]
          ],
          [
           39,
           3600,
           "milk",
           "Cow",
           19,
           [
            35,
            36,
            37,
            38
           ]
          ],
          [
           56,
           3600,
           "milk",
           "Cow",
           19,
           [
            52,
            53,
            54,
            55
           ]
          ]
         ],
         "hovertemplate": "<b>%{hovertext}</b><br><br>id=%{customdata[0]}<br>duration=%{customdata[1]}<br>dependencies=%{customdata[5]}<extra></extra>",
         "hovertext": [
          "milk",
          "milk",
          "milk",
          "milk",
          "milk",
          "milk",
          "milk"
         ],
         "legendgroup": "milk",
         "marker": {
          "color": "#ab63fa",
          "pattern": {
           "shape": ""
          }
         },
         "name": "milk",
         "offsetgroup": "milk",
         "orientation": "h",
         "showlegend": true,
         "textposition": "auto",
         "type": "bar",
         "x": [
          3600001.02,
          3600001.02,
          3600001.02,
          3600001.02,
          3600001.02,
          3600001.02,
          3600001.02
         ],
         "xaxis": "x",
         "y": [
          "Cow 18",
          "Cow 19",
          "Cow 18",
          "Cow 18",
          "Cow 18",
          "Cow 19",
          "Cow 19"
         ],
         "yaxis": "y"
        },
        {
         "alignmentgroup": "True",
         "base": [
          "2024-01-04T05:53:30.747676",
          "2024-01-04T05:38:30.747676",
          "2024-01-04T05:53:30.747676",
          "2024-01-04T05:55:30.747676",
          "2024-01-04T05:57:30.747676",
          "2024-01-04T05:59:30.747676",
          "2024-01-04T06:28:30.747676",
          "2024-01-04T05:43:30.747676",
          "2024-01-04T05:58:30.747676",
          "2024-01-04T06:00:30.747676",
          "2024-01-04T05:45:30.747676",
          "2024-01-04T06:00:30.747676",
          "2024-01-04T06:02:30.747676",
          "2024-01-04T06:11:30.747676"
         ],
         "customdata": [
          [
           25,
           120,
           "wheat",
           "Field",
           5,
           []
          ],
          [
           64,
           120,
           "wheat",
           "Field",
           7,
           []
          ],
          [
           9,
           120,
           "wheat",
           "Field",
           6,
           []
          ],
          [
           26,
           120,
           "wheat",
           "Field",
           6,
           []
          ],
          [
           75,
           120,
           "wheat",
           "Field",
           6,
           []
          ],
          [
           27,
           120,
           "wheat",
           "Field",
           6,
           []
          ],
          [
           7,
           120,
           "wheat",
           "Field",
           8,
           []
          ],
          [
           11,
           120,
           "wheat",
           "Field",
           9,
           []
          ],
          [
           8,
           120,
           "wheat",
           "Field",
           10,
           []
          ],
          [
           65,
           120,
           "wheat",
           "Field",
           5,
           []
          ],
          [
           74,
           120,
           "wheat",
           "Field",
           9,
           []
          ],
          [
           10,
           120,
           "wheat",
           "Field",
           7,
           []
          ],
          [
           24,
           120,
           "wheat",
           "Field",
           7,
           []
          ],
          [
           12,
           120,
           "wheat",
           "Field",
           6,
           []
          ]
         ],
         "hovertemplate": "<b>%{hovertext}</b><br><br>id=%{customdata[0]}<br>duration=%{customdata[1]}<br>dependencies=%{customdata[5]}<extra></extra>",
         "hovertext": [
          "wheat",
          "wheat",
          "wheat",
          "wheat",
          "wheat",
          "wheat",
          "wheat",
          "wheat",
          "wheat",
          "wheat",
          "wheat",
          "wheat",
          "wheat",
          "wheat"
         ],
         "legendgroup": "wheat",
         "marker": {
          "color": "#FFA15A",
          "pattern": {
           "shape": ""
          }
         },
         "name": "wheat",
         "offsetgroup": "wheat",
         "orientation": "h",
         "showlegend": true,
         "textposition": "auto",
         "type": "bar",
         "x": [
          120001.02,
          120001.02,
          120001.02,
          120001.02,
          120001.02,
          120001.02,
          120001.02,
          120001.02,
          120001.02,
          120001.02,
          120001.02,
          120001.02,
          120001.02,
          120001.02
         ],
         "xaxis": "x",
         "y": [
          "Field 5",
          "Field 7",
          "Field 6",
          "Field 6",
          "Field 6",
          "Field 6",
          "Field 8",
          "Field 9",
          "Field 10",
          "Field 5",
          "Field 9",
          "Field 7",
          "Field 7",
          "Field 6"
         ],
         "yaxis": "y"
        },
        {
         "alignmentgroup": "True",
         "base": [
          "2024-01-04T10:28:30.747676",
          "2024-01-04T06:33:30.747676",
          "2024-01-04T10:48:30.747676",
          "2024-01-04T11:08:30.747676",
          "2024-01-04T11:28:30.747676",
          "2024-01-04T11:48:30.747676",
          "2024-01-04T12:08:30.747676",
          "2024-01-04T12:28:30.747676",
          "2024-01-04T06:53:30.747676",
          "2024-01-04T12:48:30.747676"
         ],
         "customdata": [
          [
           33,
           1200,
           "egg",
           "Chicken",
           2,
           [
            22,
            23,
            24,
            25,
            26,
            27,
            28,
            29
           ]
          ],
          [
           67,
           1200,
           "egg",
           "Chicken",
           1,
           [
            63,
            64,
            65,
            66
           ]
          ],
          [
           31,
           1200,
           "egg",
           "Chicken",
           2,
           [
            22,
            23,
            24,
            25,
            26,
            27,
            28,
            29
           ]
          ],
          [
           78,
           1200,
           "egg",
           "Chicken",
           2,
           [
            73,
            74,
            75,
            76
           ]
          ],
          [
           68,
           1200,
           "egg",
           "Chicken",
           2,
           [
            63,
            64,
            65,
            66
           ]
          ],
          [
           69,
           1200,
           "egg",
           "Chicken",
           2,
           [
            63,
            64,
            65,
            66
           ]
          ],
          [
           79,
           1200,
           "egg",
           "Chicken",
           2,
           [
            73,
            74,
            75,
            76
           ]
          ],
          [
           32,
           1200,
           "egg",
           "Chicken",
           2,
           [
            22,
            23,
            24,
            25,
            26,
            27,
            28,
            29
           ]
          ],
          [
           77,
           1200,
           "egg",
           "Chicken",
           1,
           [
            73,
            74,
            75,
            76
           ]
          ],
          [
           30,
           1200,
           "egg",
           "Chicken",
           2,
           [
            22,
            23,
            24,
            25,
            26,
            27,
            28,
            29
           ]
          ]
         ],
         "hovertemplate": "<b>%{hovertext}</b><br><br>id=%{customdata[0]}<br>duration=%{customdata[1]}<br>dependencies=%{customdata[5]}<extra></extra>",
         "hovertext": [
          "egg",
          "egg",
          "egg",
          "egg",
          "egg",
          "egg",
          "egg",
          "egg",
          "egg",
          "egg"
         ],
         "legendgroup": "egg",
         "marker": {
          "color": "#19d3f3",
          "pattern": {
           "shape": ""
          }
         },
         "name": "egg",
         "offsetgroup": "egg",
         "orientation": "h",
         "showlegend": true,
         "textposition": "auto",
         "type": "bar",
         "x": [
          1200001.02,
          1200001.02,
          1200001.02,
          1200001.02,
          1200001.02,
          1200001.02,
          1200001.02,
          1200001.02,
          1200001.02,
          1200001.02
         ],
         "xaxis": "x",
         "y": [
          "Chicken 2",
          "Chicken 1",
          "Chicken 2",
          "Chicken 2",
          "Chicken 2",
          "Chicken 2",
          "Chicken 2",
          "Chicken 2",
          "Chicken 1",
          "Chicken 2"
         ],
         "yaxis": "y"
        },
        {
         "alignmentgroup": "True",
         "base": [
          "2024-01-04T05:38:30.747676",
          "2024-01-04T05:33:30.747676",
          "2024-01-04T05:33:30.747676",
          "2024-01-04T06:01:30.747676"
         ],
         "customdata": [
          [
           1,
           600,
           "carrot",
           "Field",
           8,
           []
          ],
          [
           2,
           600,
           "carrot",
           "Field",
           9,
           []
          ],
          [
           17,
           600,
           "carrot",
           "Field",
           4,
           []
          ],
          [
           16,
           600,
           "carrot",
           "Field",
           6,
           []
          ]
         ],
         "hovertemplate": "<b>%{hovertext}</b><br><br>id=%{customdata[0]}<br>duration=%{customdata[1]}<br>dependencies=%{customdata[5]}<extra></extra>",
         "hovertext": [
          "carrot",
          "carrot",
          "carrot",
          "carrot"
         ],
         "legendgroup": "carrot",
         "marker": {
          "color": "#FF6692",
          "pattern": {
           "shape": ""
          }
         },
         "name": "carrot",
         "offsetgroup": "carrot",
         "orientation": "h",
         "showlegend": true,
         "textposition": "auto",
         "type": "bar",
         "x": [
          600001.02,
          600001.02,
          600001.02,
          600001.02
         ],
         "xaxis": "x",
         "y": [
          "Field 8",
          "Field 9",
          "Field 4",
          "Field 6"
         ],
         "yaxis": "y"
        },
        {
         "alignmentgroup": "True",
         "base": [
          "2024-01-04T06:18:30.747676",
          "2024-01-04T06:53:30.747676"
         ],
         "customdata": [
          [
           72,
           1200,
           "brown sugar",
           "Sugar Mill",
           13,
           [
            71
           ]
          ],
          [
           62,
           1200,
           "brown sugar",
           "Sugar Mill",
           13,
           [
            61
           ]
          ]
         ],
         "hovertemplate": "<b>%{hovertext}</b><br><br>id=%{customdata[0]}<br>duration=%{customdata[1]}<br>dependencies=%{customdata[5]}<extra></extra>",
         "hovertext": [
          "brown sugar",
          "brown sugar"
         ],
         "legendgroup": "brown sugar",
         "marker": {
          "color": "#B6E880",
          "pattern": {
           "shape": ""
          }
         },
         "name": "brown sugar",
         "offsetgroup": "brown sugar",
         "orientation": "h",
         "showlegend": true,
         "textposition": "auto",
         "type": "bar",
         "x": [
          1200001.02,
          1200001.02
         ],
         "xaxis": "x",
         "y": [
          "Sugar Mill 13",
          "Sugar Mill 13"
         ],
         "yaxis": "y"
        },
        {
         "alignmentgroup": "True",
         "base": [
          "2024-01-04T05:53:30.747676",
          "2024-01-04T06:53:30.747676",
          "2024-01-04T10:13:30.747676"
         ],
         "customdata": [
          [
           46,
           600,
           "cow feed",
           "Feed Mill",
           3,
           [
            43,
            44,
            45
           ]
          ],
          [
           38,
           600,
           "cow feed",
           "Feed Mill",
           3,
           [
            35,
            36,
            37
           ]
          ],
          [
           55,
           600,
           "cow feed",
           "Feed Mill",
           3,
           [
            52,
            53,
            54
           ]
          ]
         ],
         "hovertemplate": "<b>%{hovertext}</b><br><br>id=%{customdata[0]}<br>duration=%{customdata[1]}<br>dependencies=%{customdata[5]}<extra></extra>",
         "hovertext": [
          "cow feed",
          "cow feed",
          "cow feed"
         ],
         "legendgroup": "cow feed",
         "marker": {
          "color": "#FF97FF",
          "pattern": {
           "shape": ""
          }
         },
         "name": "cow feed",
         "offsetgroup": "cow feed",
         "orientation": "h",
         "showlegend": true,
         "textposition": "auto",
         "type": "bar",
         "x": [
          600001.02,
          600001.02,
          600001.02
         ],
         "xaxis": "x",
         "y": [
          "Feed Mill 3",
          "Feed Mill 3",
          "Feed Mill 3"
         ],
         "yaxis": "y"
        },
        {
         "alignmentgroup": "True",
         "base": [
          "2024-01-04T12:23:30.747676",
          "2024-01-04T12:53:30.747676"
         ],
         "customdata": [
          [
           70,
           1800,
           "pancake",
           "BBQ Grill",
           20,
           [
            61,
            62,
            63,
            64,
            65,
            66,
            67,
            68,
            69
           ]
          ],
          [
           80,
           1800,
           "pancake",
           "BBQ Grill",
           20,
           [
            71,
            72,
            73,
            74,
            75,
            76,
            77,
            78,
            79
           ]
          ]
         ],
         "hovertemplate": "<b>%{hovertext}</b><br><br>id=%{customdata[0]}<br>duration=%{customdata[1]}<br>dependencies=%{customdata[5]}<extra></extra>",
         "hovertext": [
          "pancake",
          "pancake"
         ],
         "legendgroup": "pancake",
         "marker": {
          "color": "#FECB52",
          "pattern": {
           "shape": ""
          }
         },
         "name": "pancake",
         "offsetgroup": "pancake",
         "orientation": "h",
         "showlegend": true,
         "textposition": "auto",
         "type": "bar",
         "x": [
          1800001.02,
          1800001.02
         ],
         "xaxis": "x",
         "y": [
          "BBQ Grill 20",
          "BBQ Grill 20"
         ],
         "yaxis": "y"
        },
        {
         "alignmentgroup": "True",
         "base": [
          "2024-01-04T05:48:30.747676",
          "2024-01-04T06:23:30.747676"
         ],
         "customdata": [
          [
           71,
           1800,
           "sugarcane",
           "Field",
           4,
           []
          ],
          [
           61,
           1800,
           "sugarcane",
           "Field",
           4,
           []
          ]
         ],
         "hovertemplate": "<b>%{hovertext}</b><br><br>id=%{customdata[0]}<br>duration=%{customdata[1]}<br>dependencies=%{customdata[5]}<extra></extra>",
         "hovertext": [
          "sugarcane",
          "sugarcane"
         ],
         "legendgroup": "sugarcane",
         "marker": {
          "color": "#636efa",
          "pattern": {
           "shape": ""
          }
         },
         "name": "sugarcane",
         "offsetgroup": "sugarcane",
         "orientation": "h",
         "showlegend": true,
         "textposition": "auto",
         "type": "bar",
         "x": [
          1800001.02,
          1800001.02
         ],
         "xaxis": "x",
         "y": [
          "Field 4",
          "Field 4"
         ],
         "yaxis": "y"
        },
        {
         "alignmentgroup": "True",
         "base": [
          "2024-01-04T06:03:30.747676",
          "2024-01-04T06:33:30.747676"
         ],
         "customdata": [
          [
           4,
           1200,
           "pig feed",
           "Feed Mill",
           3,
           [
            1,
            2,
            3
           ]
          ],
          [
           19,
           1200,
           "pig feed",
           "Feed Mill",
           3,
           [
            16,
            17,
            18
           ]
          ]
         ],
         "hovertemplate": "<b>%{hovertext}</b><br><br>id=%{customdata[0]}<br>duration=%{customdata[1]}<br>dependencies=%{customdata[5]}<extra></extra>",
         "hovertext": [
          "pig feed",
          "pig feed"
         ],
         "legendgroup": "pig feed",
         "marker": {
          "color": "#EF553B",
          "pattern": {
           "shape": ""
          }
         },
         "name": "pig feed",
         "offsetgroup": "pig feed",
         "orientation": "h",
         "showlegend": true,
         "textposition": "auto",
         "type": "bar",
         "x": [
          1200001.02,
          1200001.02
         ],
         "xaxis": "x",
         "y": [
          "Feed Mill 3",
          "Feed Mill 3"
         ],
         "yaxis": "y"
        },
        {
         "alignmentgroup": "True",
         "base": [
          "2024-01-04T10:03:30.747676",
          "2024-01-04T11:03:30.747676"
         ],
         "customdata": [
          [
           42,
           3600,
           "cheese",
           "Dairy",
           21,
           [
            35,
            36,
            37,
            38,
            39,
            40,
            41
           ]
          ],
          [
           50,
           3600,
           "cheese",
           "Dairy",
           21,
           [
            43,
            44,
            45,
            46,
            47,
            48,
            49
           ]
          ]
         ],
         "hovertemplate": "<b>%{hovertext}</b><br><br>id=%{customdata[0]}<br>duration=%{customdata[1]}<br>dependencies=%{customdata[5]}<extra></extra>",
         "hovertext": [
          "cheese",
          "cheese"
         ],
         "legendgroup": "cheese",
         "marker": {
          "color": "#00cc96",
          "pattern": {
           "shape": ""
          }
         },
         "name": "cheese",
         "offsetgroup": "cheese",
         "orientation": "h",
         "showlegend": true,
         "textposition": "auto",
         "type": "bar",
         "x": [
          3600001.02,
          3600001.02
         ],
         "xaxis": "x",
         "y": [
          "Dairy 21",
          "Dairy 21"
         ],
         "yaxis": "y"
        },
        {
         "alignmentgroup": "True",
         "base": [
          "2024-01-04T06:23:30.747676",
          "2024-01-04T06:28:30.747676",
          "2024-01-04T07:03:30.747676",
          "2024-01-04T10:23:30.747676"
         ],
         "customdata": [
          [
           76,
           300,
           "chicken feed",
           "Feed Mill",
           3,
           [
            73,
            74,
            75
           ]
          ],
          [
           66,
           300,
           "chicken feed",
           "Feed Mill",
           3,
           [
            63,
            64,
            65
           ]
          ],
          [
           28,
           300,
           "chicken feed",
           "Feed Mill",
           3,
           [
            22,
            23,
            24,
            25,
            26,
            27
           ]
          ],
          [
           29,
           300,
           "chicken feed",
           "Feed Mill",
           3,
           [
            22,
            23,
            24,
            25,
            26,
            27
           ]
          ]
         ],
         "hovertemplate": "<b>%{hovertext}</b><br><br>id=%{customdata[0]}<br>duration=%{customdata[1]}<br>dependencies=%{customdata[5]}<extra></extra>",
         "hovertext": [
          "chicken feed",
          "chicken feed",
          "chicken feed",
          "chicken feed"
         ],
         "legendgroup": "chicken feed",
         "marker": {
          "color": "#ab63fa",
          "pattern": {
           "shape": ""
          }
         },
         "name": "chicken feed",
         "offsetgroup": "chicken feed",
         "orientation": "h",
         "showlegend": true,
         "textposition": "auto",
         "type": "bar",
         "x": [
          300001.02,
          300001.02,
          300001.02,
          300001.02
         ],
         "xaxis": "x",
         "y": [
          "Feed Mill 3",
          "Feed Mill 3",
          "Feed Mill 3",
          "Feed Mill 3"
         ],
         "yaxis": "y"
        },
        {
         "alignmentgroup": "True",
         "base": [
          "2024-01-04T06:30:30.747676",
          "2024-01-04T06:35:30.747676"
         ],
         "customdata": [
          [
           14,
           300,
           "bread",
           "Bakery",
           0,
           [
            7,
            8,
            9,
            10,
            11,
            12
           ]
          ],
          [
           13,
           300,
           "bread",
           "Bakery",
           0,
           [
            7,
            8,
            9,
            10,
            11,
            12
           ]
          ]
         ],
         "hovertemplate": "<b>%{hovertext}</b><br><br>id=%{customdata[0]}<br>duration=%{customdata[1]}<br>dependencies=%{customdata[5]}<extra></extra>",
         "hovertext": [
          "bread",
          "bread"
         ],
         "legendgroup": "bread",
         "marker": {
          "color": "#FFA15A",
          "pattern": {
           "shape": ""
          }
         },
         "name": "bread",
         "offsetgroup": "bread",
         "orientation": "h",
         "showlegend": true,
         "textposition": "auto",
         "type": "bar",
         "x": [
          300001.02,
          300001.02
         ],
         "xaxis": "x",
         "y": [
          "Bakery 0",
          "Bakery 0"
         ],
         "yaxis": "y"
        },
        {
         "alignmentgroup": "True",
         "base": [
          "2024-01-04T06:23:30.747676",
          "2024-01-04T10:23:30.747676",
          "2024-01-04T06:23:30.747676",
          "2024-01-04T10:23:30.747676"
         ],
         "customdata": [
          [
           5,
           14400,
           "bacon",
           "Pig",
           23,
           [
            1,
            2,
            3,
            4
           ]
          ],
          [
           21,
           14400,
           "bacon",
           "Pig",
           23,
           [
            16,
            17,
            18,
            19
           ]
          ],
          [
           6,
           14400,
           "bacon",
           "Pig",
           22,
           [
            1,
            2,
            3,
            4
           ]
          ],
          [
           20,
           14400,
           "bacon",
           "Pig",
           22,
           [
            16,
            17,
            18,
            19
           ]
          ]
         ],
         "hovertemplate": "<b>%{hovertext}</b><br><br>id=%{customdata[0]}<br>duration=%{customdata[1]}<br>dependencies=%{customdata[5]}<extra></extra>",
         "hovertext": [
          "bacon",
          "bacon",
          "bacon",
          "bacon"
         ],
         "legendgroup": "bacon",
         "marker": {
          "color": "#19d3f3",
          "pattern": {
           "shape": ""
          }
         },
         "name": "bacon",
         "offsetgroup": "bacon",
         "orientation": "h",
         "showlegend": true,
         "textposition": "auto",
         "type": "bar",
         "x": [
          14400001.02,
          14400001.02,
          14400001.02,
          14400001.02
         ],
         "xaxis": "x",
         "y": [
          "Pig 23",
          "Pig 23",
          "Pig 22",
          "Pig 22"
         ],
         "yaxis": "y"
        },
        {
         "alignmentgroup": "True",
         "base": [
          "2024-01-04T05:53:30.747676"
         ],
         "customdata": [
          [
           51,
           14400,
           "chili pepper",
           "Field",
           11,
           []
          ]
         ],
         "hovertemplate": "<b>%{hovertext}</b><br><br>id=%{customdata[0]}<br>duration=%{customdata[1]}<br>dependencies=%{customdata[5]}<extra></extra>",
         "hovertext": [
          "chili pepper"
         ],
         "legendgroup": "chili pepper",
         "marker": {
          "color": "#FF6692",
          "pattern": {
           "shape": ""
          }
         },
         "name": "chili pepper",
         "offsetgroup": "chili pepper",
         "orientation": "h",
         "showlegend": true,
         "textposition": "auto",
         "type": "bar",
         "x": [
          14400001.02
         ],
         "xaxis": "x",
         "y": [
          "Field 11"
         ],
         "yaxis": "y"
        },
        {
         "alignmentgroup": "True",
         "base": [
          "2024-01-04T06:04:30.747676",
          "2024-01-04T06:53:30.747676"
         ],
         "customdata": [
          [
           58,
           13200,
           "potato",
           "Field",
           7,
           []
          ],
          [
           59,
           13200,
           "potato",
           "Field",
           4,
           []
          ]
         ],
         "hovertemplate": "<b>%{hovertext}</b><br><br>id=%{customdata[0]}<br>duration=%{customdata[1]}<br>dependencies=%{customdata[5]}<extra></extra>",
         "hovertext": [
          "potato",
          "potato"
         ],
         "legendgroup": "potato",
         "marker": {
          "color": "#B6E880",
          "pattern": {
           "shape": ""
          }
         },
         "name": "potato",
         "offsetgroup": "potato",
         "orientation": "h",
         "showlegend": true,
         "textposition": "auto",
         "type": "bar",
         "x": [
          13200001.02,
          13200001.02
         ],
         "xaxis": "x",
         "y": [
          "Field 7",
          "Field 4"
         ],
         "yaxis": "y"
        },
        {
         "alignmentgroup": "True",
         "base": [
          "2024-01-04T12:03:30.747676"
         ],
         "customdata": [
          [
           57,
           1200,
           "cream",
           "Dairy",
           21,
           [
            52,
            53,
            54,
            55,
            56
           ]
          ]
         ],
         "hovertemplate": "<b>%{hovertext}</b><br><br>id=%{customdata[0]}<br>duration=%{customdata[1]}<br>dependencies=%{customdata[5]}<extra></extra>",
         "hovertext": [
          "cream"
         ],
         "legendgroup": "cream",
         "marker": {
          "color": "#FF97FF",
          "pattern": {
           "shape": ""
          }
         },
         "name": "cream",
         "offsetgroup": "cream",
         "orientation": "h",
         "showlegend": true,
         "textposition": "auto",
         "type": "bar",
         "x": [
          1200001.02
         ],
         "xaxis": "x",
         "y": [
          "Dairy 21"
         ],
         "yaxis": "y"
        },
        {
         "alignmentgroup": "True",
         "base": [
          "2024-01-04T13:23:30.747676"
         ],
         "customdata": [
          [
           60,
           2100,
           "baked potato",
           "BBQ Grill",
           20,
           [
            43,
            44,
            45,
            46,
            47,
            48,
            49,
            50,
            51,
            52,
            53,
            54,
            55,
            56,
            57,
            58,
            59
           ]
          ]
         ],
         "hovertemplate": "<b>%{hovertext}</b><br><br>id=%{customdata[0]}<br>duration=%{customdata[1]}<br>dependencies=%{customdata[5]}<extra></extra>",
         "hovertext": [
          "baked potato"
         ],
         "legendgroup": "baked potato",
         "marker": {
          "color": "#FECB52",
          "pattern": {
           "shape": ""
          }
         },
         "name": "baked potato",
         "offsetgroup": "baked potato",
         "orientation": "h",
         "showlegend": true,
         "textposition": "auto",
         "type": "bar",
         "x": [
          2100001.02
         ],
         "xaxis": "x",
         "y": [
          "BBQ Grill 20"
         ],
         "yaxis": "y"
        },
        {
         "alignmentgroup": "True",
         "base": [
          "2024-01-04T14:23:30.747676"
         ],
         "customdata": [
          [
           34,
           3600,
           "bacon and eggs",
           "BBQ Grill",
           20,
           [
            16,
            17,
            18,
            19,
            20,
            21,
            22,
            23,
            24,
            25,
            26,
            27,
            28,
            29,
            30,
            31,
            32,
            33
           ]
          ]
         ],
         "hovertemplate": "<b>%{hovertext}</b><br><br>id=%{customdata[0]}<br>duration=%{customdata[1]}<br>dependencies=%{customdata[5]}<extra></extra>",
         "hovertext": [
          "bacon and eggs"
         ],
         "legendgroup": "bacon and eggs",
         "marker": {
          "color": "#636efa",
          "pattern": {
           "shape": ""
          }
         },
         "name": "bacon and eggs",
         "offsetgroup": "bacon and eggs",
         "orientation": "h",
         "showlegend": true,
         "textposition": "auto",
         "type": "bar",
         "x": [
          3600001.02
         ],
         "xaxis": "x",
         "y": [
          "BBQ Grill 20"
         ],
         "yaxis": "y"
        }
       ],
       "layout": {
        "barmode": "overlay",
        "legend": {
         "title": {
          "text": "name"
         },
         "tracegroupgap": 0
        },
        "margin": {
         "t": 60
        },
        "template": {
         "data": {
          "bar": [
           {
            "error_x": {
             "color": "#2a3f5f"
            },
            "error_y": {
             "color": "#2a3f5f"
            },
            "marker": {
             "line": {
              "color": "#E5ECF6",
              "width": 0.5
             },
             "pattern": {
              "fillmode": "overlay",
              "size": 10,
              "solidity": 0.2
             }
            },
            "type": "bar"
           }
          ],
          "barpolar": [
           {
            "marker": {
             "line": {
              "color": "#E5ECF6",
              "width": 0.5
             },
             "pattern": {
              "fillmode": "overlay",
              "size": 10,
              "solidity": 0.2
             }
            },
            "type": "barpolar"
           }
          ],
          "carpet": [
           {
            "aaxis": {
             "endlinecolor": "#2a3f5f",
             "gridcolor": "white",
             "linecolor": "white",
             "minorgridcolor": "white",
             "startlinecolor": "#2a3f5f"
            },
            "baxis": {
             "endlinecolor": "#2a3f5f",
             "gridcolor": "white",
             "linecolor": "white",
             "minorgridcolor": "white",
             "startlinecolor": "#2a3f5f"
            },
            "type": "carpet"
           }
          ],
          "choropleth": [
           {
            "colorbar": {
             "outlinewidth": 0,
             "ticks": ""
            },
            "type": "choropleth"
           }
          ],
          "contour": [
           {
            "colorbar": {
             "outlinewidth": 0,
             "ticks": ""
            },
            "colorscale": [
             [
              0,
              "#0d0887"
             ],
             [
              0.1111111111111111,
              "#46039f"
             ],
             [
              0.2222222222222222,
              "#7201a8"
             ],
             [
              0.3333333333333333,
              "#9c179e"
             ],
             [
              0.4444444444444444,
              "#bd3786"
             ],
             [
              0.5555555555555556,
              "#d8576b"
             ],
             [
              0.6666666666666666,
              "#ed7953"
             ],
             [
              0.7777777777777778,
              "#fb9f3a"
             ],
             [
              0.8888888888888888,
              "#fdca26"
             ],
             [
              1,
              "#f0f921"
             ]
            ],
            "type": "contour"
           }
          ],
          "contourcarpet": [
           {
            "colorbar": {
             "outlinewidth": 0,
             "ticks": ""
            },
            "type": "contourcarpet"
           }
          ],
          "heatmap": [
           {
            "colorbar": {
             "outlinewidth": 0,
             "ticks": ""
            },
            "colorscale": [
             [
              0,
              "#0d0887"
             ],
             [
              0.1111111111111111,
              "#46039f"
             ],
             [
              0.2222222222222222,
              "#7201a8"
             ],
             [
              0.3333333333333333,
              "#9c179e"
             ],
             [
              0.4444444444444444,
              "#bd3786"
             ],
             [
              0.5555555555555556,
              "#d8576b"
             ],
             [
              0.6666666666666666,
              "#ed7953"
             ],
             [
              0.7777777777777778,
              "#fb9f3a"
             ],
             [
              0.8888888888888888,
              "#fdca26"
             ],
             [
              1,
              "#f0f921"
             ]
            ],
            "type": "heatmap"
           }
          ],
          "heatmapgl": [
           {
            "colorbar": {
             "outlinewidth": 0,
             "ticks": ""
            },
            "colorscale": [
             [
              0,
              "#0d0887"
             ],
             [
              0.1111111111111111,
              "#46039f"
             ],
             [
              0.2222222222222222,
              "#7201a8"
             ],
             [
              0.3333333333333333,
              "#9c179e"
             ],
             [
              0.4444444444444444,
              "#bd3786"
             ],
             [
              0.5555555555555556,
              "#d8576b"
             ],
             [
              0.6666666666666666,
              "#ed7953"
             ],
             [
              0.7777777777777778,
              "#fb9f3a"
             ],
             [
              0.8888888888888888,
              "#fdca26"
             ],
             [
              1,
              "#f0f921"
             ]
            ],
            "type": "heatmapgl"
           }
          ],
          "histogram": [
           {
            "marker": {
             "pattern": {
              "fillmode": "overlay",
              "size": 10,
              "solidity": 0.2
             }
            },
            "type": "histogram"
           }
          ],
          "histogram2d": [
           {
            "colorbar": {
             "outlinewidth": 0,
             "ticks": ""
            },
            "colorscale": [
             [
              0,
              "#0d0887"
             ],
             [
              0.1111111111111111,
              "#46039f"
             ],
             [
              0.2222222222222222,
              "#7201a8"
             ],
             [
              0.3333333333333333,
              "#9c179e"
             ],
             [
              0.4444444444444444,
              "#bd3786"
             ],
             [
              0.5555555555555556,
              "#d8576b"
             ],
             [
              0.6666666666666666,
              "#ed7953"
             ],
             [
              0.7777777777777778,
              "#fb9f3a"
             ],
             [
              0.8888888888888888,
              "#fdca26"
             ],
             [
              1,
              "#f0f921"
             ]
            ],
            "type": "histogram2d"
           }
          ],
          "histogram2dcontour": [
           {
            "colorbar": {
             "outlinewidth": 0,
             "ticks": ""
            },
            "colorscale": [
             [
              0,
              "#0d0887"
             ],
             [
              0.1111111111111111,
              "#46039f"
             ],
             [
              0.2222222222222222,
              "#7201a8"
             ],
             [
              0.3333333333333333,
              "#9c179e"
             ],
             [
              0.4444444444444444,
              "#bd3786"
             ],
             [
              0.5555555555555556,
              "#d8576b"
             ],
             [
              0.6666666666666666,
              "#ed7953"
             ],
             [
              0.7777777777777778,
              "#fb9f3a"
             ],
             [
              0.8888888888888888,
              "#fdca26"
             ],
             [
              1,
              "#f0f921"
             ]
            ],
            "type": "histogram2dcontour"
           }
          ],
          "mesh3d": [
           {
            "colorbar": {
             "outlinewidth": 0,
             "ticks": ""
            },
            "type": "mesh3d"
           }
          ],
          "parcoords": [
           {
            "line": {
             "colorbar": {
              "outlinewidth": 0,
              "ticks": ""
             }
            },
            "type": "parcoords"
           }
          ],
          "pie": [
           {
            "automargin": true,
            "type": "pie"
           }
          ],
          "scatter": [
           {
            "fillpattern": {
             "fillmode": "overlay",
             "size": 10,
             "solidity": 0.2
            },
            "type": "scatter"
           }
          ],
          "scatter3d": [
           {
            "line": {
             "colorbar": {
              "outlinewidth": 0,
              "ticks": ""
             }
            },
            "marker": {
             "colorbar": {
              "outlinewidth": 0,
              "ticks": ""
             }
            },
            "type": "scatter3d"
           }
          ],
          "scattercarpet": [
           {
            "marker": {
             "colorbar": {
              "outlinewidth": 0,
              "ticks": ""
             }
            },
            "type": "scattercarpet"
           }
          ],
          "scattergeo": [
           {
            "marker": {
             "colorbar": {
              "outlinewidth": 0,
              "ticks": ""
             }
            },
            "type": "scattergeo"
           }
          ],
          "scattergl": [
           {
            "marker": {
             "colorbar": {
              "outlinewidth": 0,
              "ticks": ""
             }
            },
            "type": "scattergl"
           }
          ],
          "scattermapbox": [
           {
            "marker": {
             "colorbar": {
              "outlinewidth": 0,
              "ticks": ""
             }
            },
            "type": "scattermapbox"
           }
          ],
          "scatterpolar": [
           {
            "marker": {
             "colorbar": {
              "outlinewidth": 0,
              "ticks": ""
             }
            },
            "type": "scatterpolar"
           }
          ],
          "scatterpolargl": [
           {
            "marker": {
             "colorbar": {
              "outlinewidth": 0,
              "ticks": ""
             }
            },
            "type": "scatterpolargl"
           }
          ],
          "scatterternary": [
           {
            "marker": {
             "colorbar": {
              "outlinewidth": 0,
              "ticks": ""
             }
            },
            "type": "scatterternary"
           }
          ],
          "surface": [
           {
            "colorbar": {
             "outlinewidth": 0,
             "ticks": ""
            },
            "colorscale": [
             [
              0,
              "#0d0887"
             ],
             [
              0.1111111111111111,
              "#46039f"
             ],
             [
              0.2222222222222222,
              "#7201a8"
             ],
             [
              0.3333333333333333,
              "#9c179e"
             ],
             [
              0.4444444444444444,
              "#bd3786"
             ],
             [
              0.5555555555555556,
              "#d8576b"
             ],
             [
              0.6666666666666666,
              "#ed7953"
             ],
             [
              0.7777777777777778,
              "#fb9f3a"
             ],
             [
              0.8888888888888888,
              "#fdca26"
             ],
             [
              1,
              "#f0f921"
             ]
            ],
            "type": "surface"
           }
          ],
          "table": [
           {
            "cells": {
             "fill": {
              "color": "#EBF0F8"
             },
             "line": {
              "color": "white"
             }
            },
            "header": {
             "fill": {
              "color": "#C8D4E3"
             },
             "line": {
              "color": "white"
             }
            },
            "type": "table"
           }
          ]
         },
         "layout": {
          "annotationdefaults": {
           "arrowcolor": "#2a3f5f",
           "arrowhead": 0,
           "arrowwidth": 1
          },
          "autotypenumbers": "strict",
          "coloraxis": {
           "colorbar": {
            "outlinewidth": 0,
            "ticks": ""
           }
          },
          "colorscale": {
           "diverging": [
            [
             0,
             "#8e0152"
            ],
            [
             0.1,
             "#c51b7d"
            ],
            [
             0.2,
             "#de77ae"
            ],
            [
             0.3,
             "#f1b6da"
            ],
            [
             0.4,
             "#fde0ef"
            ],
            [
             0.5,
             "#f7f7f7"
            ],
            [
             0.6,
             "#e6f5d0"
            ],
            [
             0.7,
             "#b8e186"
            ],
            [
             0.8,
             "#7fbc41"
            ],
            [
             0.9,
             "#4d9221"
            ],
            [
             1,
             "#276419"
            ]
           ],
           "sequential": [
            [
             0,
             "#0d0887"
            ],
            [
             0.1111111111111111,
             "#46039f"
            ],
            [
             0.2222222222222222,
             "#7201a8"
            ],
            [
             0.3333333333333333,
             "#9c179e"
            ],
            [
             0.4444444444444444,
             "#bd3786"
            ],
            [
             0.5555555555555556,
             "#d8576b"
            ],
            [
             0.6666666666666666,
             "#ed7953"
            ],
            [
             0.7777777777777778,
             "#fb9f3a"
            ],
            [
             0.8888888888888888,
             "#fdca26"
            ],
            [
             1,
             "#f0f921"
            ]
           ],
           "sequentialminus": [
            [
             0,
             "#0d0887"
            ],
            [
             0.1111111111111111,
             "#46039f"
            ],
            [
             0.2222222222222222,
             "#7201a8"
            ],
            [
             0.3333333333333333,
             "#9c179e"
            ],
            [
             0.4444444444444444,
             "#bd3786"
            ],
            [
             0.5555555555555556,
             "#d8576b"
            ],
            [
             0.6666666666666666,
             "#ed7953"
            ],
            [
             0.7777777777777778,
             "#fb9f3a"
            ],
            [
             0.8888888888888888,
             "#fdca26"
            ],
            [
             1,
             "#f0f921"
            ]
           ]
          },
          "colorway": [
           "#636efa",
           "#EF553B",
           "#00cc96",
           "#ab63fa",
           "#FFA15A",
           "#19d3f3",
           "#FF6692",
           "#B6E880",
           "#FF97FF",
           "#FECB52"
          ],
          "font": {
           "color": "#2a3f5f"
          },
          "geo": {
           "bgcolor": "white",
           "lakecolor": "white",
           "landcolor": "#E5ECF6",
           "showlakes": true,
           "showland": true,
           "subunitcolor": "white"
          },
          "hoverlabel": {
           "align": "left"
          },
          "hovermode": "closest",
          "mapbox": {
           "style": "light"
          },
          "paper_bgcolor": "white",
          "plot_bgcolor": "#E5ECF6",
          "polar": {
           "angularaxis": {
            "gridcolor": "white",
            "linecolor": "white",
            "ticks": ""
           },
           "bgcolor": "#E5ECF6",
           "radialaxis": {
            "gridcolor": "white",
            "linecolor": "white",
            "ticks": ""
           }
          },
          "scene": {
           "xaxis": {
            "backgroundcolor": "#E5ECF6",
            "gridcolor": "white",
            "gridwidth": 2,
            "linecolor": "white",
            "showbackground": true,
            "ticks": "",
            "zerolinecolor": "white"
           },
           "yaxis": {
            "backgroundcolor": "#E5ECF6",
            "gridcolor": "white",
            "gridwidth": 2,
            "linecolor": "white",
            "showbackground": true,
            "ticks": "",
            "zerolinecolor": "white"
           },
           "zaxis": {
            "backgroundcolor": "#E5ECF6",
            "gridcolor": "white",
            "gridwidth": 2,
            "linecolor": "white",
            "showbackground": true,
            "ticks": "",
            "zerolinecolor": "white"
           }
          },
          "shapedefaults": {
           "line": {
            "color": "#2a3f5f"
           }
          },
          "ternary": {
           "aaxis": {
            "gridcolor": "white",
            "linecolor": "white",
            "ticks": ""
           },
           "baxis": {
            "gridcolor": "white",
            "linecolor": "white",
            "ticks": ""
           },
           "bgcolor": "#E5ECF6",
           "caxis": {
            "gridcolor": "white",
            "linecolor": "white",
            "ticks": ""
           }
          },
          "title": {
           "x": 0.05
          },
          "xaxis": {
           "automargin": true,
           "gridcolor": "white",
           "linecolor": "white",
           "ticks": "",
           "title": {
            "standoff": 15
           },
           "zerolinecolor": "white",
           "zerolinewidth": 2
          },
          "yaxis": {
           "automargin": true,
           "gridcolor": "white",
           "linecolor": "white",
           "ticks": "",
           "title": {
            "standoff": 15
           },
           "zerolinecolor": "white",
           "zerolinewidth": 2
          }
         }
        },
        "xaxis": {
         "anchor": "y",
         "domain": [
          0,
          1
         ],
         "type": "date"
        },
        "yaxis": {
         "anchor": "x",
         "autorange": "reversed",
         "domain": [
          0,
          1
         ],
         "title": {
          "text": "task"
         }
        }
       }
      }
     },
     "metadata": {},
     "output_type": "display_data"
    }
   ],
   "source": [
    "print(\"Max time: \",max(df['end_time']))\n",
    "fig = px.timeline(df, x_start=\"start\", x_end=\"end\", y=\"task\", color=\"name\",hover_name='name', \n",
    "                    hover_data={'id':True,'duration':True,'start':False,'end':False,'task':False,'name':False,'source':False,'machine_id':False,'dependencies':True})\n",
    "fig.update_yaxes(autorange=\"reversed\")\n",
    "fig.show()\n",
    "#36300"
   ]
  }
 ],
 "metadata": {
  "kernelspec": {
   "display_name": "me",
   "language": "python",
   "name": "python3"
  },
  "language_info": {
   "codemirror_mode": {
    "name": "ipython",
    "version": 3
   },
   "file_extension": ".py",
   "mimetype": "text/x-python",
   "name": "python",
   "nbconvert_exporter": "python",
   "pygments_lexer": "ipython3",
   "version": "3.9.16"
  }
 },
 "nbformat": 4,
 "nbformat_minor": 2
}
