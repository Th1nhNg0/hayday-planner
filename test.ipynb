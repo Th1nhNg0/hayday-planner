{
 "cells": [
  {
   "cell_type": "code",
   "execution_count": 272,
   "metadata": {},
   "outputs": [],
   "source": [
    "from utils import find_needed_for,rows,find_by_name\n",
    "import random\n",
    "from heapq import heappush, heappop\n",
    "import json"
   ]
  },
  {
   "cell_type": "code",
   "execution_count": 273,
   "metadata": {},
   "outputs": [],
   "source": [
    "def print_storage_not_nan(storage):\n",
    "    print(\"=====Storage=====\")\n",
    "    for k,v in storage.items():\n",
    "        if v != 0:\n",
    "            print(f\"{k}: {v}\")\n",
    "    print(\"=================\")"
   ]
  },
  {
   "cell_type": "code",
   "execution_count": 274,
   "metadata": {},
   "outputs": [],
   "source": [
    "storage = {}\n",
    "for row in rows:\n",
    "    storage[row['Name']] = 1"
   ]
  },
  {
   "cell_type": "code",
   "execution_count": 275,
   "metadata": {},
   "outputs": [],
   "source": [
    "sources_key = set()\n",
    "for row in rows:\n",
    "    sources_key.add(row['Source'])"
   ]
  },
  {
   "cell_type": "code",
   "execution_count": 276,
   "metadata": {},
   "outputs": [],
   "source": [
    "sources = {}\n",
    "for key in sources_key:\n",
    "    sources[key] = [\n",
    "        {\n",
    "            'status':'idle',\n",
    "            'product':None,\n",
    "            'start_time':None,\n",
    "            'end_time':None,\n",
    "        }\n",
    "    ]\n",
    "\n",
    "for _ in range(20):\n",
    "    sources['Field'].append( {\n",
    "            'status':'idle',\n",
    "            'product':None,\n",
    "            'start_time':None,\n",
    "            'end_time':None,\n",
    "        })"
   ]
  },
  {
   "cell_type": "code",
   "execution_count": 277,
   "metadata": {},
   "outputs": [],
   "source": [
    "tasks = []\n",
    "test = find_needed_for('Bread')\n",
    "\n",
    "def add_to_queue(product):\n",
    "    for need in product['Needs']:\n",
    "        add_to_queue(need)\n",
    "    for _ in range(product['Count']):\n",
    "        tasks.append(product['Name'])\n",
    "add_to_queue(test)"
   ]
  },
  {
   "cell_type": "code",
   "execution_count": 278,
   "metadata": {},
   "outputs": [
    {
     "name": "stdout",
     "output_type": "stream",
     "text": [
      "Time: 0\n",
      "['Wheat', 'Wheat', 'Wheat', 'Bread']\n",
      "Wheat 0 if_have_enough_materials True\n",
      "Wheat 0 if_have_enough_sources True\n",
      "Schedule: Wheat\n",
      "Wheat 1 if_have_enough_materials False\n",
      "Wheat 2 if_have_enough_materials False\n",
      "Bread 3 if_have_enough_materials False\n",
      "Time: 120\n",
      "['Wheat', 'Wheat', 'Bread']\n",
      "Wheat 0 if_have_enough_materials True\n",
      "Wheat 0 if_have_enough_sources True\n",
      "Schedule: Wheat\n",
      "Wheat 1 if_have_enough_materials True\n",
      "Wheat 1 if_have_enough_sources True\n",
      "Schedule: Wheat\n",
      "Bread 2 if_have_enough_materials False\n",
      "Time: 240\n",
      "['Bread']\n",
      "Bread 0 if_have_enough_materials True\n",
      "Bread 0 if_have_enough_sources True\n",
      "Schedule: Bread\n",
      "Time: 540\n",
      "[]\n"
     ]
    }
   ],
   "source": [
    "time_queue = [0]\n",
    "\n",
    "while len(time_queue) > 0:\n",
    "    time = heappop(time_queue)\n",
    "    print('Time:',time)\n",
    "    print(tasks)\n",
    "    for source_name in sources:\n",
    "        for i,s in enumerate(sources[source_name]):\n",
    "            if s['end_time'] == time:\n",
    "                if source_name=='Field':\n",
    "                    storage[s['product']] += 2\n",
    "                else:\n",
    "                    storage[s['product']] += 1\n",
    "                s['status'] = 'idle'\n",
    "                s['product'] = None\n",
    "                s['start_time'] = None\n",
    "                s['end_time'] = None\n",
    "    # print_storage_not_nan(storage)\n",
    "    for i,task in enumerate(tasks.copy()):\n",
    "        task = find_by_name(task)\n",
    "\n",
    "        if_have_enough_materials = True\n",
    "        for need in task['Needs']:\n",
    "            key,value = list(need.items())[0]\n",
    "            if storage[key] < value:\n",
    "                if_have_enough_materials = False\n",
    "                break\n",
    "        print(task['Name'],i,'if_have_enough_materials',if_have_enough_materials)\n",
    "        if not if_have_enough_materials:\n",
    "            continue\n",
    "        if_have_enough_sources = False\n",
    "        source = task['Source']\n",
    "        for s in sources[source]:\n",
    "            if s['status'] == 'idle':\n",
    "                if_have_enough_sources = True\n",
    "                break\n",
    "        print(task['Name'],i,'if_have_enough_sources',if_have_enough_sources)\n",
    "        if not if_have_enough_sources:\n",
    "            continue\n",
    "        print('Schedule:',task['Name'])\n",
    "        s['status'] = 'busy'\n",
    "        s['product'] = task['Name']\n",
    "        s['start_time'] = time\n",
    "        s['end_time'] = time + task['Time']\n",
    "        for need in task['Needs']:\n",
    "            key,value = list(need.items())[0]\n",
    "            storage[key] -= value\n",
    "        if s['end_time'] not in time_queue:\n",
    "            heappush(time_queue,s['end_time'])\n",
    "        tasks.remove(task['Name'])\n",
    "    # print_storage_not_nan(storage)"
   ]
  }
 ],
 "metadata": {
  "kernelspec": {
   "display_name": "me",
   "language": "python",
   "name": "python3"
  },
  "language_info": {
   "codemirror_mode": {
    "name": "ipython",
    "version": 3
   },
   "file_extension": ".py",
   "mimetype": "text/x-python",
   "name": "python",
   "nbconvert_exporter": "python",
   "pygments_lexer": "ipython3",
   "version": "3.9.16"
  }
 },
 "nbformat": 4,
 "nbformat_minor": 2
}
