{
 "cells": [
  {
   "cell_type": "code",
   "execution_count": 29,
   "metadata": {},
   "outputs": [],
   "source": [
    "from utils import make_need_tree,visualize_tree,make_storage,make_task_list,calc_start_end_time\n",
    "import plotly.express as px\n",
    "import pandas as pd\n",
    "import json\n",
    "import random\n",
    "import copy"
   ]
  },
  {
   "cell_type": "code",
   "execution_count": 30,
   "metadata": {},
   "outputs": [
    {
     "data": {
      "text/plain": [
       "80"
      ]
     },
     "execution_count": 30,
     "metadata": {},
     "output_type": "execute_result"
    }
   ],
   "source": [
    "storage = make_storage()\n",
    "storage['apple']=10\n",
    "tasks=make_task_list(['hamburger','bacon and eggs','cheese','baked potato','pancake','pancake'\n",
    "                      ],storage)\n",
    "len(tasks)"
   ]
  },
  {
   "cell_type": "code",
   "execution_count": 31,
   "metadata": {},
   "outputs": [
    {
     "data": {
      "text/plain": [
       "{'Bakery': [0],\n",
       " 'Chicken': [1, 2],\n",
       " 'Feed Mill': [3],\n",
       " 'Field': [4, 5, 6, 7, 8, 9, 10, 11],\n",
       " 'Raspberry bush': [12],\n",
       " 'Sugar Mill': [13],\n",
       " 'Cake Oven': [14],\n",
       " 'Cherry tree': [15, 16],\n",
       " 'Cow': [17, 18, 19, 20],\n",
       " 'BBQ Grill': [21],\n",
       " 'Dairy': [22],\n",
       " 'Pig': [23, 24],\n",
       " 'Popcorn Pot': [25],\n",
       " 'Loom': [26],\n",
       " 'Sewing Machine': [27],\n",
       " 'Pie Oven': [28]}"
      ]
     },
     "execution_count": 31,
     "metadata": {},
     "output_type": "execute_result"
    }
   ],
   "source": [
    "# number of machines\n",
    "sources={\n",
    "    'Bakery':1, 'Chicken':2, 'Feed Mill':1, 'Field':8   , 'Raspberry bush':1,'Sugar Mill':1,'Cake Oven':1,\n",
    "    'Cherry tree':2,'Cow':4,'BBQ Grill':1,'Dairy':1,\"Pig\":2,'Popcorn Pot':1,'Loom':1,'Sewing Machine':1,\n",
    "    'Pie Oven':1\n",
    "}\n",
    "machines ={}\n",
    "# make machines is: key is same as sources, value is a list of machine_id\n",
    "# machine_id must be unique from other machines\n",
    "count  = 0\n",
    "for key,value in sources.items():\n",
    "    machines[key]=list(range(count,count+value))\n",
    "    count+=value\n",
    "machines"
   ]
  },
  {
   "cell_type": "code",
   "execution_count": 32,
   "metadata": {},
   "outputs": [],
   "source": [
    "import random\n",
    "\n",
    "def make_chromosome(tasks,machines):\n",
    "    tasks = copy.deepcopy(tasks)\n",
    "    random.shuffle(tasks)\n",
    "    tasks.sort(key=lambda x:x['order'],reverse=True)\n",
    "    for task in tasks:\n",
    "        machine_id=random.choice(machines[task['source']])\n",
    "        task['machine_id']=machine_id\n",
    "    return tasks\n",
    "\n",
    "def calc_fitness(chromosome):\n",
    "    \"\"\"calculate the fitness of a chromosome\n",
    "    chromosome: a chromosome\n",
    "    \n",
    "    return: a fitness value\n",
    "    \"\"\"\n",
    "    score = 0\n",
    "    chromosome = calc_start_end_time(chromosome,machines)\n",
    "    # maximum end_time\n",
    "    max_end_time = max([task['end_time'] for task in chromosome])\n",
    "    score += 1000000/max_end_time\n",
    "    # for task in chromosome:\n",
    "        # if task['target']:\n",
    "            # score+=1000/task['end_time']\n",
    "    return score\n",
    "    \n",
    "def mutation(chromosome):\n",
    "    \"\"\"mutate a chromosome\n",
    "    chromosome: a chromosome\n",
    "    \n",
    "    return: a chromosome\n",
    "    \"\"\"\n",
    "    chromosome = copy.deepcopy(chromosome)\n",
    "    if random.random()<0.5:\n",
    "        gen = random.choice(chromosome)\n",
    "        new_machine_id = random.choice(machines[gen['source']])\n",
    "        gen['machine_id']=new_machine_id\n",
    "        \n",
    "        gen1,gen2 = random.sample(chromosome,2)\n",
    "        idx1 = chromosome.index(gen1)\n",
    "        idx2 = chromosome.index(gen2)\n",
    "        if idx1>idx2:\n",
    "            gen1,gen2=gen2,gen1\n",
    "        if gen1['order']>=gen2['order']:\n",
    "            chromosome[idx1],chromosome[idx2]=chromosome[idx2],chromosome[idx1]\n",
    "    return chromosome\n"
   ]
  },
  {
   "cell_type": "code",
   "execution_count": 33,
   "metadata": {},
   "outputs": [
    {
     "name": "stdout",
     "output_type": "stream",
     "text": [
      "iteration 0, best fitness 25.44529262086514, best time 39300\n",
      "iteration 1, best fitness 26.164311878597594, best time 38220\n",
      "iteration 2, best fitness 26.58160552897395, best time 37620\n",
      "iteration 3, best fitness 26.925148088314486, best time 37140\n",
      "iteration 4, best fitness 27.233115468409586, best time 36720\n",
      "iteration 5, best fitness 27.233115468409586, best time 36720\n",
      "iteration 6, best fitness 27.233115468409586, best time 36720\n",
      "iteration 7, best fitness 27.233115468409586, best time 36720\n",
      "iteration 8, best fitness 27.233115468409586, best time 36720\n",
      "iteration 9, best fitness 27.233115468409586, best time 36720\n",
      "iteration 10, best fitness 27.233115468409586, best time 36720\n",
      "iteration 11, best fitness 27.233115468409586, best time 36720\n",
      "iteration 12, best fitness 27.917364600781685, best time 35820\n",
      "iteration 13, best fitness 28.011204481792717, best time 35700\n",
      "iteration 14, best fitness 28.24858757062147, best time 35400\n",
      "iteration 15, best fitness 28.24858757062147, best time 35400\n",
      "iteration 16, best fitness 28.24858757062147, best time 35400\n",
      "iteration 17, best fitness 28.24858757062147, best time 35400\n",
      "iteration 18, best fitness 28.24858757062147, best time 35400\n",
      "iteration 19, best fitness 28.735632183908045, best time 34800\n",
      "iteration 20, best fitness 28.735632183908045, best time 34800\n",
      "iteration 21, best fitness 28.735632183908045, best time 34800\n",
      "iteration 22, best fitness 28.735632183908045, best time 34800\n",
      "iteration 23, best fitness 28.735632183908045, best time 34800\n",
      "iteration 24, best fitness 28.735632183908045, best time 34800\n",
      "iteration 25, best fitness 28.735632183908045, best time 34800\n",
      "iteration 26, best fitness 28.735632183908045, best time 34800\n",
      "iteration 27, best fitness 28.735632183908045, best time 34800\n",
      "iteration 28, best fitness 28.735632183908045, best time 34800\n",
      "iteration 29, best fitness 28.735632183908045, best time 34800\n",
      "iteration 30, best fitness 28.735632183908045, best time 34800\n",
      "iteration 31, best fitness 28.735632183908045, best time 34800\n",
      "iteration 32, best fitness 28.735632183908045, best time 34800\n",
      "iteration 33, best fitness 28.735632183908045, best time 34800\n",
      "iteration 34, best fitness 28.735632183908045, best time 34800\n",
      "iteration 35, best fitness 28.735632183908045, best time 34800\n",
      "iteration 36, best fitness 28.735632183908045, best time 34800\n",
      "iteration 37, best fitness 28.735632183908045, best time 34800\n",
      "iteration 38, best fitness 28.735632183908045, best time 34800\n",
      "iteration 39, best fitness 28.735632183908045, best time 34800\n",
      "iteration 40, best fitness 28.735632183908045, best time 34800\n",
      "iteration 41, best fitness 28.735632183908045, best time 34800\n",
      "iteration 42, best fitness 28.735632183908045, best time 34800\n",
      "iteration 43, best fitness 28.735632183908045, best time 34800\n",
      "iteration 44, best fitness 28.735632183908045, best time 34800\n",
      "iteration 45, best fitness 28.735632183908045, best time 34800\n",
      "iteration 46, best fitness 28.735632183908045, best time 34800\n",
      "iteration 47, best fitness 28.735632183908045, best time 34800\n",
      "iteration 48, best fitness 28.735632183908045, best time 34800\n"
     ]
    }
   ],
   "source": [
    "# simple GA algorithm\n",
    "pop_size = 50\n",
    "iteration = 200\n",
    "# generate inital population\n",
    "population = []\n",
    "for i in range(pop_size):\n",
    "    population.append(make_chromosome(tasks,machines))\n",
    "\n",
    "# calculate fitness\n",
    "fitness = []\n",
    "for chromosome in population:\n",
    "    fitness.append(calc_fitness(chromosome))\n",
    "    \n",
    "for i in range(iteration):\n",
    "    new_population = []\n",
    "    # keep the best chromosome\n",
    "    best_chromosome = population[fitness.index(max(fitness))]\n",
    "    new_population.append(best_chromosome)\n",
    "    for j in range(pop_size-1):\n",
    "        # no cross over\n",
    "        # mutation\n",
    "        chromosome = mutation(best_chromosome)\n",
    "        new_population.append(chromosome)\n",
    "    population = new_population\n",
    "    fitness = []\n",
    "    for chromosome in population:\n",
    "        fitness.append(calc_fitness(chromosome))\n",
    "    best_chromosome = population[fitness.index(max(fitness))]\n",
    "    print(f'iteration {i}, best fitness {max(fitness)}, best time {max([task[\"end_time\"] for task in best_chromosome])}')"
   ]
  },
  {
   "cell_type": "code",
   "execution_count": null,
   "metadata": {},
   "outputs": [
    {
     "data": {
      "text/html": [
       "<div>\n",
       "<style scoped>\n",
       "    .dataframe tbody tr th:only-of-type {\n",
       "        vertical-align: middle;\n",
       "    }\n",
       "\n",
       "    .dataframe tbody tr th {\n",
       "        vertical-align: top;\n",
       "    }\n",
       "\n",
       "    .dataframe thead th {\n",
       "        text-align: right;\n",
       "    }\n",
       "</style>\n",
       "<table border=\"1\" class=\"dataframe\">\n",
       "  <thead>\n",
       "    <tr style=\"text-align: right;\">\n",
       "      <th></th>\n",
       "      <th>id</th>\n",
       "      <th>name</th>\n",
       "      <th>dependencies</th>\n",
       "      <th>duration</th>\n",
       "      <th>source</th>\n",
       "      <th>machine_id</th>\n",
       "      <th>target</th>\n",
       "      <th>order</th>\n",
       "      <th>start_time</th>\n",
       "      <th>end_time</th>\n",
       "      <th>task</th>\n",
       "      <th>start</th>\n",
       "      <th>end</th>\n",
       "    </tr>\n",
       "  </thead>\n",
       "  <tbody>\n",
       "    <tr>\n",
       "      <th>0</th>\n",
       "      <td>53</td>\n",
       "      <td>soybean</td>\n",
       "      <td>[]</td>\n",
       "      <td>1200</td>\n",
       "      <td>Field</td>\n",
       "      <td>7</td>\n",
       "      <td>False</td>\n",
       "      <td>5</td>\n",
       "      <td>0</td>\n",
       "      <td>1200</td>\n",
       "      <td>Field 7</td>\n",
       "      <td>2024-01-04 05:22:47.147383</td>\n",
       "      <td>2024-01-04 05:42:47.149239</td>\n",
       "    </tr>\n",
       "    <tr>\n",
       "      <th>1</th>\n",
       "      <td>52</td>\n",
       "      <td>corn</td>\n",
       "      <td>[]</td>\n",
       "      <td>300</td>\n",
       "      <td>Field</td>\n",
       "      <td>6</td>\n",
       "      <td>False</td>\n",
       "      <td>5</td>\n",
       "      <td>0</td>\n",
       "      <td>300</td>\n",
       "      <td>Field 6</td>\n",
       "      <td>2024-01-04 05:22:47.147383</td>\n",
       "      <td>2024-01-04 05:27:47.149239</td>\n",
       "    </tr>\n",
       "    <tr>\n",
       "      <th>2</th>\n",
       "      <td>43</td>\n",
       "      <td>corn</td>\n",
       "      <td>[]</td>\n",
       "      <td>300</td>\n",
       "      <td>Field</td>\n",
       "      <td>6</td>\n",
       "      <td>False</td>\n",
       "      <td>5</td>\n",
       "      <td>300</td>\n",
       "      <td>600</td>\n",
       "      <td>Field 6</td>\n",
       "      <td>2024-01-04 05:27:47.147383</td>\n",
       "      <td>2024-01-04 05:32:47.149239</td>\n",
       "    </tr>\n",
       "    <tr>\n",
       "      <th>3</th>\n",
       "      <td>54</td>\n",
       "      <td>soybean</td>\n",
       "      <td>[]</td>\n",
       "      <td>1200</td>\n",
       "      <td>Field</td>\n",
       "      <td>10</td>\n",
       "      <td>False</td>\n",
       "      <td>5</td>\n",
       "      <td>0</td>\n",
       "      <td>1200</td>\n",
       "      <td>Field 10</td>\n",
       "      <td>2024-01-04 05:22:47.147383</td>\n",
       "      <td>2024-01-04 05:42:47.149239</td>\n",
       "    </tr>\n",
       "    <tr>\n",
       "      <th>4</th>\n",
       "      <td>77</td>\n",
       "      <td>egg</td>\n",
       "      <td>[73, 74, 75, 76]</td>\n",
       "      <td>1200</td>\n",
       "      <td>Chicken</td>\n",
       "      <td>1</td>\n",
       "      <td>False</td>\n",
       "      <td>2</td>\n",
       "      <td>4920</td>\n",
       "      <td>6120</td>\n",
       "      <td>Chicken 1</td>\n",
       "      <td>2024-01-04 06:44:47.147383</td>\n",
       "      <td>2024-01-04 07:04:47.149239</td>\n",
       "    </tr>\n",
       "  </tbody>\n",
       "</table>\n",
       "</div>"
      ],
      "text/plain": [
       "   id     name      dependencies  duration   source  machine_id  target  \\\n",
       "0  53  soybean                []      1200    Field           7   False   \n",
       "1  52     corn                []       300    Field           6   False   \n",
       "2  43     corn                []       300    Field           6   False   \n",
       "3  54  soybean                []      1200    Field          10   False   \n",
       "4  77      egg  [73, 74, 75, 76]      1200  Chicken           1   False   \n",
       "\n",
       "   order  start_time  end_time       task                      start  \\\n",
       "0      5           0      1200    Field 7 2024-01-04 05:22:47.147383   \n",
       "1      5           0       300    Field 6 2024-01-04 05:22:47.147383   \n",
       "2      5         300       600    Field 6 2024-01-04 05:27:47.147383   \n",
       "3      5           0      1200   Field 10 2024-01-04 05:22:47.147383   \n",
       "4      2        4920      6120  Chicken 1 2024-01-04 06:44:47.147383   \n",
       "\n",
       "                         end  \n",
       "0 2024-01-04 05:42:47.149239  \n",
       "1 2024-01-04 05:27:47.149239  \n",
       "2 2024-01-04 05:32:47.149239  \n",
       "3 2024-01-04 05:42:47.149239  \n",
       "4 2024-01-04 07:04:47.149239  "
      ]
     },
     "execution_count": 27,
     "metadata": {},
     "output_type": "execute_result"
    }
   ],
   "source": [
    "# chromosome = make_chromosome(tasks,machines)\n",
    "chromosome = population[fitness.index(max(fitness))]\n",
    "test_tasks = calc_start_end_time(chromosome,machines)\n",
    "df = pd.DataFrame(test_tasks)\n",
    "# task is source + machine_id\n",
    "df['task']=df['source']+' '+df['machine_id'].astype(str)\n",
    "df['start'] = pd.to_datetime('today')+pd.to_timedelta(df['start_time'],unit='s')\n",
    "df['end'] = pd.to_datetime('today')+pd.to_timedelta(df['end_time'],unit='s')\n",
    "df.head()"
   ]
  },
  {
   "cell_type": "code",
   "execution_count": null,
   "metadata": {},
   "outputs": [
    {
     "name": "stdout",
     "output_type": "stream",
     "text": [
      "Max time:  38100\n"
     ]
    },
    {
     "data": {
      "application/vnd.plotly.v1+json": {
       "config": {
        "plotlyServerURL": "https://plot.ly"
       },
       "data": [
        {
         "alignmentgroup": "True",
         "base": [
          "2024-01-04T05:22:47.147383",
          "2024-01-04T05:22:47.147383",
          "2024-01-04T05:32:47.147383",
          "2024-01-04T05:52:47.147383",
          "2024-01-04T05:42:47.147383",
          "2024-01-04T06:27:47.147383",
          "2024-01-04T05:43:47.147383",
          "2024-01-04T06:34:47.147383"
         ],
         "customdata": [
          [
           53,
           1200,
           "soybean",
           "Field",
           7,
           []
          ],
          [
           54,
           1200,
           "soybean",
           "Field",
           10,
           []
          ],
          [
           44,
           1200,
           "soybean",
           "Field",
           6,
           []
          ],
          [
           36,
           1200,
           "soybean",
           "Field",
           6,
           []
          ],
          [
           3,
           1200,
           "soybean",
           "Field",
           10,
           []
          ],
          [
           37,
           1200,
           "soybean",
           "Field",
           6,
           []
          ],
          [
           18,
           1200,
           "soybean",
           "Field",
           11,
           []
          ],
          [
           45,
           1200,
           "soybean",
           "Field",
           7,
           []
          ]
         ],
         "hovertemplate": "<b>%{hovertext}</b><br><br>id=%{customdata[0]}<br>duration=%{customdata[1]}<br>dependencies=%{customdata[5]}<extra></extra>",
         "hovertext": [
          "soybean",
          "soybean",
          "soybean",
          "soybean",
          "soybean",
          "soybean",
          "soybean",
          "soybean"
         ],
         "legendgroup": "soybean",
         "marker": {
          "color": "#636efa",
          "pattern": {
           "shape": ""
          }
         },
         "name": "soybean",
         "offsetgroup": "soybean",
         "orientation": "h",
         "showlegend": true,
         "textposition": "auto",
         "type": "bar",
         "x": [
          1200001.856,
          1200001.856,
          1200001.856,
          1200001.856,
          1200001.856,
          1200001.856,
          1200001.856,
          1200001.856
         ],
         "xaxis": "x",
         "y": [
          "Field 7",
          "Field 10",
          "Field 6",
          "Field 6",
          "Field 10",
          "Field 6",
          "Field 11",
          "Field 7"
         ],
         "yaxis": "y"
        },
        {
         "alignmentgroup": "True",
         "base": [
          "2024-01-04T05:22:47.147383",
          "2024-01-04T05:27:47.147383",
          "2024-01-04T05:22:47.147383",
          "2024-01-04T06:12:47.147383",
          "2024-01-04T05:24:47.147383",
          "2024-01-04T05:24:47.147383",
          "2024-01-04T06:33:47.147383"
         ],
         "customdata": [
          [
           52,
           300,
           "corn",
           "Field",
           6,
           []
          ],
          [
           43,
           300,
           "corn",
           "Field",
           6,
           []
          ],
          [
           63,
           300,
           "corn",
           "Field",
           5,
           []
          ],
          [
           73,
           300,
           "corn",
           "Field",
           6,
           []
          ],
          [
           22,
           300,
           "corn",
           "Field",
           11,
           []
          ],
          [
           23,
           300,
           "corn",
           "Field",
           8,
           []
          ],
          [
           35,
           300,
           "corn",
           "Field",
           11,
           []
          ]
         ],
         "hovertemplate": "<b>%{hovertext}</b><br><br>id=%{customdata[0]}<br>duration=%{customdata[1]}<br>dependencies=%{customdata[5]}<extra></extra>",
         "hovertext": [
          "corn",
          "corn",
          "corn",
          "corn",
          "corn",
          "corn",
          "corn"
         ],
         "legendgroup": "corn",
         "marker": {
          "color": "#EF553B",
          "pattern": {
           "shape": ""
          }
         },
         "name": "corn",
         "offsetgroup": "corn",
         "orientation": "h",
         "showlegend": true,
         "textposition": "auto",
         "type": "bar",
         "x": [
          300001.856,
          300001.856,
          300001.856,
          300001.856,
          300001.856,
          300001.856,
          300001.856
         ],
         "xaxis": "x",
         "y": [
          "Field 6",
          "Field 6",
          "Field 5",
          "Field 6",
          "Field 11",
          "Field 8",
          "Field 11"
         ],
         "yaxis": "y"
        },
        {
         "alignmentgroup": "True",
         "base": [
          "2024-01-04T06:44:47.147383",
          "2024-01-04T06:54:47.147383",
          "2024-01-04T07:04:47.147383",
          "2024-01-04T07:24:47.147383",
          "2024-01-04T07:44:47.147383",
          "2024-01-04T08:04:47.147383",
          "2024-01-04T08:24:47.147383",
          "2024-01-04T08:44:47.147383",
          "2024-01-04T09:04:47.147383",
          "2024-01-04T09:24:47.147383"
         ],
         "customdata": [
          [
           77,
           1200,
           "egg",
           "Chicken",
           1,
           [
            73,
            74,
            75,
            76
           ]
          ],
          [
           30,
           1200,
           "egg",
           "Chicken",
           2,
           [
            22,
            23,
            24,
            25,
            26,
            27,
            28,
            29
           ]
          ],
          [
           31,
           1200,
           "egg",
           "Chicken",
           1,
           [
            22,
            23,
            24,
            25,
            26,
            27,
            28,
            29
           ]
          ],
          [
           79,
           1200,
           "egg",
           "Chicken",
           1,
           [
            73,
            74,
            75,
            76
           ]
          ],
          [
           67,
           1200,
           "egg",
           "Chicken",
           1,
           [
            63,
            64,
            65,
            66
           ]
          ],
          [
           68,
           1200,
           "egg",
           "Chicken",
           1,
           [
            63,
            64,
            65,
            66
           ]
          ],
          [
           33,
           1200,
           "egg",
           "Chicken",
           1,
           [
            22,
            23,
            24,
            25,
            26,
            27,
            28,
            29
           ]
          ],
          [
           78,
           1200,
           "egg",
           "Chicken",
           1,
           [
            73,
            74,
            75,
            76
           ]
          ],
          [
           32,
           1200,
           "egg",
           "Chicken",
           1,
           [
            22,
            23,
            24,
            25,
            26,
            27,
            28,
            29
           ]
          ],
          [
           69,
           1200,
           "egg",
           "Chicken",
           1,
           [
            63,
            64,
            65,
            66
           ]
          ]
         ],
         "hovertemplate": "<b>%{hovertext}</b><br><br>id=%{customdata[0]}<br>duration=%{customdata[1]}<br>dependencies=%{customdata[5]}<extra></extra>",
         "hovertext": [
          "egg",
          "egg",
          "egg",
          "egg",
          "egg",
          "egg",
          "egg",
          "egg",
          "egg",
          "egg"
         ],
         "legendgroup": "egg",
         "marker": {
          "color": "#00cc96",
          "pattern": {
           "shape": ""
          }
         },
         "name": "egg",
         "offsetgroup": "egg",
         "orientation": "h",
         "showlegend": true,
         "textposition": "auto",
         "type": "bar",
         "x": [
          1200001.856,
          1200001.856,
          1200001.856,
          1200001.856,
          1200001.856,
          1200001.856,
          1200001.856,
          1200001.856,
          1200001.856,
          1200001.856
         ],
         "xaxis": "x",
         "y": [
          "Chicken 1",
          "Chicken 2",
          "Chicken 1",
          "Chicken 1",
          "Chicken 1",
          "Chicken 1",
          "Chicken 1",
          "Chicken 1",
          "Chicken 1",
          "Chicken 1"
         ],
         "yaxis": "y"
        },
        {
         "alignmentgroup": "True",
         "base": [
          "2024-01-04T05:22:47.147383",
          "2024-01-04T05:22:47.147383",
          "2024-01-04T05:29:47.147383",
          "2024-01-04T05:22:47.147383",
          "2024-01-04T06:02:47.147383",
          "2024-01-04T05:31:47.147383",
          "2024-01-04T05:24:47.147383",
          "2024-01-04T05:22:47.147383",
          "2024-01-04T05:29:47.147383",
          "2024-01-04T05:26:47.147383",
          "2024-01-04T05:27:47.147383",
          "2024-01-04T05:28:47.147383",
          "2024-01-04T06:32:47.147383",
          "2024-01-04T06:54:47.147383"
         ],
         "customdata": [
          [
           25,
           120,
           "wheat",
           "Field",
           11,
           []
          ],
          [
           24,
           120,
           "wheat",
           "Field",
           8,
           []
          ],
          [
           75,
           120,
           "wheat",
           "Field",
           11,
           []
          ],
          [
           27,
           120,
           "wheat",
           "Field",
           9,
           []
          ],
          [
           74,
           120,
           "wheat",
           "Field",
           10,
           []
          ],
          [
           26,
           120,
           "wheat",
           "Field",
           11,
           []
          ],
          [
           65,
           120,
           "wheat",
           "Field",
           9,
           []
          ],
          [
           12,
           120,
           "wheat",
           "Field",
           4,
           []
          ],
          [
           11,
           120,
           "wheat",
           "Field",
           8,
           []
          ],
          [
           10,
           120,
           "wheat",
           "Field",
           9,
           []
          ],
          [
           7,
           120,
           "wheat",
           "Field",
           5,
           []
          ],
          [
           8,
           120,
           "wheat",
           "Field",
           9,
           []
          ],
          [
           64,
           120,
           "wheat",
           "Field",
           7,
           []
          ],
          [
           9,
           120,
           "wheat",
           "Field",
           7,
           []
          ]
         ],
         "hovertemplate": "<b>%{hovertext}</b><br><br>id=%{customdata[0]}<br>duration=%{customdata[1]}<br>dependencies=%{customdata[5]}<extra></extra>",
         "hovertext": [
          "wheat",
          "wheat",
          "wheat",
          "wheat",
          "wheat",
          "wheat",
          "wheat",
          "wheat",
          "wheat",
          "wheat",
          "wheat",
          "wheat",
          "wheat",
          "wheat"
         ],
         "legendgroup": "wheat",
         "marker": {
          "color": "#ab63fa",
          "pattern": {
           "shape": ""
          }
         },
         "name": "wheat",
         "offsetgroup": "wheat",
         "orientation": "h",
         "showlegend": true,
         "textposition": "auto",
         "type": "bar",
         "x": [
          120001.856,
          120001.856,
          120001.856,
          120001.856,
          120001.856,
          120001.856,
          120001.856,
          120001.856,
          120001.856,
          120001.856,
          120001.856,
          120001.856,
          120001.856,
          120001.856
         ],
         "xaxis": "x",
         "y": [
          "Field 11",
          "Field 8",
          "Field 11",
          "Field 9",
          "Field 10",
          "Field 11",
          "Field 9",
          "Field 4",
          "Field 8",
          "Field 9",
          "Field 5",
          "Field 9",
          "Field 7",
          "Field 7"
         ],
         "yaxis": "y"
        },
        {
         "alignmentgroup": "True",
         "base": [
          "2024-01-04T05:42:47.147383",
          "2024-01-04T06:17:47.147383",
          "2024-01-04T05:52:47.147383",
          "2024-01-04T05:33:47.147383"
         ],
         "customdata": [
          [
           16,
           600,
           "carrot",
           "Field",
           7,
           []
          ],
          [
           17,
           600,
           "carrot",
           "Field",
           6,
           []
          ],
          [
           1,
           600,
           "carrot",
           "Field",
           7,
           []
          ],
          [
           2,
           600,
           "carrot",
           "Field",
           11,
           []
          ]
         ],
         "hovertemplate": "<b>%{hovertext}</b><br><br>id=%{customdata[0]}<br>duration=%{customdata[1]}<br>dependencies=%{customdata[5]}<extra></extra>",
         "hovertext": [
          "carrot",
          "carrot",
          "carrot",
          "carrot"
         ],
         "legendgroup": "carrot",
         "marker": {
          "color": "#FFA15A",
          "pattern": {
           "shape": ""
          }
         },
         "name": "carrot",
         "offsetgroup": "carrot",
         "orientation": "h",
         "showlegend": true,
         "textposition": "auto",
         "type": "bar",
         "x": [
          600001.856,
          600001.856,
          600001.856,
          600001.856
         ],
         "xaxis": "x",
         "y": [
          "Field 7",
          "Field 6",
          "Field 7",
          "Field 11"
         ],
         "yaxis": "y"
        },
        {
         "alignmentgroup": "True",
         "base": [
          "2024-01-04T07:04:47.147383",
          "2024-01-04T08:04:47.147383",
          "2024-01-04T07:34:47.147383",
          "2024-01-04T08:34:47.147383",
          "2024-01-04T09:34:47.147383",
          "2024-01-04T07:04:47.147383",
          "2024-01-04T07:04:47.147383"
         ],
         "customdata": [
          [
           41,
           3600,
           "milk",
           "Cow",
           19,
           [
            35,
            36,
            37,
            38
           ]
          ],
          [
           56,
           3600,
           "milk",
           "Cow",
           19,
           [
            52,
            53,
            54,
            55
           ]
          ],
          [
           49,
           3600,
           "milk",
           "Cow",
           17,
           [
            43,
            44,
            45,
            46
           ]
          ],
          [
           47,
           3600,
           "milk",
           "Cow",
           17,
           [
            43,
            44,
            45,
            46
           ]
          ],
          [
           48,
           3600,
           "milk",
           "Cow",
           17,
           [
            43,
            44,
            45,
            46
           ]
          ],
          [
           40,
           3600,
           "milk",
           "Cow",
           18,
           [
            35,
            36,
            37,
            38
           ]
          ],
          [
           39,
           3600,
           "milk",
           "Cow",
           20,
           [
            35,
            36,
            37,
            38
           ]
          ]
         ],
         "hovertemplate": "<b>%{hovertext}</b><br><br>id=%{customdata[0]}<br>duration=%{customdata[1]}<br>dependencies=%{customdata[5]}<extra></extra>",
         "hovertext": [
          "milk",
          "milk",
          "milk",
          "milk",
          "milk",
          "milk",
          "milk"
         ],
         "legendgroup": "milk",
         "marker": {
          "color": "#19d3f3",
          "pattern": {
           "shape": ""
          }
         },
         "name": "milk",
         "offsetgroup": "milk",
         "orientation": "h",
         "showlegend": true,
         "textposition": "auto",
         "type": "bar",
         "x": [
          3600001.856,
          3600001.856,
          3600001.856,
          3600001.856,
          3600001.856,
          3600001.856,
          3600001.856
         ],
         "xaxis": "x",
         "y": [
          "Cow 19",
          "Cow 19",
          "Cow 17",
          "Cow 17",
          "Cow 17",
          "Cow 18",
          "Cow 20"
         ],
         "yaxis": "y"
        },
        {
         "alignmentgroup": "True",
         "base": [
          "2024-01-04T05:42:47.147383",
          "2024-01-04T06:54:47.147383",
          "2024-01-04T07:24:47.147383"
         ],
         "customdata": [
          [
           55,
           600,
           "cow feed",
           "Feed Mill",
           3,
           [
            52,
            53,
            54
           ]
          ],
          [
           38,
           600,
           "cow feed",
           "Feed Mill",
           3,
           [
            35,
            36,
            37
           ]
          ],
          [
           46,
           600,
           "cow feed",
           "Feed Mill",
           3,
           [
            43,
            44,
            45
           ]
          ]
         ],
         "hovertemplate": "<b>%{hovertext}</b><br><br>id=%{customdata[0]}<br>duration=%{customdata[1]}<br>dependencies=%{customdata[5]}<extra></extra>",
         "hovertext": [
          "cow feed",
          "cow feed",
          "cow feed"
         ],
         "legendgroup": "cow feed",
         "marker": {
          "color": "#FF6692",
          "pattern": {
           "shape": ""
          }
         },
         "name": "cow feed",
         "offsetgroup": "cow feed",
         "orientation": "h",
         "showlegend": true,
         "textposition": "auto",
         "type": "bar",
         "x": [
          600001.856,
          600001.856,
          600001.856
         ],
         "xaxis": "x",
         "y": [
          "Feed Mill 3",
          "Feed Mill 3",
          "Feed Mill 3"
         ],
         "yaxis": "y"
        },
        {
         "alignmentgroup": "True",
         "base": [
          "2024-01-04T06:02:47.147383",
          "2024-01-04T07:04:47.147383"
         ],
         "customdata": [
          [
           4,
           1200,
           "pig feed",
           "Feed Mill",
           3,
           [
            1,
            2,
            3
           ]
          ],
          [
           19,
           1200,
           "pig feed",
           "Feed Mill",
           3,
           [
            16,
            17,
            18
           ]
          ]
         ],
         "hovertemplate": "<b>%{hovertext}</b><br><br>id=%{customdata[0]}<br>duration=%{customdata[1]}<br>dependencies=%{customdata[5]}<extra></extra>",
         "hovertext": [
          "pig feed",
          "pig feed"
         ],
         "legendgroup": "pig feed",
         "marker": {
          "color": "#B6E880",
          "pattern": {
           "shape": ""
          }
         },
         "name": "pig feed",
         "offsetgroup": "pig feed",
         "orientation": "h",
         "showlegend": true,
         "textposition": "auto",
         "type": "bar",
         "x": [
          1200001.856,
          1200001.856
         ],
         "xaxis": "x",
         "y": [
          "Feed Mill 3",
          "Feed Mill 3"
         ],
         "yaxis": "y"
        },
        {
         "alignmentgroup": "True",
         "base": [
          "2024-01-04T06:34:47.147383",
          "2024-01-04T06:39:47.147383",
          "2024-01-04T06:44:47.147383",
          "2024-01-04T06:49:47.147383"
         ],
         "customdata": [
          [
           66,
           300,
           "chicken feed",
           "Feed Mill",
           3,
           [
            63,
            64,
            65
           ]
          ],
          [
           76,
           300,
           "chicken feed",
           "Feed Mill",
           3,
           [
            73,
            74,
            75
           ]
          ],
          [
           29,
           300,
           "chicken feed",
           "Feed Mill",
           3,
           [
            22,
            23,
            24,
            25,
            26,
            27
           ]
          ],
          [
           28,
           300,
           "chicken feed",
           "Feed Mill",
           3,
           [
            22,
            23,
            24,
            25,
            26,
            27
           ]
          ]
         ],
         "hovertemplate": "<b>%{hovertext}</b><br><br>id=%{customdata[0]}<br>duration=%{customdata[1]}<br>dependencies=%{customdata[5]}<extra></extra>",
         "hovertext": [
          "chicken feed",
          "chicken feed",
          "chicken feed",
          "chicken feed"
         ],
         "legendgroup": "chicken feed",
         "marker": {
          "color": "#FF97FF",
          "pattern": {
           "shape": ""
          }
         },
         "name": "chicken feed",
         "offsetgroup": "chicken feed",
         "orientation": "h",
         "showlegend": true,
         "textposition": "auto",
         "type": "bar",
         "x": [
          300001.856,
          300001.856,
          300001.856,
          300001.856
         ],
         "xaxis": "x",
         "y": [
          "Feed Mill 3",
          "Feed Mill 3",
          "Feed Mill 3",
          "Feed Mill 3"
         ],
         "yaxis": "y"
        },
        {
         "alignmentgroup": "True",
         "base": [
          "2024-01-04T06:03:47.147383",
          "2024-01-04T06:02:47.147383"
         ],
         "customdata": [
          [
           61,
           1800,
           "sugarcane",
           "Field",
           11,
           []
          ],
          [
           71,
           1800,
           "sugarcane",
           "Field",
           7,
           []
          ]
         ],
         "hovertemplate": "<b>%{hovertext}</b><br><br>id=%{customdata[0]}<br>duration=%{customdata[1]}<br>dependencies=%{customdata[5]}<extra></extra>",
         "hovertext": [
          "sugarcane",
          "sugarcane"
         ],
         "legendgroup": "sugarcane",
         "marker": {
          "color": "#FECB52",
          "pattern": {
           "shape": ""
          }
         },
         "name": "sugarcane",
         "offsetgroup": "sugarcane",
         "orientation": "h",
         "showlegend": true,
         "textposition": "auto",
         "type": "bar",
         "x": [
          1800001.856,
          1800001.856
         ],
         "xaxis": "x",
         "y": [
          "Field 11",
          "Field 7"
         ],
         "yaxis": "y"
        },
        {
         "alignmentgroup": "True",
         "base": [
          "2024-01-04T05:30:47.147383",
          "2024-01-04T05:24:47.147383"
         ],
         "customdata": [
          [
           59,
           13200,
           "potato",
           "Field",
           9,
           []
          ],
          [
           58,
           13200,
           "potato",
           "Field",
           4,
           []
          ]
         ],
         "hovertemplate": "<b>%{hovertext}</b><br><br>id=%{customdata[0]}<br>duration=%{customdata[1]}<br>dependencies=%{customdata[5]}<extra></extra>",
         "hovertext": [
          "potato",
          "potato"
         ],
         "legendgroup": "potato",
         "marker": {
          "color": "#636efa",
          "pattern": {
           "shape": ""
          }
         },
         "name": "potato",
         "offsetgroup": "potato",
         "orientation": "h",
         "showlegend": true,
         "textposition": "auto",
         "type": "bar",
         "x": [
          13200001.856,
          13200001.856
         ],
         "xaxis": "x",
         "y": [
          "Field 9",
          "Field 4"
         ],
         "yaxis": "y"
        },
        {
         "alignmentgroup": "True",
         "base": [
          "2024-01-04T06:33:47.147383",
          "2024-01-04T06:53:47.147383"
         ],
         "customdata": [
          [
           62,
           1200,
           "brown sugar",
           "Sugar Mill",
           13,
           [
            61
           ]
          ],
          [
           72,
           1200,
           "brown sugar",
           "Sugar Mill",
           13,
           [
            71
           ]
          ]
         ],
         "hovertemplate": "<b>%{hovertext}</b><br><br>id=%{customdata[0]}<br>duration=%{customdata[1]}<br>dependencies=%{customdata[5]}<extra></extra>",
         "hovertext": [
          "brown sugar",
          "brown sugar"
         ],
         "legendgroup": "brown sugar",
         "marker": {
          "color": "#EF553B",
          "pattern": {
           "shape": ""
          }
         },
         "name": "brown sugar",
         "offsetgroup": "brown sugar",
         "orientation": "h",
         "showlegend": true,
         "textposition": "auto",
         "type": "bar",
         "x": [
          1200001.856,
          1200001.856
         ],
         "xaxis": "x",
         "y": [
          "Sugar Mill 13",
          "Sugar Mill 13"
         ],
         "yaxis": "y"
        },
        {
         "alignmentgroup": "True",
         "base": [
          "2024-01-04T09:04:47.147383"
         ],
         "customdata": [
          [
           57,
           1200,
           "cream",
           "Dairy",
           22,
           [
            52,
            53,
            54,
            55,
            56
           ]
          ]
         ],
         "hovertemplate": "<b>%{hovertext}</b><br><br>id=%{customdata[0]}<br>duration=%{customdata[1]}<br>dependencies=%{customdata[5]}<extra></extra>",
         "hovertext": [
          "cream"
         ],
         "legendgroup": "cream",
         "marker": {
          "color": "#00cc96",
          "pattern": {
           "shape": ""
          }
         },
         "name": "cream",
         "offsetgroup": "cream",
         "orientation": "h",
         "showlegend": true,
         "textposition": "auto",
         "type": "bar",
         "x": [
          1200001.856
         ],
         "xaxis": "x",
         "y": [
          "Dairy 22"
         ],
         "yaxis": "y"
        },
        {
         "alignmentgroup": "True",
         "base": [
          "2024-01-04T09:10:47.147383"
         ],
         "customdata": [
          [
           51,
           14400,
           "chili pepper",
           "Field",
           9,
           []
          ]
         ],
         "hovertemplate": "<b>%{hovertext}</b><br><br>id=%{customdata[0]}<br>duration=%{customdata[1]}<br>dependencies=%{customdata[5]}<extra></extra>",
         "hovertext": [
          "chili pepper"
         ],
         "legendgroup": "chili pepper",
         "marker": {
          "color": "#ab63fa",
          "pattern": {
           "shape": ""
          }
         },
         "name": "chili pepper",
         "offsetgroup": "chili pepper",
         "orientation": "h",
         "showlegend": true,
         "textposition": "auto",
         "type": "bar",
         "x": [
          14400001.856
         ],
         "xaxis": "x",
         "y": [
          "Field 9"
         ],
         "yaxis": "y"
        },
        {
         "alignmentgroup": "True",
         "base": [
          "2024-01-04T06:22:47.147383",
          "2024-01-04T06:22:47.147383",
          "2024-01-04T10:22:47.147383",
          "2024-01-04T10:22:47.147383"
         ],
         "customdata": [
          [
           6,
           14400,
           "bacon",
           "Pig",
           24,
           [
            1,
            2,
            3,
            4
           ]
          ],
          [
           5,
           14400,
           "bacon",
           "Pig",
           23,
           [
            1,
            2,
            3,
            4
           ]
          ],
          [
           21,
           14400,
           "bacon",
           "Pig",
           23,
           [
            16,
            17,
            18,
            19
           ]
          ],
          [
           20,
           14400,
           "bacon",
           "Pig",
           24,
           [
            16,
            17,
            18,
            19
           ]
          ]
         ],
         "hovertemplate": "<b>%{hovertext}</b><br><br>id=%{customdata[0]}<br>duration=%{customdata[1]}<br>dependencies=%{customdata[5]}<extra></extra>",
         "hovertext": [
          "bacon",
          "bacon",
          "bacon",
          "bacon"
         ],
         "legendgroup": "bacon",
         "marker": {
          "color": "#FFA15A",
          "pattern": {
           "shape": ""
          }
         },
         "name": "bacon",
         "offsetgroup": "bacon",
         "orientation": "h",
         "showlegend": true,
         "textposition": "auto",
         "type": "bar",
         "x": [
          14400001.856,
          14400001.856,
          14400001.856,
          14400001.856
         ],
         "xaxis": "x",
         "y": [
          "Pig 24",
          "Pig 23",
          "Pig 23",
          "Pig 24"
         ],
         "yaxis": "y"
        },
        {
         "alignmentgroup": "True",
         "base": [
          "2024-01-04T10:34:47.147383",
          "2024-01-04T11:34:47.147383"
         ],
         "customdata": [
          [
           50,
           3600,
           "cheese",
           "Dairy",
           22,
           [
            43,
            44,
            45,
            46,
            47,
            48,
            49
           ]
          ],
          [
           42,
           3600,
           "cheese",
           "Dairy",
           22,
           [
            35,
            36,
            37,
            38,
            39,
            40,
            41
           ]
          ]
         ],
         "hovertemplate": "<b>%{hovertext}</b><br><br>id=%{customdata[0]}<br>duration=%{customdata[1]}<br>dependencies=%{customdata[5]}<extra></extra>",
         "hovertext": [
          "cheese",
          "cheese"
         ],
         "legendgroup": "cheese",
         "marker": {
          "color": "#19d3f3",
          "pattern": {
           "shape": ""
          }
         },
         "name": "cheese",
         "offsetgroup": "cheese",
         "orientation": "h",
         "showlegend": true,
         "textposition": "auto",
         "type": "bar",
         "x": [
          3600001.856,
          3600001.856
         ],
         "xaxis": "x",
         "y": [
          "Dairy 22",
          "Dairy 22"
         ],
         "yaxis": "y"
        },
        {
         "alignmentgroup": "True",
         "base": [
          "2024-01-04T06:56:47.147383",
          "2024-01-04T07:01:47.147383"
         ],
         "customdata": [
          [
           14,
           300,
           "bread",
           "Bakery",
           0,
           [
            7,
            8,
            9,
            10,
            11,
            12
           ]
          ],
          [
           13,
           300,
           "bread",
           "Bakery",
           0,
           [
            7,
            8,
            9,
            10,
            11,
            12
           ]
          ]
         ],
         "hovertemplate": "<b>%{hovertext}</b><br><br>id=%{customdata[0]}<br>duration=%{customdata[1]}<br>dependencies=%{customdata[5]}<extra></extra>",
         "hovertext": [
          "bread",
          "bread"
         ],
         "legendgroup": "bread",
         "marker": {
          "color": "#FF6692",
          "pattern": {
           "shape": ""
          }
         },
         "name": "bread",
         "offsetgroup": "bread",
         "orientation": "h",
         "showlegend": true,
         "textposition": "auto",
         "type": "bar",
         "x": [
          300001.856,
          300001.856
         ],
         "xaxis": "x",
         "y": [
          "Bakery 0",
          "Bakery 0"
         ],
         "yaxis": "y"
        },
        {
         "alignmentgroup": "True",
         "base": [
          "2024-01-04T09:44:47.147383",
          "2024-01-04T10:14:47.147383"
         ],
         "customdata": [
          [
           70,
           1800,
           "pancake",
           "BBQ Grill",
           21,
           [
            61,
            62,
            63,
            64,
            65,
            66,
            67,
            68,
            69
           ]
          ],
          [
           80,
           1800,
           "pancake",
           "BBQ Grill",
           21,
           [
            71,
            72,
            73,
            74,
            75,
            76,
            77,
            78,
            79
           ]
          ]
         ],
         "hovertemplate": "<b>%{hovertext}</b><br><br>id=%{customdata[0]}<br>duration=%{customdata[1]}<br>dependencies=%{customdata[5]}<extra></extra>",
         "hovertext": [
          "pancake",
          "pancake"
         ],
         "legendgroup": "pancake",
         "marker": {
          "color": "#B6E880",
          "pattern": {
           "shape": ""
          }
         },
         "name": "pancake",
         "offsetgroup": "pancake",
         "orientation": "h",
         "showlegend": true,
         "textposition": "auto",
         "type": "bar",
         "x": [
          1800001.856,
          1800001.856
         ],
         "xaxis": "x",
         "y": [
          "BBQ Grill 21",
          "BBQ Grill 21"
         ],
         "yaxis": "y"
        },
        {
         "alignmentgroup": "True",
         "base": [
          "2024-01-04T10:44:47.147383"
         ],
         "customdata": [
          [
           15,
           7200,
           "hamburger",
           "BBQ Grill",
           21,
           [
            1,
            2,
            3,
            4,
            5,
            6,
            7,
            8,
            9,
            10,
            11,
            12,
            13,
            14
           ]
          ]
         ],
         "hovertemplate": "<b>%{hovertext}</b><br><br>id=%{customdata[0]}<br>duration=%{customdata[1]}<br>dependencies=%{customdata[5]}<extra></extra>",
         "hovertext": [
          "hamburger"
         ],
         "legendgroup": "hamburger",
         "marker": {
          "color": "#FF97FF",
          "pattern": {
           "shape": ""
          }
         },
         "name": "hamburger",
         "offsetgroup": "hamburger",
         "orientation": "h",
         "showlegend": true,
         "textposition": "auto",
         "type": "bar",
         "x": [
          7200001.856
         ],
         "xaxis": "x",
         "y": [
          "BBQ Grill 21"
         ],
         "yaxis": "y"
        },
        {
         "alignmentgroup": "True",
         "base": [
          "2024-01-04T14:22:47.147383"
         ],
         "customdata": [
          [
           34,
           3600,
           "bacon and eggs",
           "BBQ Grill",
           21,
           [
            16,
            17,
            18,
            19,
            20,
            21,
            22,
            23,
            24,
            25,
            26,
            27,
            28,
            29,
            30,
            31,
            32,
            33
           ]
          ]
         ],
         "hovertemplate": "<b>%{hovertext}</b><br><br>id=%{customdata[0]}<br>duration=%{customdata[1]}<br>dependencies=%{customdata[5]}<extra></extra>",
         "hovertext": [
          "bacon and eggs"
         ],
         "legendgroup": "bacon and eggs",
         "marker": {
          "color": "#FECB52",
          "pattern": {
           "shape": ""
          }
         },
         "name": "bacon and eggs",
         "offsetgroup": "bacon and eggs",
         "orientation": "h",
         "showlegend": true,
         "textposition": "auto",
         "type": "bar",
         "x": [
          3600001.856
         ],
         "xaxis": "x",
         "y": [
          "BBQ Grill 21"
         ],
         "yaxis": "y"
        },
        {
         "alignmentgroup": "True",
         "base": [
          "2024-01-04T15:22:47.147383"
         ],
         "customdata": [
          [
           60,
           2100,
           "baked potato",
           "BBQ Grill",
           21,
           [
            43,
            44,
            45,
            46,
            47,
            48,
            49,
            50,
            51,
            52,
            53,
            54,
            55,
            56,
            57,
            58,
            59
           ]
          ]
         ],
         "hovertemplate": "<b>%{hovertext}</b><br><br>id=%{customdata[0]}<br>duration=%{customdata[1]}<br>dependencies=%{customdata[5]}<extra></extra>",
         "hovertext": [
          "baked potato"
         ],
         "legendgroup": "baked potato",
         "marker": {
          "color": "#636efa",
          "pattern": {
           "shape": ""
          }
         },
         "name": "baked potato",
         "offsetgroup": "baked potato",
         "orientation": "h",
         "showlegend": true,
         "textposition": "auto",
         "type": "bar",
         "x": [
          2100001.856
         ],
         "xaxis": "x",
         "y": [
          "BBQ Grill 21"
         ],
         "yaxis": "y"
        }
       ],
       "layout": {
        "barmode": "overlay",
        "legend": {
         "title": {
          "text": "name"
         },
         "tracegroupgap": 0
        },
        "margin": {
         "t": 60
        },
        "template": {
         "data": {
          "bar": [
           {
            "error_x": {
             "color": "#2a3f5f"
            },
            "error_y": {
             "color": "#2a3f5f"
            },
            "marker": {
             "line": {
              "color": "#E5ECF6",
              "width": 0.5
             },
             "pattern": {
              "fillmode": "overlay",
              "size": 10,
              "solidity": 0.2
             }
            },
            "type": "bar"
           }
          ],
          "barpolar": [
           {
            "marker": {
             "line": {
              "color": "#E5ECF6",
              "width": 0.5
             },
             "pattern": {
              "fillmode": "overlay",
              "size": 10,
              "solidity": 0.2
             }
            },
            "type": "barpolar"
           }
          ],
          "carpet": [
           {
            "aaxis": {
             "endlinecolor": "#2a3f5f",
             "gridcolor": "white",
             "linecolor": "white",
             "minorgridcolor": "white",
             "startlinecolor": "#2a3f5f"
            },
            "baxis": {
             "endlinecolor": "#2a3f5f",
             "gridcolor": "white",
             "linecolor": "white",
             "minorgridcolor": "white",
             "startlinecolor": "#2a3f5f"
            },
            "type": "carpet"
           }
          ],
          "choropleth": [
           {
            "colorbar": {
             "outlinewidth": 0,
             "ticks": ""
            },
            "type": "choropleth"
           }
          ],
          "contour": [
           {
            "colorbar": {
             "outlinewidth": 0,
             "ticks": ""
            },
            "colorscale": [
             [
              0,
              "#0d0887"
             ],
             [
              0.1111111111111111,
              "#46039f"
             ],
             [
              0.2222222222222222,
              "#7201a8"
             ],
             [
              0.3333333333333333,
              "#9c179e"
             ],
             [
              0.4444444444444444,
              "#bd3786"
             ],
             [
              0.5555555555555556,
              "#d8576b"
             ],
             [
              0.6666666666666666,
              "#ed7953"
             ],
             [
              0.7777777777777778,
              "#fb9f3a"
             ],
             [
              0.8888888888888888,
              "#fdca26"
             ],
             [
              1,
              "#f0f921"
             ]
            ],
            "type": "contour"
           }
          ],
          "contourcarpet": [
           {
            "colorbar": {
             "outlinewidth": 0,
             "ticks": ""
            },
            "type": "contourcarpet"
           }
          ],
          "heatmap": [
           {
            "colorbar": {
             "outlinewidth": 0,
             "ticks": ""
            },
            "colorscale": [
             [
              0,
              "#0d0887"
             ],
             [
              0.1111111111111111,
              "#46039f"
             ],
             [
              0.2222222222222222,
              "#7201a8"
             ],
             [
              0.3333333333333333,
              "#9c179e"
             ],
             [
              0.4444444444444444,
              "#bd3786"
             ],
             [
              0.5555555555555556,
              "#d8576b"
             ],
             [
              0.6666666666666666,
              "#ed7953"
             ],
             [
              0.7777777777777778,
              "#fb9f3a"
             ],
             [
              0.8888888888888888,
              "#fdca26"
             ],
             [
              1,
              "#f0f921"
             ]
            ],
            "type": "heatmap"
           }
          ],
          "heatmapgl": [
           {
            "colorbar": {
             "outlinewidth": 0,
             "ticks": ""
            },
            "colorscale": [
             [
              0,
              "#0d0887"
             ],
             [
              0.1111111111111111,
              "#46039f"
             ],
             [
              0.2222222222222222,
              "#7201a8"
             ],
             [
              0.3333333333333333,
              "#9c179e"
             ],
             [
              0.4444444444444444,
              "#bd3786"
             ],
             [
              0.5555555555555556,
              "#d8576b"
             ],
             [
              0.6666666666666666,
              "#ed7953"
             ],
             [
              0.7777777777777778,
              "#fb9f3a"
             ],
             [
              0.8888888888888888,
              "#fdca26"
             ],
             [
              1,
              "#f0f921"
             ]
            ],
            "type": "heatmapgl"
           }
          ],
          "histogram": [
           {
            "marker": {
             "pattern": {
              "fillmode": "overlay",
              "size": 10,
              "solidity": 0.2
             }
            },
            "type": "histogram"
           }
          ],
          "histogram2d": [
           {
            "colorbar": {
             "outlinewidth": 0,
             "ticks": ""
            },
            "colorscale": [
             [
              0,
              "#0d0887"
             ],
             [
              0.1111111111111111,
              "#46039f"
             ],
             [
              0.2222222222222222,
              "#7201a8"
             ],
             [
              0.3333333333333333,
              "#9c179e"
             ],
             [
              0.4444444444444444,
              "#bd3786"
             ],
             [
              0.5555555555555556,
              "#d8576b"
             ],
             [
              0.6666666666666666,
              "#ed7953"
             ],
             [
              0.7777777777777778,
              "#fb9f3a"
             ],
             [
              0.8888888888888888,
              "#fdca26"
             ],
             [
              1,
              "#f0f921"
             ]
            ],
            "type": "histogram2d"
           }
          ],
          "histogram2dcontour": [
           {
            "colorbar": {
             "outlinewidth": 0,
             "ticks": ""
            },
            "colorscale": [
             [
              0,
              "#0d0887"
             ],
             [
              0.1111111111111111,
              "#46039f"
             ],
             [
              0.2222222222222222,
              "#7201a8"
             ],
             [
              0.3333333333333333,
              "#9c179e"
             ],
             [
              0.4444444444444444,
              "#bd3786"
             ],
             [
              0.5555555555555556,
              "#d8576b"
             ],
             [
              0.6666666666666666,
              "#ed7953"
             ],
             [
              0.7777777777777778,
              "#fb9f3a"
             ],
             [
              0.8888888888888888,
              "#fdca26"
             ],
             [
              1,
              "#f0f921"
             ]
            ],
            "type": "histogram2dcontour"
           }
          ],
          "mesh3d": [
           {
            "colorbar": {
             "outlinewidth": 0,
             "ticks": ""
            },
            "type": "mesh3d"
           }
          ],
          "parcoords": [
           {
            "line": {
             "colorbar": {
              "outlinewidth": 0,
              "ticks": ""
             }
            },
            "type": "parcoords"
           }
          ],
          "pie": [
           {
            "automargin": true,
            "type": "pie"
           }
          ],
          "scatter": [
           {
            "fillpattern": {
             "fillmode": "overlay",
             "size": 10,
             "solidity": 0.2
            },
            "type": "scatter"
           }
          ],
          "scatter3d": [
           {
            "line": {
             "colorbar": {
              "outlinewidth": 0,
              "ticks": ""
             }
            },
            "marker": {
             "colorbar": {
              "outlinewidth": 0,
              "ticks": ""
             }
            },
            "type": "scatter3d"
           }
          ],
          "scattercarpet": [
           {
            "marker": {
             "colorbar": {
              "outlinewidth": 0,
              "ticks": ""
             }
            },
            "type": "scattercarpet"
           }
          ],
          "scattergeo": [
           {
            "marker": {
             "colorbar": {
              "outlinewidth": 0,
              "ticks": ""
             }
            },
            "type": "scattergeo"
           }
          ],
          "scattergl": [
           {
            "marker": {
             "colorbar": {
              "outlinewidth": 0,
              "ticks": ""
             }
            },
            "type": "scattergl"
           }
          ],
          "scattermapbox": [
           {
            "marker": {
             "colorbar": {
              "outlinewidth": 0,
              "ticks": ""
             }
            },
            "type": "scattermapbox"
           }
          ],
          "scatterpolar": [
           {
            "marker": {
             "colorbar": {
              "outlinewidth": 0,
              "ticks": ""
             }
            },
            "type": "scatterpolar"
           }
          ],
          "scatterpolargl": [
           {
            "marker": {
             "colorbar": {
              "outlinewidth": 0,
              "ticks": ""
             }
            },
            "type": "scatterpolargl"
           }
          ],
          "scatterternary": [
           {
            "marker": {
             "colorbar": {
              "outlinewidth": 0,
              "ticks": ""
             }
            },
            "type": "scatterternary"
           }
          ],
          "surface": [
           {
            "colorbar": {
             "outlinewidth": 0,
             "ticks": ""
            },
            "colorscale": [
             [
              0,
              "#0d0887"
             ],
             [
              0.1111111111111111,
              "#46039f"
             ],
             [
              0.2222222222222222,
              "#7201a8"
             ],
             [
              0.3333333333333333,
              "#9c179e"
             ],
             [
              0.4444444444444444,
              "#bd3786"
             ],
             [
              0.5555555555555556,
              "#d8576b"
             ],
             [
              0.6666666666666666,
              "#ed7953"
             ],
             [
              0.7777777777777778,
              "#fb9f3a"
             ],
             [
              0.8888888888888888,
              "#fdca26"
             ],
             [
              1,
              "#f0f921"
             ]
            ],
            "type": "surface"
           }
          ],
          "table": [
           {
            "cells": {
             "fill": {
              "color": "#EBF0F8"
             },
             "line": {
              "color": "white"
             }
            },
            "header": {
             "fill": {
              "color": "#C8D4E3"
             },
             "line": {
              "color": "white"
             }
            },
            "type": "table"
           }
          ]
         },
         "layout": {
          "annotationdefaults": {
           "arrowcolor": "#2a3f5f",
           "arrowhead": 0,
           "arrowwidth": 1
          },
          "autotypenumbers": "strict",
          "coloraxis": {
           "colorbar": {
            "outlinewidth": 0,
            "ticks": ""
           }
          },
          "colorscale": {
           "diverging": [
            [
             0,
             "#8e0152"
            ],
            [
             0.1,
             "#c51b7d"
            ],
            [
             0.2,
             "#de77ae"
            ],
            [
             0.3,
             "#f1b6da"
            ],
            [
             0.4,
             "#fde0ef"
            ],
            [
             0.5,
             "#f7f7f7"
            ],
            [
             0.6,
             "#e6f5d0"
            ],
            [
             0.7,
             "#b8e186"
            ],
            [
             0.8,
             "#7fbc41"
            ],
            [
             0.9,
             "#4d9221"
            ],
            [
             1,
             "#276419"
            ]
           ],
           "sequential": [
            [
             0,
             "#0d0887"
            ],
            [
             0.1111111111111111,
             "#46039f"
            ],
            [
             0.2222222222222222,
             "#7201a8"
            ],
            [
             0.3333333333333333,
             "#9c179e"
            ],
            [
             0.4444444444444444,
             "#bd3786"
            ],
            [
             0.5555555555555556,
             "#d8576b"
            ],
            [
             0.6666666666666666,
             "#ed7953"
            ],
            [
             0.7777777777777778,
             "#fb9f3a"
            ],
            [
             0.8888888888888888,
             "#fdca26"
            ],
            [
             1,
             "#f0f921"
            ]
           ],
           "sequentialminus": [
            [
             0,
             "#0d0887"
            ],
            [
             0.1111111111111111,
             "#46039f"
            ],
            [
             0.2222222222222222,
             "#7201a8"
            ],
            [
             0.3333333333333333,
             "#9c179e"
            ],
            [
             0.4444444444444444,
             "#bd3786"
            ],
            [
             0.5555555555555556,
             "#d8576b"
            ],
            [
             0.6666666666666666,
             "#ed7953"
            ],
            [
             0.7777777777777778,
             "#fb9f3a"
            ],
            [
             0.8888888888888888,
             "#fdca26"
            ],
            [
             1,
             "#f0f921"
            ]
           ]
          },
          "colorway": [
           "#636efa",
           "#EF553B",
           "#00cc96",
           "#ab63fa",
           "#FFA15A",
           "#19d3f3",
           "#FF6692",
           "#B6E880",
           "#FF97FF",
           "#FECB52"
          ],
          "font": {
           "color": "#2a3f5f"
          },
          "geo": {
           "bgcolor": "white",
           "lakecolor": "white",
           "landcolor": "#E5ECF6",
           "showlakes": true,
           "showland": true,
           "subunitcolor": "white"
          },
          "hoverlabel": {
           "align": "left"
          },
          "hovermode": "closest",
          "mapbox": {
           "style": "light"
          },
          "paper_bgcolor": "white",
          "plot_bgcolor": "#E5ECF6",
          "polar": {
           "angularaxis": {
            "gridcolor": "white",
            "linecolor": "white",
            "ticks": ""
           },
           "bgcolor": "#E5ECF6",
           "radialaxis": {
            "gridcolor": "white",
            "linecolor": "white",
            "ticks": ""
           }
          },
          "scene": {
           "xaxis": {
            "backgroundcolor": "#E5ECF6",
            "gridcolor": "white",
            "gridwidth": 2,
            "linecolor": "white",
            "showbackground": true,
            "ticks": "",
            "zerolinecolor": "white"
           },
           "yaxis": {
            "backgroundcolor": "#E5ECF6",
            "gridcolor": "white",
            "gridwidth": 2,
            "linecolor": "white",
            "showbackground": true,
            "ticks": "",
            "zerolinecolor": "white"
           },
           "zaxis": {
            "backgroundcolor": "#E5ECF6",
            "gridcolor": "white",
            "gridwidth": 2,
            "linecolor": "white",
            "showbackground": true,
            "ticks": "",
            "zerolinecolor": "white"
           }
          },
          "shapedefaults": {
           "line": {
            "color": "#2a3f5f"
           }
          },
          "ternary": {
           "aaxis": {
            "gridcolor": "white",
            "linecolor": "white",
            "ticks": ""
           },
           "baxis": {
            "gridcolor": "white",
            "linecolor": "white",
            "ticks": ""
           },
           "bgcolor": "#E5ECF6",
           "caxis": {
            "gridcolor": "white",
            "linecolor": "white",
            "ticks": ""
           }
          },
          "title": {
           "x": 0.05
          },
          "xaxis": {
           "automargin": true,
           "gridcolor": "white",
           "linecolor": "white",
           "ticks": "",
           "title": {
            "standoff": 15
           },
           "zerolinecolor": "white",
           "zerolinewidth": 2
          },
          "yaxis": {
           "automargin": true,
           "gridcolor": "white",
           "linecolor": "white",
           "ticks": "",
           "title": {
            "standoff": 15
           },
           "zerolinecolor": "white",
           "zerolinewidth": 2
          }
         }
        },
        "xaxis": {
         "anchor": "y",
         "domain": [
          0,
          1
         ],
         "type": "date"
        },
        "yaxis": {
         "anchor": "x",
         "autorange": "reversed",
         "domain": [
          0,
          1
         ],
         "title": {
          "text": "task"
         }
        }
       }
      }
     },
     "metadata": {},
     "output_type": "display_data"
    }
   ],
   "source": [
    "print(\"Max time: \",max(df['end_time']))\n",
    "fig = px.timeline(df, x_start=\"start\", x_end=\"end\", y=\"task\", color=\"name\",hover_name='name', \n",
    "                    hover_data={'id':True,'duration':True,'start':False,'end':False,'task':False,'name':False,'source':False,'machine_id':False,'dependencies':True})\n",
    "fig.update_yaxes(autorange=\"reversed\")\n",
    "fig.show()\n",
    "#36300"
   ]
  }
 ],
 "metadata": {
  "kernelspec": {
   "display_name": "me",
   "language": "python",
   "name": "python3"
  },
  "language_info": {
   "codemirror_mode": {
    "name": "ipython",
    "version": 3
   },
   "file_extension": ".py",
   "mimetype": "text/x-python",
   "name": "python",
   "nbconvert_exporter": "python",
   "pygments_lexer": "ipython3",
   "version": "3.9.16"
  }
 },
 "nbformat": 4,
 "nbformat_minor": 2
}
