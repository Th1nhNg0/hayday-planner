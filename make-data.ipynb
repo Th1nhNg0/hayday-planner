{
 "cells": [
  {
   "cell_type": "code",
   "execution_count": 331,
   "metadata": {},
   "outputs": [],
   "source": [
    "import requests\n",
    "from bs4 import BeautifulSoup\n",
    "import re\n",
    "import json\n",
    "import PIL\n",
    "from PIL import ImageDraw\n",
    "from PIL import ImageFont\n",
    "import os\n",
    "import slugify\n",
    "from tqdm import tqdm"
   ]
  },
  {
   "cell_type": "code",
   "execution_count": 332,
   "metadata": {},
   "outputs": [],
   "source": [
    "# Define the URL of the web page\n",
    "url = 'https://hayday.fandom.com/wiki/Goods_List'\n",
    "\n",
    "# Use the requests library to fetch the web page content\n",
    "response = requests.get(url)\n",
    "\n",
    "# Check the status of the request\n",
    "# A status code of 200 means the request was successful\n",
    "if response.status_code == 200:\n",
    "    # Get the content of the response\n",
    "    page_content = response.text\n",
    "else:\n",
    "    print(\"Failed to fetch the web page. Status code: \", response.status_code)"
   ]
  },
  {
   "cell_type": "code",
   "execution_count": 333,
   "metadata": {},
   "outputs": [],
   "source": [
    "def convert_to_seconds(time_str):\n",
    "    if time_str.startswith('Instant'):\n",
    "        return 0\n",
    "    # Splitting the string by spaces to extract numbers and units\n",
    "    parts = time_str.split()\n",
    "\n",
    "    # Initializing total seconds\n",
    "    total_seconds = 0\n",
    "\n",
    "    # Iterating through each part of the time string\n",
    "    for i in range(0, len(parts), 2):\n",
    "        number = int(parts[i])\n",
    "        unit = parts[i+1]\n",
    "\n",
    "        if unit == 'h':\n",
    "            # Convert hours to seconds\n",
    "            total_seconds += number * 3600\n",
    "        elif unit == 'min':\n",
    "            # Convert minutes to seconds\n",
    "            total_seconds += number * 60\n",
    "        elif unit == 'd':\n",
    "            # Convert days to seconds\n",
    "            total_seconds += number * 86400\n",
    "\n",
    "    return total_seconds\n",
    "\n",
    "def seconds_to_time_str(seconds):\n",
    "    # Convert seconds to days, hours, minutes\n",
    "    days = seconds // 86400\n",
    "    hours = (seconds % 86400) // 3600\n",
    "    minutes = (seconds % 3600) // 60\n",
    "\n",
    "    # Create a list of strings to store the parts of the time string\n",
    "    time_parts = []\n",
    "\n",
    "    if days > 0:\n",
    "        time_parts.append(str(days))\n",
    "        time_parts.append('d')\n",
    "\n",
    "    if hours > 0:\n",
    "        time_parts.append(str(hours))\n",
    "        time_parts.append('h')\n",
    "\n",
    "    if minutes > 0:\n",
    "        time_parts.append(str(minutes))\n",
    "        time_parts.append('min')\n",
    "\n",
    "    # Join the time parts to create the time string\n",
    "    return ' '.join(time_parts)"
   ]
  },
  {
   "cell_type": "code",
   "execution_count": 334,
   "metadata": {},
   "outputs": [],
   "source": [
    "soup = BeautifulSoup(page_content, 'html.parser')\n",
    "\n",
    "tables = soup.find_all('table')\n",
    "\n",
    "# Get the table with the goods\n",
    "goods_table = tables[0]\n",
    "\n",
    "# Get the rows of the table\n",
    "goods_rows = goods_table.find_all('tr')\n",
    "\n",
    "# Get the header row\n",
    "header_row = goods_rows[0]\n",
    "\n",
    "# Get the column names\n",
    "header_row_data = header_row.find_all('th')\n",
    "\n",
    "# Create a list of column names\n",
    "column_names = []\n",
    "for header in header_row_data:\n",
    "    column_names.append(header.text.strip())\n",
    "\n",
    "# Create a list of rows\n",
    "rows = []\n",
    "for row in goods_rows[1:]:\n",
    "    row_data = row.find_all('td')\n",
    "    row_dict = {}\n",
    "    for i, cell in enumerate(row_data):\n",
    "        cell_text = cell.text.strip()\n",
    "        if i == 0:\n",
    "            cell_text = cell.find('a').text.strip()\n",
    "            # Add the image to the \"image\" column\n",
    "            image = cell.find('img')\n",
    "            if image:\n",
    "                if 'data-src' in image.attrs:\n",
    "                    row_dict['image'] = image['data-src']\n",
    "                else:\n",
    "                    row_dict['image'] = image['src']\n",
    "        if i == 3:\n",
    "            cell_text = cell_text.split('★★★')[0].strip()\n",
    "            cell_text = convert_to_seconds(cell_text)\n",
    "        if i==5:\n",
    "            \n",
    "            matches = re.finditer(r'([\\w\\s]+)\\s\\((\\d+)\\)', cell_text, re.MULTILINE)\n",
    "            needs=[] # {name: amount} \n",
    "            for matchNum, match in enumerate(matches, start=1):\n",
    "                needs.append({match.group(1).strip(): int(match.group(2).strip())})\n",
    "            row_dict[column_names[i]] = needs\n",
    "            continue\n",
    "        if i==6:\n",
    "            a = cell.find('a')\n",
    "            cell_text = a.text.strip()\n",
    "        row_dict[column_names[i]] = cell_text\n",
    "    rows.append(row_dict)\n",
    "\n",
    "# # download all images to folder images and add path to json\n",
    "# # image name is the name of the good\n",
    "# os.makedirs('images', exist_ok=True)\n",
    "# for row in tqdm(rows):\n",
    "#     if 'image' in row:\n",
    "#         image_url = row['image']\n",
    "#         image_name = row['Name']\n",
    "#         image_name = image_name.replace(' ', '_')\n",
    "#         image_name = slugify.slugify(image_name)\n",
    "#         image_name = image_name.lower()\n",
    "#         image_name = image_name + '.png'\n",
    "#         image_path = os.path.join('images', image_name)\n",
    "#         # Download the image\n",
    "#         response = requests.get(image_url)\n",
    "#         if response.status_code == 200:\n",
    "#             with open(image_path, 'wb') as f:\n",
    "#                 f.write(response.content)\n",
    "#             row['image'] = image_path\n",
    "#         else:\n",
    "#             print(\"Failed to download image. Status code: \", response.status_code)\n",
    "\n",
    "# with open('goods.json', 'w') as f:\n",
    "#     json.dump(rows, f, indent=2)"
   ]
  },
  {
   "cell_type": "code",
   "execution_count": 335,
   "metadata": {},
   "outputs": [],
   "source": [
    "with open('goods.json', 'r') as f:\n",
    "    rows = json.load(f)"
   ]
  },
  {
   "cell_type": "code",
   "execution_count": 336,
   "metadata": {},
   "outputs": [],
   "source": [
    "def find_by_name(name):\n",
    "    for row in rows:\n",
    "        if row['Name'].lower() == name.lower():\n",
    "            return row\n",
    "    return None\n",
    "\n",
    "def find_needed_for(name,count):\n",
    "    row = find_by_name(name)\n",
    "    if row is None:\n",
    "        raise Exception(f'Could not find {name}')\n",
    "    result = row.copy()\n",
    "    result['needs'] = []\n",
    "    result['count'] = count\n",
    "    for need in row['Needs']:\n",
    "        for key, value in need.items():\n",
    "            if (key==name):\n",
    "                continue\n",
    "            result['needs'].append(find_needed_for(key, value*count))\n",
    "    del result['Needs']\n",
    "    return result\n"
   ]
  },
  {
   "cell_type": "code",
   "execution_count": 337,
   "metadata": {},
   "outputs": [],
   "source": [
    "from graphviz import Digraph\n",
    "import random\n",
    "\n",
    "\n",
    "def draw_graph(node, graph):\n",
    "    if 'needs' in node:\n",
    "        for need in node['needs']:\n",
    "            graph.edge(need['Name'], node['Name'])\n",
    "            draw_graph(need, graph)\n",
    "    graph.node(node['Name'], label=f\"{node['Name']}\",\n",
    "                labelloc='b',\n",
    "                image='/Users/attorneyking/Desktop/js/'+node['image'])\n",
    "\n",
    "def draw_recipe_needed(recipe_tree):\n",
    "    graph = Digraph(comment='Hayday Goods item', format='png',strict=True)\n",
    "    graph.attr(label=f'Recipe for {recipe_tree[\"Name\"]}')\n",
    "    graph.attr(size='100,100')\n",
    "    graph.attr('node', shape='none')\n",
    "    draw_graph(recipe_tree, graph)\n",
    "    graph.render(f'recipes/{recipe_tree[\"Name\"]}')"
   ]
  },
  {
   "cell_type": "code",
   "execution_count": 338,
   "metadata": {},
   "outputs": [
    {
     "name": "stderr",
     "output_type": "stream",
     "text": [
      " 28%|██▊       | 107/380 [00:17<00:33,  8.15it/s]"
     ]
    },
    {
     "name": "stdout",
     "output_type": "stream",
     "text": [
      "Failed to draw recipe for Diamond ring\n",
      "Could not find Diamond\n"
     ]
    },
    {
     "name": "stderr",
     "output_type": "stream",
     "text": [
      " 55%|█████▌    | 209/380 [00:37<00:21,  7.81it/s]"
     ]
    },
    {
     "name": "stdout",
     "output_type": "stream",
     "text": [
      "Failed to draw recipe for Gracious bouquet\n",
      "Could not find Diamond\n"
     ]
    },
    {
     "name": "stderr",
     "output_type": "stream",
     "text": [
      "100%|██████████| 380/380 [01:07<00:00,  5.61it/s]\n"
     ]
    }
   ],
   "source": [
    "# random_row = random.choice(rows)\n",
    "for random_row in tqdm(rows):\n",
    "    try:\n",
    "        test = find_needed_for(random_row['Name'], 1)\n",
    "        draw_recipe_needed(test)\n",
    "    except Exception as e:\n",
    "        print('Failed to draw recipe for', random_row['Name'])\n",
    "        print(e)\n",
    "        continue"
   ]
  }
 ],
 "metadata": {
  "kernelspec": {
   "display_name": "rs",
   "language": "python",
   "name": "python3"
  },
  "language_info": {
   "codemirror_mode": {
    "name": "ipython",
    "version": 3
   },
   "file_extension": ".py",
   "mimetype": "text/x-python",
   "name": "python",
   "nbconvert_exporter": "python",
   "pygments_lexer": "ipython3",
   "version": "3.9.16"
  },
  "orig_nbformat": 4
 },
 "nbformat": 4,
 "nbformat_minor": 2
}
